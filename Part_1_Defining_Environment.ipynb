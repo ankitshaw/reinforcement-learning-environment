{
 "cells": [
  {
   "cell_type": "code",
   "execution_count": 4,
   "metadata": {},
   "outputs": [],
   "source": [
    "import gym\n",
    "from gym import spaces\n",
    "\n",
    "from google.colab import widgets\n",
    "\n",
    "import time\n",
    "\n",
    "import numpy as np\n",
    "\n",
    "import matplotlib.pyplot as plt\n",
    "from matplotlib.offsetbox import OffsetImage, AnnotationBbox\n"
   ]
  },
  {
   "cell_type": "code",
   "execution_count": 17,
   "metadata": {},
   "outputs": [],
   "source": [
    "\n",
    "STATES = [['MS' , '  ' , '  ' , '  ' , '  ' ],\n",
    "          ['  ' , '  ' , '  ' , '  ' , 'FB' ],\n",
    "          ['FF' , 'FF' , '  ' , 'CR' , '  ' ],\n",
    "          ['  ' , '  ' , 'FB' , '  ' , '  ' ],\n",
    "          ['FT' , '  ' , '  ' , '  ' , 'SR' ]]\n",
    "\n",
    "ACTIONS = {\n",
    "        'L': (0,-1), #Left\n",
    "        'U': (-1,0), #Up\n",
    "        'R': (0,1),  #Right\n",
    "        'D': (1,0)   #Down\n",
    "    }\n",
    "REWARDS = {\n",
    "        'FB' : -2, #Fire Ball\n",
    "        'FF' : -3, #Fire Flower\n",
    "        'CR' : 2,  #Coin Reward\n",
    "        'SR' : 4,  #Star Reward\n",
    "        'FT' : 10  #Flower Terminal State\n",
    "    }\n",
    "\n",
    "# Icons to be used for Visualization\n",
    "ICONS = {\n",
    "        '-2' : \"./images/fire_ball.png\",\n",
    "        '-3' : \"./images/fire_flower.png\",\n",
    "        '2'  : \"./images/coin_reward.png\",\n",
    "        '4'  : \"./images/star_reward.png\",\n",
    "        '10' : \"./images/flag_goal.png\",\n",
    "        \"MS\" : \"./images/mario_agent.png\",\n",
    "        \"-3MS\" : \"./images/fire_flower_mario.png\",\n",
    "        \"-2MS\" : \"./images/fire_ball_mario.png\",\n",
    "        \"2MS\"  : \"./images/coin_reward_mario.png\",\n",
    "        \"4MS\"  : \"./images/star_reward_mario.png\",\n",
    "        \"10MS\" : \"./images/flag_goal_mario.png\"\n",
    "\n",
    "    }"
   ]
  },
  {
   "cell_type": "code",
   "execution_count": 33,
   "metadata": {},
   "outputs": [],
   "source": [
    "\n",
    "class MyMarioEnvironment(gym.Env):\n",
    "    def __init__(self, environment:list[list]=STATES, actions:dict=ACTIONS, rewards:dict=REWARDS, p_transition:float=1.0, epsilon:float=None, discount_factor:float=1, environment_type:str='deterministic', max_timestep:int=10):\n",
    "        \"\"\"This function is used to initialize the Environment Class\n",
    "\n",
    "        Args:\n",
    "            environment (list[list], optional): Represents the environment defined with characters. Defaults to STATES.\n",
    "            actions (dict, optional): Map of actions allowed in the environment. Defaults to ACTIONS.\n",
    "            rewards (dict, optional): Map of rewards allowed in the environment. Defaults to REWARDS.\n",
    "            p_transition (float, optional): Probability of transition used for Stochastic Environment. Defaults to None.\n",
    "            epsilon (float, optional): Used to exploration and exploitation policy (Not used for Part1). Defaults to None.\n",
    "            discount_factor (float, optional): Used to discount the rewards (Not used for Part1). Defaults to None.\n",
    "            environment_type (str, optional): The type of environment. Takes input 'deterministic' or 'stochastic'. Defaults to None.\n",
    "        \"\"\"\n",
    "\n",
    "        self.environment = environment\n",
    "        self.env_row, self.env_col = len(self.environment), len(self.environment[0])\n",
    "        self.states, self.start_pt, self.end_pt, self.current_pt = self._get_state_space(environment, rewards)\n",
    "        self.observation_space = spaces.Discrete(self.env_row*self.env_col)\n",
    "        self.action_space = spaces.Discrete(len(actions))\n",
    "        self.environment_type = environment_type\n",
    "        self.p_transition = p_transition\n",
    "        self.discount_factor = discount_factor\n",
    "        self.epsilon = epsilon\n",
    "        self.cumulative_reward = 0\n",
    "        self.observation = self.states.flatten()\n",
    "        self.rewards = rewards\n",
    "        self.rewards_space = self._get_reward_space(environment, rewards)\n",
    "        self.render_help =  self._get_reward_space(environment, rewards)\n",
    "        self.max_timestep = max_timestep\n",
    "        self.timestep = 0\n",
    "        self.actions, self.actions_map = self._map_actions_with_index(actions)\n",
    "        self.legal_actions = actions\n",
    "\n",
    "    def step(self, action:str):\n",
    "        \"\"\"Step function that perform next action. \n",
    "\n",
    "        Args:\n",
    "            action (str): _description_\n",
    "\n",
    "        Returns:\n",
    "            observation, reward, done, info: _description_\n",
    "        \"\"\"\n",
    "        self.timestep += 1\n",
    "        done = True if self.timestep == self.max_timestep or np.array_equal(self.end_pt,self.current_pt) else False\n",
    "\n",
    "        if action not in self.legal_actions:\n",
    "            self.new_reward = 0\n",
    "        else:\n",
    "            self.new_action, self.direction = self._get_action_by_p_tran(action) #gets us the next action based on environment type\n",
    "            self.states[self.current_pt[0]][self.current_pt[1]] = self.rewards_space[self.current_pt[0]][self.current_pt[1]]\n",
    "            self.current_pt = self._get_next_pt(self.actions_map[self.new_action])\n",
    "            self.states[self.current_pt[0]][self.current_pt[1]] = -5\n",
    "            self.new_reward = self._get_reward(self.current_pt)\n",
    "            self.cumulative_reward += self.new_reward\n",
    "            self.observation = self.states.flatten()\n",
    "        \n",
    "        info = {'action_performed':self.actions[self.new_action], 'timestep':self.timestep}\n",
    "        return self.observation, self.new_reward, done, info\n",
    "        \n",
    "    def reset(self):\n",
    "        \"\"\"\n",
    "        \n",
    "        \"\"\"\n",
    "        self.timestep = 0\n",
    "        self.states, self.start_pt, self.end_pt, self.current_pt = self._get_state_space(self.environment, self.rewards)\n",
    "        self.cumulative_reward = 0\n",
    "        self.observation = self.states.flatten()\n",
    "        return self.observation\n",
    "\n",
    "    def render(self, mode:str=\"rgb\", icons:dict=ICONS):\n",
    "        if mode == \"rgb\":\n",
    "            plt.imshow(self.states) \n",
    "            plt.show()\n",
    "        elif mode == \"human\":\n",
    "            fig, ax = plt.subplots(figsize=(10, 10))\n",
    "            ax.set_xlim(0, 5)\n",
    "            ax.set_ylim(0, 5)\n",
    "            im = plt.imread(\"./images/bg.jpg\")\n",
    "            im = ax.imshow(im)\n",
    "            # Rendering the images for all states.\n",
    "            for r in range(self.env_row):\n",
    "                for c in range(self.env_col):\n",
    "                    if np.array_equal(self.current_pt,[r,c]) and np.array_equal(self.render_help[r][c],0):\n",
    "                        img = icons['MS']\n",
    "                    elif np.array_equal(self.current_pt,[r,c]) and not np.array_equal(self.render_help[r][c],0):\n",
    "                        img = icons[str(int(self.render_help[r][c]))+\"MS\"]\n",
    "                    elif not np.array_equal(self.current_pt,[r,c]) and not np.array_equal(self.rewards_space[r][c],0):\n",
    "                        img = icons[str(int(self.rewards_space[r][c]))]\n",
    "                    else:\n",
    "                        continue\n",
    "                    agent = AnnotationBbox(OffsetImage(plt.imread(img), zoom=0.5), np.add((c,4-r), [0.5, 0.5]), frameon=False)\n",
    "                    ax.add_artist(agent)      \n",
    "\n",
    "            plt.xticks([0, 1, 2, 3, 4])\n",
    "            plt.yticks([0, 1, 2, 3, 4])\n",
    "            plt.grid()  # Setting the plot to be of the type 'grid'.  \n",
    "            plt.show()\n",
    "            \n",
    "\n",
    "\n",
    "    def _get_next_pt(self, next_action):\n",
    "        self.new_pt = self.current_pt + next_action\n",
    "        if self.new_pt[0] < 0 or self.new_pt[0] == self.env_row or self.new_pt[1] < 0 or self.new_pt[1] == self.env_col:\n",
    "            return self.current_pt\n",
    "        else:\n",
    "            return self.new_pt\n",
    "\n",
    "    def _map_actions_with_index(self, actions):\n",
    "        actions_list = [\"\"]*self.action_space.n\n",
    "        action_index_map_coordinate = {}\n",
    "        index = 0\n",
    "        for key in actions:\n",
    "            actions_list[index] = key\n",
    "            action_index_map_coordinate[index] = actions[key]\n",
    "            index += 1\n",
    "        return actions_list, action_index_map_coordinate\n",
    "\n",
    "    def _get_state_space(self, environment:list[list]=None, rewards:dict=None):\n",
    "        state_space = np.zeros((self.env_row,self.env_col))\n",
    "        for r in range(self.env_row):\n",
    "            for c in range(self.env_col):\n",
    "                if environment[r][c] in rewards:\n",
    "                    state_space[r][c] = rewards[environment[r][c]]\n",
    "                \n",
    "                if environment[r][c] == 'MS':\n",
    "                    state_space[r][c] = -5 #if states is used for rendering\n",
    "                    start = np.array((r,c))\n",
    "                elif environment[r][c] == 'FT':\n",
    "                    end = np.array((r,c))\n",
    "                \n",
    "                \n",
    "        return state_space, start, end, start\n",
    "    \n",
    "    def _get_reward_space(self, environment:list[list]=None, rewards:dict=None):\n",
    "        rewards_space = np.zeros((self.env_row,self.env_col))\n",
    "        for r in range(self.env_row):\n",
    "            for c in range(self.env_col):\n",
    "                if environment[r][c] in rewards:\n",
    "                    rewards_space[r][c] = rewards[environment[r][c]]                \n",
    "        return rewards_space\n",
    "\n",
    "    def _get_action_by_p_tran(self, action):\n",
    "        if self.environment_type == \"stochastic\":\n",
    "            actions_p_tran = np.zeros(self.action_space.n)\n",
    "            actions_p_tran[self.actions.index(action)] = self.p_transition\n",
    "            for i in range(self.action_space.n):\n",
    "                if actions_p_tran[i] == 0:\n",
    "                    actions_p_tran[i] = (1-self.p_transition)/(self.action_space.n - 1)\n",
    "\n",
    "            final_action_index = np.random.choice(a = self.action_space.n, p = actions_p_tran)\n",
    "            return final_action_index, self.actions[final_action_index]\n",
    "        else:\n",
    "            return self.actions.index(action), action\n",
    "    \n",
    "    def _get_reward(self, state):\n",
    "        self.new_reward = self.rewards_space[self.current_pt[0]][self.current_pt[1]]\n",
    "        if self.rewards_space[self.current_pt[0]][self.current_pt[1]] > 0:\n",
    "            self.rewards_space[self.current_pt[0]][self.current_pt[1]] = 0\n",
    "        return self.new_reward\n",
    "\n",
    "        \n",
    "\n",
    "                    \n"
   ]
  },
  {
   "cell_type": "code",
   "execution_count": 7,
   "metadata": {},
   "outputs": [],
   "source": [
    "class RandomMarioAgent:\n",
    "  def __init__(self, env, animate):\n",
    "    self.env = env\n",
    "    self.animate = animate\n",
    "\n",
    "  def step(self, observation):\n",
    "    return np.random.choice(list(self.env.legal_actions.keys()))"
   ]
  },
  {
   "cell_type": "code",
   "execution_count": 38,
   "metadata": {},
   "outputs": [],
   "source": [
    "def main(env,mario):\n",
    "  obs = env.reset()\n",
    "  done = False\n",
    "\n",
    "  output_grid = widgets.Grid(1, 1)\n",
    "  with output_grid.output_to(0, 0):\n",
    "    print(\"Initial State - Step 0\")\n",
    "    env.render(mode=\"human\",icons=ICONS)\n",
    "\n",
    "  time.sleep(1)\n",
    "  cumulative_reward = 0\n",
    "  while not done:\n",
    "    action = mario.step(obs)\n",
    "    obs, reward, done, info = env.step(action)\n",
    "    cumulative_reward += reward\n",
    "    with output_grid.output_to(0, 0):\n",
    "      if mario.animate:\n",
    "        output_grid.clear_cell()\n",
    "      print(f\"State Step {info['timestep']}\")\n",
    "      print(f\"Action Taken: {action} \\nAction Performed: {info['action_performed']} \\nReward: {reward}\")\n",
    "      env.render(mode=\"human\",icons=ICONS)\n",
    "    time.sleep(1)\n",
    "  print(f'Cumulative Reward {cumulative_reward}')"
   ]
  },
  {
   "cell_type": "code",
   "execution_count": 39,
   "metadata": {},
   "outputs": [
    {
     "data": {
      "image/png": "[encoded data removed]",
      "text/plain": [
       "<Figure size 720x720 with 1 Axes>"
      ]
     },
     "metadata": {
      "needs_background": "light"
     },
     "output_type": "display_data"
    },
    {
     "data": {
      "image/png": "[encoded data removed]",
      "text/plain": [
       "<Figure size 720x720 with 1 Axes>"
      ]
     },
     "metadata": {
      "needs_background": "light"
     },
     "output_type": "display_data"
    },
    {
     "data": {
      "image/png": "[encoded data removed]",
      "text/plain": [
       "<Figure size 720x720 with 1 Axes>"
      ]
     },
     "metadata": {
      "needs_background": "light"
     },
     "output_type": "display_data"
    },
    {
     "name": "stdout",
     "output_type": "stream",
     "text": [
      "./images/fire_flower_mario.png\n"
     ]
    },
    {
     "data": {
      "image/png": "[encoded data removed]",
      "text/plain": [
       "<Figure size 720x720 with 1 Axes>"
      ]
     },
     "metadata": {
      "needs_background": "light"
     },
     "output_type": "display_data"
    },
    {
     "data": {
      "image/png": "[encoded data removed]",
      "text/plain": [
       "<Figure size 720x720 with 1 Axes>"
      ]
     },
     "metadata": {
      "needs_background": "light"
     },
     "output_type": "display_data"
    },
    {
     "name": "stdout",
     "output_type": "stream",
     "text": [
      "./images/coin_reward_mario.png\n"
     ]
    },
    {
     "data": {
      "image/png": "[encoded data removed]",
      "text/plain": [
       "<Figure size 720x720 with 1 Axes>"
      ]
     },
     "metadata": {
      "needs_background": "light"
     },
     "output_type": "display_data"
    },
    {
     "data": {
      "image/png": "[encoded data removed]",
      "text/plain": [
       "<Figure size 720x720 with 1 Axes>"
      ]
     },
     "metadata": {
      "needs_background": "light"
     },
     "output_type": "display_data"
    },
    {
     "name": "stdout",
     "output_type": "stream",
     "text": [
      "./images/fire_ball_mario.png\n"
     ]
    },
    {
     "data": {
      "image/png": "[encoded data removed]",
      "text/plain": [
       "<Figure size 720x720 with 1 Axes>"
      ]
     },
     "metadata": {
      "needs_background": "light"
     },
     "output_type": "display_data"
    },
    {
     "data": {
      "image/png": "[encoded data removed]",
      "text/plain": [
       "<Figure size 720x720 with 1 Axes>"
      ]
     },
     "metadata": {
      "needs_background": "light"
     },
     "output_type": "display_data"
    },
    {
     "data": {
      "image/png": "[encoded data removed]",
      "text/plain": [
       "<Figure size 720x720 with 1 Axes>"
      ]
     },
     "metadata": {
      "needs_background": "light"
     },
     "output_type": "display_data"
    },
    {
     "name": "stdout",
     "output_type": "stream",
     "text": [
      "./images/flag_goal_mario.png\n"
     ]
    },
    {
     "data": {
      "image/png": "[encoded data removed]",
      "text/plain": [
       "<Figure size 720x720 with 1 Axes>"
      ]
     },
     "metadata": {
      "needs_background": "light"
     },
     "output_type": "display_data"
    }
   ],
   "source": [
    "env = MyMarioEnvironment(environment=STATES,actions=ACTIONS,rewards=REWARDS,p_transition=1.0,epsilon=1.0,discount_factor=1,max_timestep=20)\n",
    "env.render(mode=\"human\",icons=ICONS)\n",
    "for action in ['D','R','D','R','R','D','L','L','D','L']:\n",
    "    observation, reward, done, info = env.step(action)\n",
    "    env.render(mode=\"human\",icons=ICONS)\n",
    "    if done:\n",
    "        break"
   ]
  },
  {
   "cell_type": "code",
   "execution_count": 41,
   "metadata": {},
   "outputs": [
    {
     "data": {},
     "metadata": {
      "outputarea": {
       "add_tags": [
        "outputarea_id6"
       ],
       "nodisplay": true,
       "remove_tags": []
      }
     },
     "output_type": "display_data"
    },
    {
     "data": {
      "text/html": [
       "<style>\n",
       "       table#id6, #id6 > tbody > tr > th, #id6 > tbody > tr > td {\n",
       "         border: 1px solid lightgray;\n",
       "         border-collapse:collapse;\n",
       "         \n",
       "        }</style>"
      ],
      "text/plain": [
       "<IPython.core.display.HTML object>"
      ]
     },
     "metadata": {},
     "output_type": "display_data"
    },
    {
     "data": {
      "text/html": [
       "<table id=id6><tr><td id=id6-0-0></td></tr></table>"
      ],
      "text/plain": [
       "<IPython.core.display.HTML object>"
      ]
     },
     "metadata": {},
     "output_type": "display_data"
    },
    {
     "data": {},
     "metadata": {
      "outputarea": {
       "add_tags": [],
       "nodisplay": true,
       "remove_tags": [
        "outputarea_id6"
       ]
      }
     },
     "output_type": "display_data"
    },
    {
     "data": {},
     "metadata": {
      "outputarea": {
       "add_tags": [
        "outputarea_id6"
       ],
       "nodisplay": true,
       "remove_tags": []
      }
     },
     "output_type": "display_data"
    },
    {
     "data": {},
     "metadata": {
      "outputarea": {
       "add_tags": [
        "id6-0-0"
       ],
       "nodisplay": true,
       "remove_tags": []
      }
     },
     "output_type": "display_data"
    },
    {
     "data": {
      "application/javascript": "window[\"99c103e6-3555-11ed-917f-51b5dc9b8eee\"] = google.colab.output.getActiveOutputArea();\n//# sourceURL=js_ef252efd80",
      "text/plain": [
       "<IPython.core.display.Javascript object>"
      ]
     },
     "metadata": {},
     "output_type": "display_data"
    },
    {
     "data": {
      "application/javascript": "window[\"99c13104-3555-11ed-917f-51b5dc9b8eee\"] = document.querySelector(\"#id6-0-0\");\n//# sourceURL=js_e3fba7cb1e",
      "text/plain": [
       "<IPython.core.display.Javascript object>"
      ]
     },
     "metadata": {},
     "output_type": "display_data"
    },
    {
     "data": {
      "application/javascript": "window[\"99c15c92-3555-11ed-917f-51b5dc9b8eee\"] = google.colab.output.setActiveOutputArea(window[\"99c13104-3555-11ed-917f-51b5dc9b8eee\"]);\n//# sourceURL=js_90eabed1b9",
      "text/plain": [
       "<IPython.core.display.Javascript object>"
      ]
     },
     "metadata": {},
     "output_type": "display_data"
    },
    {
     "data": {},
     "metadata": {
      "outputarea": {
       "add_tags": [
        "user_output"
       ],
       "nodisplay": true,
       "remove_tags": []
      }
     },
     "output_type": "display_data"
    },
    {
     "name": "stdout",
     "output_type": "stream",
     "text": [
      "Initial State - Step 0\n"
     ]
    },
    {
     "data": {
      "image/png": "[encoded data removed]",
      "text/plain": [
       "<Figure size 720x720 with 1 Axes>"
      ]
     },
     "metadata": {
      "needs_background": "light"
     },
     "output_type": "display_data"
    },
    {
     "data": {},
     "metadata": {
      "outputarea": {
       "add_tags": [],
       "nodisplay": true,
       "remove_tags": [
        "user_output"
       ]
      }
     },
     "output_type": "display_data"
    },
    {
     "data": {
      "application/javascript": "window[\"99f2e870-3555-11ed-917f-51b5dc9b8eee\"] = google.colab.output.setActiveOutputArea(window[\"99c103e6-3555-11ed-917f-51b5dc9b8eee\"]);\n//# sourceURL=js_25aa2b71d1",
      "text/plain": [
       "<IPython.core.display.Javascript object>"
      ]
     },
     "metadata": {},
     "output_type": "display_data"
    },
    {
     "data": {},
     "metadata": {
      "outputarea": {
       "add_tags": [],
       "nodisplay": true,
       "remove_tags": [
        "id6-0-0"
       ]
      }
     },
     "output_type": "display_data"
    },
    {
     "data": {},
     "metadata": {
      "outputarea": {
       "add_tags": [],
       "nodisplay": true,
       "remove_tags": [
        "outputarea_id6"
       ]
      }
     },
     "output_type": "display_data"
    },
    {
     "data": {},
     "metadata": {
      "outputarea": {
       "add_tags": [
        "outputarea_id6"
       ],
       "nodisplay": true,
       "remove_tags": []
      }
     },
     "output_type": "display_data"
    },
    {
     "data": {},
     "metadata": {
      "outputarea": {
       "add_tags": [
        "id6-0-0"
       ],
       "nodisplay": true,
       "remove_tags": []
      }
     },
     "output_type": "display_data"
    },
    {
     "data": {
      "application/javascript": "window[\"9a8cda52-3555-11ed-917f-51b5dc9b8eee\"] = google.colab.output.getActiveOutputArea();\n//# sourceURL=js_f4c6918a05",
      "text/plain": [
       "<IPython.core.display.Javascript object>"
      ]
     },
     "metadata": {},
     "output_type": "display_data"
    },
    {
     "data": {
      "application/javascript": "window[\"9a8d2278-3555-11ed-917f-51b5dc9b8eee\"] = document.querySelector(\"#id6-0-0\");\n//# sourceURL=js_328ef50021",
      "text/plain": [
       "<IPython.core.display.Javascript object>"
      ]
     },
     "metadata": {},
     "output_type": "display_data"
    },
    {
     "data": {
      "application/javascript": "window[\"9a8d5766-3555-11ed-917f-51b5dc9b8eee\"] = google.colab.output.setActiveOutputArea(window[\"9a8d2278-3555-11ed-917f-51b5dc9b8eee\"]);\n//# sourceURL=js_a5000290fa",
      "text/plain": [
       "<IPython.core.display.Javascript object>"
      ]
     },
     "metadata": {},
     "output_type": "display_data"
    },
    {
     "data": {},
     "metadata": {
      "outputarea": {
       "add_tags": [
        "user_output"
       ],
       "nodisplay": true,
       "remove_tags": []
      }
     },
     "output_type": "display_data"
    },
    {
     "name": "stdout",
     "output_type": "stream",
     "text": [
      "State Step 1\n",
      "Action Taken: L \n",
      "Action Performed: L \n",
      "Reward: 0.0\n"
     ]
    },
    {
     "data": {
      "image/png": "[encoded data removed]",
      "text/plain": [
       "<Figure size 720x720 with 1 Axes>"
      ]
     },
     "metadata": {
      "needs_background": "light"
     },
     "output_type": "display_data"
    },
    {
     "data": {},
     "metadata": {
      "outputarea": {
       "add_tags": [],
       "nodisplay": true,
       "remove_tags": [
        "user_output"
       ]
      }
     },
     "output_type": "display_data"
    },
    {
     "data": {
      "application/javascript": "window[\"9ac253f8-3555-11ed-917f-51b5dc9b8eee\"] = google.colab.output.setActiveOutputArea(window[\"9a8cda52-3555-11ed-917f-51b5dc9b8eee\"]);\n//# sourceURL=js_6a2480c4f7",
      "text/plain": [
       "<IPython.core.display.Javascript object>"
      ]
     },
     "metadata": {},
     "output_type": "display_data"
    },
    {
     "data": {},
     "metadata": {
      "outputarea": {
       "add_tags": [],
       "nodisplay": true,
       "remove_tags": [
        "id6-0-0"
       ]
      }
     },
     "output_type": "display_data"
    },
    {
     "data": {},
     "metadata": {
      "outputarea": {
       "add_tags": [],
       "nodisplay": true,
       "remove_tags": [
        "outputarea_id6"
       ]
      }
     },
     "output_type": "display_data"
    },
    {
     "data": {},
     "metadata": {
      "outputarea": {
       "add_tags": [
        "outputarea_id6"
       ],
       "nodisplay": true,
       "remove_tags": []
      }
     },
     "output_type": "display_data"
    },
    {
     "data": {},
     "metadata": {
      "outputarea": {
       "add_tags": [
        "id6-0-0"
       ],
       "nodisplay": true,
       "remove_tags": []
      }
     },
     "output_type": "display_data"
    },
    {
     "data": {
      "application/javascript": "window[\"9b5c48be-3555-11ed-917f-51b5dc9b8eee\"] = google.colab.output.getActiveOutputArea();\n//# sourceURL=js_abf183dbe8",
      "text/plain": [
       "<IPython.core.display.Javascript object>"
      ]
     },
     "metadata": {},
     "output_type": "display_data"
    },
    {
     "data": {
      "application/javascript": "window[\"9b5c8540-3555-11ed-917f-51b5dc9b8eee\"] = document.querySelector(\"#id6-0-0\");\n//# sourceURL=js_2306f5229d",
      "text/plain": [
       "<IPython.core.display.Javascript object>"
      ]
     },
     "metadata": {},
     "output_type": "display_data"
    },
    {
     "data": {
      "application/javascript": "window[\"9b5cb646-3555-11ed-917f-51b5dc9b8eee\"] = google.colab.output.setActiveOutputArea(window[\"9b5c8540-3555-11ed-917f-51b5dc9b8eee\"]);\n//# sourceURL=js_defc91071a",
      "text/plain": [
       "<IPython.core.display.Javascript object>"
      ]
     },
     "metadata": {},
     "output_type": "display_data"
    },
    {
     "data": {},
     "metadata": {
      "outputarea": {
       "add_tags": [
        "user_output"
       ],
       "nodisplay": true,
       "remove_tags": []
      }
     },
     "output_type": "display_data"
    },
    {
     "name": "stdout",
     "output_type": "stream",
     "text": [
      "State Step 2\n",
      "Action Taken: U \n",
      "Action Performed: U \n",
      "Reward: 0.0\n"
     ]
    },
    {
     "data": {
      "image/png": "[encoded data removed]",
      "text/plain": [
       "<Figure size 720x720 with 1 Axes>"
      ]
     },
     "metadata": {
      "needs_background": "light"
     },
     "output_type": "display_data"
    },
    {
     "data": {},
     "metadata": {
      "outputarea": {
       "add_tags": [],
       "nodisplay": true,
       "remove_tags": [
        "user_output"
       ]
      }
     },
     "output_type": "display_data"
    },
    {
     "data": {
      "application/javascript": "window[\"9b8ed11c-3555-11ed-917f-51b5dc9b8eee\"] = google.colab.output.setActiveOutputArea(window[\"9b5c48be-3555-11ed-917f-51b5dc9b8eee\"]);\n//# sourceURL=js_af68a6fb25",
      "text/plain": [
       "<IPython.core.display.Javascript object>"
      ]
     },
     "metadata": {},
     "output_type": "display_data"
    },
    {
     "data": {},
     "metadata": {
      "outputarea": {
       "add_tags": [],
       "nodisplay": true,
       "remove_tags": [
        "id6-0-0"
       ]
      }
     },
     "output_type": "display_data"
    },
    {
     "data": {},
     "metadata": {
      "outputarea": {
       "add_tags": [],
       "nodisplay": true,
       "remove_tags": [
        "outputarea_id6"
       ]
      }
     },
     "output_type": "display_data"
    },
    {
     "data": {},
     "metadata": {
      "outputarea": {
       "add_tags": [
        "outputarea_id6"
       ],
       "nodisplay": true,
       "remove_tags": []
      }
     },
     "output_type": "display_data"
    },
    {
     "data": {},
     "metadata": {
      "outputarea": {
       "add_tags": [
        "id6-0-0"
       ],
       "nodisplay": true,
       "remove_tags": []
      }
     },
     "output_type": "display_data"
    },
    {
     "data": {
      "application/javascript": "window[\"9c28b0fc-3555-11ed-917f-51b5dc9b8eee\"] = google.colab.output.getActiveOutputArea();\n//# sourceURL=js_fef43dcda8",
      "text/plain": [
       "<IPython.core.display.Javascript object>"
      ]
     },
     "metadata": {},
     "output_type": "display_data"
    },
    {
     "data": {
      "application/javascript": "window[\"9c28f88c-3555-11ed-917f-51b5dc9b8eee\"] = document.querySelector(\"#id6-0-0\");\n//# sourceURL=js_5ff328c1c2",
      "text/plain": [
       "<IPython.core.display.Javascript object>"
      ]
     },
     "metadata": {},
     "output_type": "display_data"
    },
    {
     "data": {
      "application/javascript": "window[\"9c293770-3555-11ed-917f-51b5dc9b8eee\"] = google.colab.output.setActiveOutputArea(window[\"9c28f88c-3555-11ed-917f-51b5dc9b8eee\"]);\n//# sourceURL=js_ece10426b0",
      "text/plain": [
       "<IPython.core.display.Javascript object>"
      ]
     },
     "metadata": {},
     "output_type": "display_data"
    },
    {
     "data": {},
     "metadata": {
      "outputarea": {
       "add_tags": [
        "user_output"
       ],
       "nodisplay": true,
       "remove_tags": []
      }
     },
     "output_type": "display_data"
    },
    {
     "name": "stdout",
     "output_type": "stream",
     "text": [
      "State Step 3\n",
      "Action Taken: L \n",
      "Action Performed: L \n",
      "Reward: 0.0\n"
     ]
    },
    {
     "data": {
      "image/png": "[encoded data removed]",
      "text/plain": [
       "<Figure size 720x720 with 1 Axes>"
      ]
     },
     "metadata": {
      "needs_background": "light"
     },
     "output_type": "display_data"
    },
    {
     "data": {},
     "metadata": {
      "outputarea": {
       "add_tags": [],
       "nodisplay": true,
       "remove_tags": [
        "user_output"
       ]
      }
     },
     "output_type": "display_data"
    },
    {
     "data": {
      "application/javascript": "window[\"9c60a3ea-3555-11ed-917f-51b5dc9b8eee\"] = google.colab.output.setActiveOutputArea(window[\"9c28b0fc-3555-11ed-917f-51b5dc9b8eee\"]);\n//# sourceURL=js_45ed0e19e7",
      "text/plain": [
       "<IPython.core.display.Javascript object>"
      ]
     },
     "metadata": {},
     "output_type": "display_data"
    },
    {
     "data": {},
     "metadata": {
      "outputarea": {
       "add_tags": [],
       "nodisplay": true,
       "remove_tags": [
        "id6-0-0"
       ]
      }
     },
     "output_type": "display_data"
    },
    {
     "data": {},
     "metadata": {
      "outputarea": {
       "add_tags": [],
       "nodisplay": true,
       "remove_tags": [
        "outputarea_id6"
       ]
      }
     },
     "output_type": "display_data"
    },
    {
     "data": {},
     "metadata": {
      "outputarea": {
       "add_tags": [
        "outputarea_id6"
       ],
       "nodisplay": true,
       "remove_tags": []
      }
     },
     "output_type": "display_data"
    },
    {
     "data": {},
     "metadata": {
      "outputarea": {
       "add_tags": [
        "id6-0-0"
       ],
       "nodisplay": true,
       "remove_tags": []
      }
     },
     "output_type": "display_data"
    },
    {
     "data": {
      "application/javascript": "window[\"9cfaa544-3555-11ed-917f-51b5dc9b8eee\"] = google.colab.output.getActiveOutputArea();\n//# sourceURL=js_8fd6170a63",
      "text/plain": [
       "<IPython.core.display.Javascript object>"
      ]
     },
     "metadata": {},
     "output_type": "display_data"
    },
    {
     "data": {
      "application/javascript": "window[\"9cfae626-3555-11ed-917f-51b5dc9b8eee\"] = document.querySelector(\"#id6-0-0\");\n//# sourceURL=js_7250fb4eed",
      "text/plain": [
       "<IPython.core.display.Javascript object>"
      ]
     },
     "metadata": {},
     "output_type": "display_data"
    },
    {
     "data": {
      "application/javascript": "window[\"9cfb43f0-3555-11ed-917f-51b5dc9b8eee\"] = google.colab.output.setActiveOutputArea(window[\"9cfae626-3555-11ed-917f-51b5dc9b8eee\"]);\n//# sourceURL=js_0f44fa2211",
      "text/plain": [
       "<IPython.core.display.Javascript object>"
      ]
     },
     "metadata": {},
     "output_type": "display_data"
    },
    {
     "data": {},
     "metadata": {
      "outputarea": {
       "add_tags": [
        "user_output"
       ],
       "nodisplay": true,
       "remove_tags": []
      }
     },
     "output_type": "display_data"
    },
    {
     "name": "stdout",
     "output_type": "stream",
     "text": [
      "State Step 4\n",
      "Action Taken: L \n",
      "Action Performed: L \n",
      "Reward: 0.0\n"
     ]
    },
    {
     "data": {
      "image/png": "[encoded data removed]",
      "text/plain": [
       "<Figure size 720x720 with 1 Axes>"
      ]
     },
     "metadata": {
      "needs_background": "light"
     },
     "output_type": "display_data"
    },
    {
     "data": {},
     "metadata": {
      "outputarea": {
       "add_tags": [],
       "nodisplay": true,
       "remove_tags": [
        "user_output"
       ]
      }
     },
     "output_type": "display_data"
    },
    {
     "data": {
      "application/javascript": "window[\"9d37f8a4-3555-11ed-917f-51b5dc9b8eee\"] = google.colab.output.setActiveOutputArea(window[\"9cfaa544-3555-11ed-917f-51b5dc9b8eee\"]);\n//# sourceURL=js_30ab15006b",
      "text/plain": [
       "<IPython.core.display.Javascript object>"
      ]
     },
     "metadata": {},
     "output_type": "display_data"
    },
    {
     "data": {},
     "metadata": {
      "outputarea": {
       "add_tags": [],
       "nodisplay": true,
       "remove_tags": [
        "id6-0-0"
       ]
      }
     },
     "output_type": "display_data"
    },
    {
     "data": {},
     "metadata": {
      "outputarea": {
       "add_tags": [],
       "nodisplay": true,
       "remove_tags": [
        "outputarea_id6"
       ]
      }
     },
     "output_type": "display_data"
    },
    {
     "data": {},
     "metadata": {
      "outputarea": {
       "add_tags": [
        "outputarea_id6"
       ],
       "nodisplay": true,
       "remove_tags": []
      }
     },
     "output_type": "display_data"
    },
    {
     "data": {},
     "metadata": {
      "outputarea": {
       "add_tags": [
        "id6-0-0"
       ],
       "nodisplay": true,
       "remove_tags": []
      }
     },
     "output_type": "display_data"
    },
    {
     "data": {
      "application/javascript": "window[\"9dd2007a-3555-11ed-917f-51b5dc9b8eee\"] = google.colab.output.getActiveOutputArea();\n//# sourceURL=js_73ddc8f3e8",
      "text/plain": [
       "<IPython.core.display.Javascript object>"
      ]
     },
     "metadata": {},
     "output_type": "display_data"
    },
    {
     "data": {
      "application/javascript": "window[\"9dd23e5a-3555-11ed-917f-51b5dc9b8eee\"] = document.querySelector(\"#id6-0-0\");\n//# sourceURL=js_c99b86db94",
      "text/plain": [
       "<IPython.core.display.Javascript object>"
      ]
     },
     "metadata": {},
     "output_type": "display_data"
    },
    {
     "data": {
      "application/javascript": "window[\"9dd277f8-3555-11ed-917f-51b5dc9b8eee\"] = google.colab.output.setActiveOutputArea(window[\"9dd23e5a-3555-11ed-917f-51b5dc9b8eee\"]);\n//# sourceURL=js_6f4acb9a02",
      "text/plain": [
       "<IPython.core.display.Javascript object>"
      ]
     },
     "metadata": {},
     "output_type": "display_data"
    },
    {
     "data": {},
     "metadata": {
      "outputarea": {
       "add_tags": [
        "user_output"
       ],
       "nodisplay": true,
       "remove_tags": []
      }
     },
     "output_type": "display_data"
    },
    {
     "name": "stdout",
     "output_type": "stream",
     "text": [
      "State Step 5\n",
      "Action Taken: L \n",
      "Action Performed: L \n",
      "Reward: 0.0\n"
     ]
    },
    {
     "data": {
      "image/png": "[encoded data removed]",
      "text/plain": [
       "<Figure size 720x720 with 1 Axes>"
      ]
     },
     "metadata": {
      "needs_background": "light"
     },
     "output_type": "display_data"
    },
    {
     "data": {},
     "metadata": {
      "outputarea": {
       "add_tags": [],
       "nodisplay": true,
       "remove_tags": [
        "user_output"
       ]
      }
     },
     "output_type": "display_data"
    },
    {
     "data": {
      "application/javascript": "window[\"9e059c3c-3555-11ed-917f-51b5dc9b8eee\"] = google.colab.output.setActiveOutputArea(window[\"9dd2007a-3555-11ed-917f-51b5dc9b8eee\"]);\n//# sourceURL=js_54fc16c61d",
      "text/plain": [
       "<IPython.core.display.Javascript object>"
      ]
     },
     "metadata": {},
     "output_type": "display_data"
    },
    {
     "data": {},
     "metadata": {
      "outputarea": {
       "add_tags": [],
       "nodisplay": true,
       "remove_tags": [
        "id6-0-0"
       ]
      }
     },
     "output_type": "display_data"
    },
    {
     "data": {},
     "metadata": {
      "outputarea": {
       "add_tags": [],
       "nodisplay": true,
       "remove_tags": [
        "outputarea_id6"
       ]
      }
     },
     "output_type": "display_data"
    },
    {
     "data": {},
     "metadata": {
      "outputarea": {
       "add_tags": [
        "outputarea_id6"
       ],
       "nodisplay": true,
       "remove_tags": []
      }
     },
     "output_type": "display_data"
    },
    {
     "data": {},
     "metadata": {
      "outputarea": {
       "add_tags": [
        "id6-0-0"
       ],
       "nodisplay": true,
       "remove_tags": []
      }
     },
     "output_type": "display_data"
    },
    {
     "data": {
      "application/javascript": "window[\"9e9f8ebe-3555-11ed-917f-51b5dc9b8eee\"] = google.colab.output.getActiveOutputArea();\n//# sourceURL=js_1a4cdb0301",
      "text/plain": [
       "<IPython.core.display.Javascript object>"
      ]
     },
     "metadata": {},
     "output_type": "display_data"
    },
    {
     "data": {
      "application/javascript": "window[\"9e9fd1e4-3555-11ed-917f-51b5dc9b8eee\"] = document.querySelector(\"#id6-0-0\");\n//# sourceURL=js_7da89ab149",
      "text/plain": [
       "<IPython.core.display.Javascript object>"
      ]
     },
     "metadata": {},
     "output_type": "display_data"
    },
    {
     "data": {
      "application/javascript": "window[\"9e9ffb10-3555-11ed-917f-51b5dc9b8eee\"] = google.colab.output.setActiveOutputArea(window[\"9e9fd1e4-3555-11ed-917f-51b5dc9b8eee\"]);\n//# sourceURL=js_585af23509",
      "text/plain": [
       "<IPython.core.display.Javascript object>"
      ]
     },
     "metadata": {},
     "output_type": "display_data"
    },
    {
     "data": {},
     "metadata": {
      "outputarea": {
       "add_tags": [
        "user_output"
       ],
       "nodisplay": true,
       "remove_tags": []
      }
     },
     "output_type": "display_data"
    },
    {
     "name": "stdout",
     "output_type": "stream",
     "text": [
      "State Step 6\n",
      "Action Taken: U \n",
      "Action Performed: U \n",
      "Reward: 0.0\n"
     ]
    },
    {
     "data": {
      "image/png": "[encoded data removed]",
      "text/plain": [
       "<Figure size 720x720 with 1 Axes>"
      ]
     },
     "metadata": {
      "needs_background": "light"
     },
     "output_type": "display_data"
    },
    {
     "data": {},
     "metadata": {
      "outputarea": {
       "add_tags": [],
       "nodisplay": true,
       "remove_tags": [
        "user_output"
       ]
      }
     },
     "output_type": "display_data"
    },
    {
     "data": {
      "application/javascript": "window[\"9ed1ca0a-3555-11ed-917f-51b5dc9b8eee\"] = google.colab.output.setActiveOutputArea(window[\"9e9f8ebe-3555-11ed-917f-51b5dc9b8eee\"]);\n//# sourceURL=js_eff525dae5",
      "text/plain": [
       "<IPython.core.display.Javascript object>"
      ]
     },
     "metadata": {},
     "output_type": "display_data"
    },
    {
     "data": {},
     "metadata": {
      "outputarea": {
       "add_tags": [],
       "nodisplay": true,
       "remove_tags": [
        "id6-0-0"
       ]
      }
     },
     "output_type": "display_data"
    },
    {
     "data": {},
     "metadata": {
      "outputarea": {
       "add_tags": [],
       "nodisplay": true,
       "remove_tags": [
        "outputarea_id6"
       ]
      }
     },
     "output_type": "display_data"
    },
    {
     "data": {},
     "metadata": {
      "outputarea": {
       "add_tags": [
        "outputarea_id6"
       ],
       "nodisplay": true,
       "remove_tags": []
      }
     },
     "output_type": "display_data"
    },
    {
     "data": {},
     "metadata": {
      "outputarea": {
       "add_tags": [
        "id6-0-0"
       ],
       "nodisplay": true,
       "remove_tags": []
      }
     },
     "output_type": "display_data"
    },
    {
     "data": {
      "application/javascript": "window[\"9f6ba77e-3555-11ed-917f-51b5dc9b8eee\"] = google.colab.output.getActiveOutputArea();\n//# sourceURL=js_bf7bc5d631",
      "text/plain": [
       "<IPython.core.display.Javascript object>"
      ]
     },
     "metadata": {},
     "output_type": "display_data"
    },
    {
     "data": {
      "application/javascript": "window[\"9f6be04a-3555-11ed-917f-51b5dc9b8eee\"] = document.querySelector(\"#id6-0-0\");\n//# sourceURL=js_dae4806ca4",
      "text/plain": [
       "<IPython.core.display.Javascript object>"
      ]
     },
     "metadata": {},
     "output_type": "display_data"
    },
    {
     "data": {
      "application/javascript": "window[\"9f6c1af6-3555-11ed-917f-51b5dc9b8eee\"] = google.colab.output.setActiveOutputArea(window[\"9f6be04a-3555-11ed-917f-51b5dc9b8eee\"]);\n//# sourceURL=js_a2cc28e5a9",
      "text/plain": [
       "<IPython.core.display.Javascript object>"
      ]
     },
     "metadata": {},
     "output_type": "display_data"
    },
    {
     "data": {},
     "metadata": {
      "outputarea": {
       "add_tags": [
        "user_output"
       ],
       "nodisplay": true,
       "remove_tags": []
      }
     },
     "output_type": "display_data"
    },
    {
     "name": "stdout",
     "output_type": "stream",
     "text": [
      "State Step 7\n",
      "Action Taken: U \n",
      "Action Performed: U \n",
      "Reward: 0.0\n"
     ]
    },
    {
     "data": {
      "image/png": "[encoded data removed]",
      "text/plain": [
       "<Figure size 720x720 with 1 Axes>"
      ]
     },
     "metadata": {
      "needs_background": "light"
     },
     "output_type": "display_data"
    },
    {
     "data": {},
     "metadata": {
      "outputarea": {
       "add_tags": [],
       "nodisplay": true,
       "remove_tags": [
        "user_output"
       ]
      }
     },
     "output_type": "display_data"
    },
    {
     "data": {
      "application/javascript": "window[\"9f9f43ae-3555-11ed-917f-51b5dc9b8eee\"] = google.colab.output.setActiveOutputArea(window[\"9f6ba77e-3555-11ed-917f-51b5dc9b8eee\"]);\n//# sourceURL=js_deb9f29dcc",
      "text/plain": [
       "<IPython.core.display.Javascript object>"
      ]
     },
     "metadata": {},
     "output_type": "display_data"
    },
    {
     "data": {},
     "metadata": {
      "outputarea": {
       "add_tags": [],
       "nodisplay": true,
       "remove_tags": [
        "id6-0-0"
       ]
      }
     },
     "output_type": "display_data"
    },
    {
     "data": {},
     "metadata": {
      "outputarea": {
       "add_tags": [],
       "nodisplay": true,
       "remove_tags": [
        "outputarea_id6"
       ]
      }
     },
     "output_type": "display_data"
    },
    {
     "data": {},
     "metadata": {
      "outputarea": {
       "add_tags": [
        "outputarea_id6"
       ],
       "nodisplay": true,
       "remove_tags": []
      }
     },
     "output_type": "display_data"
    },
    {
     "data": {},
     "metadata": {
      "outputarea": {
       "add_tags": [
        "id6-0-0"
       ],
       "nodisplay": true,
       "remove_tags": []
      }
     },
     "output_type": "display_data"
    },
    {
     "data": {
      "application/javascript": "window[\"a03929b0-3555-11ed-917f-51b5dc9b8eee\"] = google.colab.output.getActiveOutputArea();\n//# sourceURL=js_e5887a91ac",
      "text/plain": [
       "<IPython.core.display.Javascript object>"
      ]
     },
     "metadata": {},
     "output_type": "display_data"
    },
    {
     "data": {
      "application/javascript": "window[\"a0396f7e-3555-11ed-917f-51b5dc9b8eee\"] = document.querySelector(\"#id6-0-0\");\n//# sourceURL=js_3edfb0da16",
      "text/plain": [
       "<IPython.core.display.Javascript object>"
      ]
     },
     "metadata": {},
     "output_type": "display_data"
    },
    {
     "data": {
      "application/javascript": "window[\"a039b628-3555-11ed-917f-51b5dc9b8eee\"] = google.colab.output.setActiveOutputArea(window[\"a0396f7e-3555-11ed-917f-51b5dc9b8eee\"]);\n//# sourceURL=js_cdcc221c59",
      "text/plain": [
       "<IPython.core.display.Javascript object>"
      ]
     },
     "metadata": {},
     "output_type": "display_data"
    },
    {
     "data": {},
     "metadata": {
      "outputarea": {
       "add_tags": [
        "user_output"
       ],
       "nodisplay": true,
       "remove_tags": []
      }
     },
     "output_type": "display_data"
    },
    {
     "name": "stdout",
     "output_type": "stream",
     "text": [
      "State Step 8\n",
      "Action Taken: U \n",
      "Action Performed: U \n",
      "Reward: 0.0\n"
     ]
    },
    {
     "data": {
      "image/png": "[encoded data removed]",
      "text/plain": [
       "<Figure size 720x720 with 1 Axes>"
      ]
     },
     "metadata": {
      "needs_background": "light"
     },
     "output_type": "display_data"
    },
    {
     "data": {},
     "metadata": {
      "outputarea": {
       "add_tags": [],
       "nodisplay": true,
       "remove_tags": [
        "user_output"
       ]
      }
     },
     "output_type": "display_data"
    },
    {
     "data": {
      "application/javascript": "window[\"a0692f8e-3555-11ed-917f-51b5dc9b8eee\"] = google.colab.output.setActiveOutputArea(window[\"a03929b0-3555-11ed-917f-51b5dc9b8eee\"]);\n//# sourceURL=js_2a53c81eb7",
      "text/plain": [
       "<IPython.core.display.Javascript object>"
      ]
     },
     "metadata": {},
     "output_type": "display_data"
    },
    {
     "data": {},
     "metadata": {
      "outputarea": {
       "add_tags": [],
       "nodisplay": true,
       "remove_tags": [
        "id6-0-0"
       ]
      }
     },
     "output_type": "display_data"
    },
    {
     "data": {},
     "metadata": {
      "outputarea": {
       "add_tags": [],
       "nodisplay": true,
       "remove_tags": [
        "outputarea_id6"
       ]
      }
     },
     "output_type": "display_data"
    },
    {
     "data": {},
     "metadata": {
      "outputarea": {
       "add_tags": [
        "outputarea_id6"
       ],
       "nodisplay": true,
       "remove_tags": []
      }
     },
     "output_type": "display_data"
    },
    {
     "data": {},
     "metadata": {
      "outputarea": {
       "add_tags": [
        "id6-0-0"
       ],
       "nodisplay": true,
       "remove_tags": []
      }
     },
     "output_type": "display_data"
    },
    {
     "data": {
      "application/javascript": "window[\"a10603fe-3555-11ed-917f-51b5dc9b8eee\"] = google.colab.output.getActiveOutputArea();\n//# sourceURL=js_071e96a046",
      "text/plain": [
       "<IPython.core.display.Javascript object>"
      ]
     },
     "metadata": {},
     "output_type": "display_data"
    },
    {
     "data": {
      "application/javascript": "window[\"a1064684-3555-11ed-917f-51b5dc9b8eee\"] = document.querySelector(\"#id6-0-0\");\n//# sourceURL=js_7a8604aba7",
      "text/plain": [
       "<IPython.core.display.Javascript object>"
      ]
     },
     "metadata": {},
     "output_type": "display_data"
    },
    {
     "data": {
      "application/javascript": "window[\"a1068a68-3555-11ed-917f-51b5dc9b8eee\"] = google.colab.output.setActiveOutputArea(window[\"a1064684-3555-11ed-917f-51b5dc9b8eee\"]);\n//# sourceURL=js_4d78820b6f",
      "text/plain": [
       "<IPython.core.display.Javascript object>"
      ]
     },
     "metadata": {},
     "output_type": "display_data"
    },
    {
     "data": {},
     "metadata": {
      "outputarea": {
       "add_tags": [
        "user_output"
       ],
       "nodisplay": true,
       "remove_tags": []
      }
     },
     "output_type": "display_data"
    },
    {
     "name": "stdout",
     "output_type": "stream",
     "text": [
      "State Step 9\n",
      "Action Taken: R \n",
      "Action Performed: R \n",
      "Reward: 0.0\n"
     ]
    },
    {
     "data": {
      "image/png": "[encoded data removed]",
      "text/plain": [
       "<Figure size 720x720 with 1 Axes>"
      ]
     },
     "metadata": {
      "needs_background": "light"
     },
     "output_type": "display_data"
    },
    {
     "data": {},
     "metadata": {
      "outputarea": {
       "add_tags": [],
       "nodisplay": true,
       "remove_tags": [
        "user_output"
       ]
      }
     },
     "output_type": "display_data"
    },
    {
     "data": {
      "application/javascript": "window[\"a13dcc6c-3555-11ed-917f-51b5dc9b8eee\"] = google.colab.output.setActiveOutputArea(window[\"a10603fe-3555-11ed-917f-51b5dc9b8eee\"]);\n//# sourceURL=js_c4d0e6bf38",
      "text/plain": [
       "<IPython.core.display.Javascript object>"
      ]
     },
     "metadata": {},
     "output_type": "display_data"
    },
    {
     "data": {},
     "metadata": {
      "outputarea": {
       "add_tags": [],
       "nodisplay": true,
       "remove_tags": [
        "id6-0-0"
       ]
      }
     },
     "output_type": "display_data"
    },
    {
     "data": {},
     "metadata": {
      "outputarea": {
       "add_tags": [],
       "nodisplay": true,
       "remove_tags": [
        "outputarea_id6"
       ]
      }
     },
     "output_type": "display_data"
    },
    {
     "data": {},
     "metadata": {
      "outputarea": {
       "add_tags": [
        "outputarea_id6"
       ],
       "nodisplay": true,
       "remove_tags": []
      }
     },
     "output_type": "display_data"
    },
    {
     "data": {},
     "metadata": {
      "outputarea": {
       "add_tags": [
        "id6-0-0"
       ],
       "nodisplay": true,
       "remove_tags": []
      }
     },
     "output_type": "display_data"
    },
    {
     "data": {
      "application/javascript": "window[\"a1d7c9fc-3555-11ed-917f-51b5dc9b8eee\"] = google.colab.output.getActiveOutputArea();\n//# sourceURL=js_a078d4a45b",
      "text/plain": [
       "<IPython.core.display.Javascript object>"
      ]
     },
     "metadata": {},
     "output_type": "display_data"
    },
    {
     "data": {
      "application/javascript": "window[\"a1d7fc7e-3555-11ed-917f-51b5dc9b8eee\"] = document.querySelector(\"#id6-0-0\");\n//# sourceURL=js_f3eac0176c",
      "text/plain": [
       "<IPython.core.display.Javascript object>"
      ]
     },
     "metadata": {},
     "output_type": "display_data"
    },
    {
     "data": {
      "application/javascript": "window[\"a1d85192-3555-11ed-917f-51b5dc9b8eee\"] = google.colab.output.setActiveOutputArea(window[\"a1d7fc7e-3555-11ed-917f-51b5dc9b8eee\"]);\n//# sourceURL=js_dfe862067f",
      "text/plain": [
       "<IPython.core.display.Javascript object>"
      ]
     },
     "metadata": {},
     "output_type": "display_data"
    },
    {
     "data": {},
     "metadata": {
      "outputarea": {
       "add_tags": [
        "user_output"
       ],
       "nodisplay": true,
       "remove_tags": []
      }
     },
     "output_type": "display_data"
    },
    {
     "name": "stdout",
     "output_type": "stream",
     "text": [
      "State Step 10\n",
      "Action Taken: R \n",
      "Action Performed: R \n",
      "Reward: 0.0\n"
     ]
    },
    {
     "data": {
      "image/png": "[encoded data removed]",
      "text/plain": [
       "<Figure size 720x720 with 1 Axes>"
      ]
     },
     "metadata": {
      "needs_background": "light"
     },
     "output_type": "display_data"
    },
    {
     "data": {},
     "metadata": {
      "outputarea": {
       "add_tags": [],
       "nodisplay": true,
       "remove_tags": [
        "user_output"
       ]
      }
     },
     "output_type": "display_data"
    },
    {
     "data": {
      "application/javascript": "window[\"a20857b6-3555-11ed-917f-51b5dc9b8eee\"] = google.colab.output.setActiveOutputArea(window[\"a1d7c9fc-3555-11ed-917f-51b5dc9b8eee\"]);\n//# sourceURL=js_21e61b0cb1",
      "text/plain": [
       "<IPython.core.display.Javascript object>"
      ]
     },
     "metadata": {},
     "output_type": "display_data"
    },
    {
     "data": {},
     "metadata": {
      "outputarea": {
       "add_tags": [],
       "nodisplay": true,
       "remove_tags": [
        "id6-0-0"
       ]
      }
     },
     "output_type": "display_data"
    },
    {
     "data": {},
     "metadata": {
      "outputarea": {
       "add_tags": [],
       "nodisplay": true,
       "remove_tags": [
        "outputarea_id6"
       ]
      }
     },
     "output_type": "display_data"
    },
    {
     "name": "stdout",
     "output_type": "stream",
     "text": [
      "Cumulative Reward 0.0\n"
     ]
    }
   ],
   "source": [
    "env = MyMarioEnvironment(environment=STATES,actions=ACTIONS,rewards=REWARDS,p_transition=1.0,max_timestep=10, environment_type='deterministic')\n",
    "mario = RandomMarioAgent(env=env, animate=False)\n",
    "main(env,mario)"
   ]
  },
  {
   "cell_type": "code",
   "execution_count": 42,
   "metadata": {},
   "outputs": [
    {
     "data": {},
     "metadata": {
      "outputarea": {
       "add_tags": [
        "outputarea_id8"
       ],
       "nodisplay": true,
       "remove_tags": []
      }
     },
     "output_type": "display_data"
    },
    {
     "data": {
      "text/html": [
       "<style>\n",
       "       table#id8, #id8 > tbody > tr > th, #id8 > tbody > tr > td {\n",
       "         border: 1px solid lightgray;\n",
       "         border-collapse:collapse;\n",
       "         \n",
       "        }</style>"
      ],
      "text/plain": [
       "<IPython.core.display.HTML object>"
      ]
     },
     "metadata": {},
     "output_type": "display_data"
    },
    {
     "data": {
      "text/html": [
       "<table id=id8><tr><td id=id8-0-0></td></tr></table>"
      ],
      "text/plain": [
       "<IPython.core.display.HTML object>"
      ]
     },
     "metadata": {},
     "output_type": "display_data"
    },
    {
     "data": {},
     "metadata": {
      "outputarea": {
       "add_tags": [],
       "nodisplay": true,
       "remove_tags": [
        "outputarea_id8"
       ]
      }
     },
     "output_type": "display_data"
    },
    {
     "data": {},
     "metadata": {
      "outputarea": {
       "add_tags": [
        "outputarea_id8"
       ],
       "nodisplay": true,
       "remove_tags": []
      }
     },
     "output_type": "display_data"
    },
    {
     "data": {},
     "metadata": {
      "outputarea": {
       "add_tags": [
        "id8-0-0"
       ],
       "nodisplay": true,
       "remove_tags": []
      }
     },
     "output_type": "display_data"
    },
    {
     "data": {
      "application/javascript": "window[\"ca4b7eb0-3555-11ed-917f-51b5dc9b8eee\"] = google.colab.output.getActiveOutputArea();\n//# sourceURL=js_a2b2e33da2",
      "text/plain": [
       "<IPython.core.display.Javascript object>"
      ]
     },
     "metadata": {},
     "output_type": "display_data"
    },
    {
     "data": {
      "application/javascript": "window[\"ca4ba9b2-3555-11ed-917f-51b5dc9b8eee\"] = document.querySelector(\"#id8-0-0\");\n//# sourceURL=js_9dbe286347",
      "text/plain": [
       "<IPython.core.display.Javascript object>"
      ]
     },
     "metadata": {},
     "output_type": "display_data"
    },
    {
     "data": {
      "application/javascript": "window[\"ca4be418-3555-11ed-917f-51b5dc9b8eee\"] = google.colab.output.setActiveOutputArea(window[\"ca4ba9b2-3555-11ed-917f-51b5dc9b8eee\"]);\n//# sourceURL=js_e91e4483cc",
      "text/plain": [
       "<IPython.core.display.Javascript object>"
      ]
     },
     "metadata": {},
     "output_type": "display_data"
    },
    {
     "data": {},
     "metadata": {
      "outputarea": {
       "add_tags": [
        "user_output"
       ],
       "nodisplay": true,
       "remove_tags": []
      }
     },
     "output_type": "display_data"
    },
    {
     "name": "stdout",
     "output_type": "stream",
     "text": [
      "Initial State - Step 0\n"
     ]
    },
    {
     "data": {
      "image/png": "[encoded data removed]",
      "text/plain": [
       "<Figure size 720x720 with 1 Axes>"
      ]
     },
     "metadata": {
      "needs_background": "light"
     },
     "output_type": "display_data"
    },
    {
     "data": {},
     "metadata": {
      "outputarea": {
       "add_tags": [],
       "nodisplay": true,
       "remove_tags": [
        "user_output"
       ]
      }
     },
     "output_type": "display_data"
    },
    {
     "data": {
      "application/javascript": "window[\"ca7c91b2-3555-11ed-917f-51b5dc9b8eee\"] = google.colab.output.setActiveOutputArea(window[\"ca4b7eb0-3555-11ed-917f-51b5dc9b8eee\"]);\n//# sourceURL=js_01d97c1ab5",
      "text/plain": [
       "<IPython.core.display.Javascript object>"
      ]
     },
     "metadata": {},
     "output_type": "display_data"
    },
    {
     "data": {},
     "metadata": {
      "outputarea": {
       "add_tags": [],
       "nodisplay": true,
       "remove_tags": [
        "id8-0-0"
       ]
      }
     },
     "output_type": "display_data"
    },
    {
     "data": {},
     "metadata": {
      "outputarea": {
       "add_tags": [],
       "nodisplay": true,
       "remove_tags": [
        "outputarea_id8"
       ]
      }
     },
     "output_type": "display_data"
    },
    {
     "data": {},
     "metadata": {
      "outputarea": {
       "add_tags": [
        "outputarea_id8"
       ],
       "nodisplay": true,
       "remove_tags": []
      }
     },
     "output_type": "display_data"
    },
    {
     "data": {},
     "metadata": {
      "outputarea": {
       "add_tags": [
        "id8-0-0"
       ],
       "nodisplay": true,
       "remove_tags": []
      }
     },
     "output_type": "display_data"
    },
    {
     "data": {
      "application/javascript": "window[\"cb168dd0-3555-11ed-917f-51b5dc9b8eee\"] = google.colab.output.getActiveOutputArea();\n//# sourceURL=js_c593de9541",
      "text/plain": [
       "<IPython.core.display.Javascript object>"
      ]
     },
     "metadata": {},
     "output_type": "display_data"
    },
    {
     "data": {
      "application/javascript": "window[\"cb16cd68-3555-11ed-917f-51b5dc9b8eee\"] = document.querySelector(\"#id8-0-0\");\n//# sourceURL=js_28a1c691a0",
      "text/plain": [
       "<IPython.core.display.Javascript object>"
      ]
     },
     "metadata": {},
     "output_type": "display_data"
    },
    {
     "data": {
      "application/javascript": "window[\"cb1707ce-3555-11ed-917f-51b5dc9b8eee\"] = google.colab.output.setActiveOutputArea(window[\"cb16cd68-3555-11ed-917f-51b5dc9b8eee\"]);\n//# sourceURL=js_98c7aa1fda",
      "text/plain": [
       "<IPython.core.display.Javascript object>"
      ]
     },
     "metadata": {},
     "output_type": "display_data"
    },
    {
     "data": {},
     "metadata": {
      "outputarea": {
       "add_tags": [
        "user_output"
       ],
       "nodisplay": true,
       "remove_tags": []
      }
     },
     "output_type": "display_data"
    },
    {
     "name": "stdout",
     "output_type": "stream",
     "text": [
      "State Step 1\n",
      "Action Taken: D \n",
      "Action Performed: D \n",
      "Reward: 0.0\n"
     ]
    },
    {
     "data": {
      "image/png": "[encoded data removed]",
      "text/plain": [
       "<Figure size 720x720 with 1 Axes>"
      ]
     },
     "metadata": {
      "needs_background": "light"
     },
     "output_type": "display_data"
    },
    {
     "data": {},
     "metadata": {
      "outputarea": {
       "add_tags": [],
       "nodisplay": true,
       "remove_tags": [
        "user_output"
       ]
      }
     },
     "output_type": "display_data"
    },
    {
     "data": {
      "application/javascript": "window[\"cb46cf18-3555-11ed-917f-51b5dc9b8eee\"] = google.colab.output.setActiveOutputArea(window[\"cb168dd0-3555-11ed-917f-51b5dc9b8eee\"]);\n//# sourceURL=js_9787b61ae5",
      "text/plain": [
       "<IPython.core.display.Javascript object>"
      ]
     },
     "metadata": {},
     "output_type": "display_data"
    },
    {
     "data": {},
     "metadata": {
      "outputarea": {
       "add_tags": [],
       "nodisplay": true,
       "remove_tags": [
        "id8-0-0"
       ]
      }
     },
     "output_type": "display_data"
    },
    {
     "data": {},
     "metadata": {
      "outputarea": {
       "add_tags": [],
       "nodisplay": true,
       "remove_tags": [
        "outputarea_id8"
       ]
      }
     },
     "output_type": "display_data"
    },
    {
     "data": {},
     "metadata": {
      "outputarea": {
       "add_tags": [
        "outputarea_id8"
       ],
       "nodisplay": true,
       "remove_tags": []
      }
     },
     "output_type": "display_data"
    },
    {
     "data": {},
     "metadata": {
      "outputarea": {
       "add_tags": [
        "id8-0-0"
       ],
       "nodisplay": true,
       "remove_tags": []
      }
     },
     "output_type": "display_data"
    },
    {
     "data": {
      "application/javascript": "window[\"cbe0b178-3555-11ed-917f-51b5dc9b8eee\"] = google.colab.output.getActiveOutputArea();\n//# sourceURL=js_8df2580bbc",
      "text/plain": [
       "<IPython.core.display.Javascript object>"
      ]
     },
     "metadata": {},
     "output_type": "display_data"
    },
    {
     "data": {
      "application/javascript": "window[\"cbe0f188-3555-11ed-917f-51b5dc9b8eee\"] = document.querySelector(\"#id8-0-0\");\n//# sourceURL=js_7a9e6fe1de",
      "text/plain": [
       "<IPython.core.display.Javascript object>"
      ]
     },
     "metadata": {},
     "output_type": "display_data"
    },
    {
     "data": {
      "application/javascript": "window[\"cbe12cf2-3555-11ed-917f-51b5dc9b8eee\"] = google.colab.output.setActiveOutputArea(window[\"cbe0f188-3555-11ed-917f-51b5dc9b8eee\"]);\n//# sourceURL=js_64f3ed8232",
      "text/plain": [
       "<IPython.core.display.Javascript object>"
      ]
     },
     "metadata": {},
     "output_type": "display_data"
    },
    {
     "data": {},
     "metadata": {
      "outputarea": {
       "add_tags": [
        "user_output"
       ],
       "nodisplay": true,
       "remove_tags": []
      }
     },
     "output_type": "display_data"
    },
    {
     "name": "stdout",
     "output_type": "stream",
     "text": [
      "State Step 2\n",
      "Action Taken: U \n",
      "Action Performed: U \n",
      "Reward: 0.0\n"
     ]
    },
    {
     "data": {
      "image/png": "[encoded data removed]",
      "text/plain": [
       "<Figure size 720x720 with 1 Axes>"
      ]
     },
     "metadata": {
      "needs_background": "light"
     },
     "output_type": "display_data"
    },
    {
     "data": {},
     "metadata": {
      "outputarea": {
       "add_tags": [],
       "nodisplay": true,
       "remove_tags": [
        "user_output"
       ]
      }
     },
     "output_type": "display_data"
    },
    {
     "data": {
      "application/javascript": "window[\"cc17f296-3555-11ed-917f-51b5dc9b8eee\"] = google.colab.output.setActiveOutputArea(window[\"cbe0b178-3555-11ed-917f-51b5dc9b8eee\"]);\n//# sourceURL=js_f45a980c66",
      "text/plain": [
       "<IPython.core.display.Javascript object>"
      ]
     },
     "metadata": {},
     "output_type": "display_data"
    },
    {
     "data": {},
     "metadata": {
      "outputarea": {
       "add_tags": [],
       "nodisplay": true,
       "remove_tags": [
        "id8-0-0"
       ]
      }
     },
     "output_type": "display_data"
    },
    {
     "data": {},
     "metadata": {
      "outputarea": {
       "add_tags": [],
       "nodisplay": true,
       "remove_tags": [
        "outputarea_id8"
       ]
      }
     },
     "output_type": "display_data"
    },
    {
     "data": {},
     "metadata": {
      "outputarea": {
       "add_tags": [
        "outputarea_id8"
       ],
       "nodisplay": true,
       "remove_tags": []
      }
     },
     "output_type": "display_data"
    },
    {
     "data": {},
     "metadata": {
      "outputarea": {
       "add_tags": [
        "id8-0-0"
       ],
       "nodisplay": true,
       "remove_tags": []
      }
     },
     "output_type": "display_data"
    },
    {
     "data": {
      "application/javascript": "window[\"ccb1e37e-3555-11ed-917f-51b5dc9b8eee\"] = google.colab.output.getActiveOutputArea();\n//# sourceURL=js_ac255ff7fb",
      "text/plain": [
       "<IPython.core.display.Javascript object>"
      ]
     },
     "metadata": {},
     "output_type": "display_data"
    },
    {
     "data": {
      "application/javascript": "window[\"ccb21ccc-3555-11ed-917f-51b5dc9b8eee\"] = document.querySelector(\"#id8-0-0\");\n//# sourceURL=js_e2084d925a",
      "text/plain": [
       "<IPython.core.display.Javascript object>"
      ]
     },
     "metadata": {},
     "output_type": "display_data"
    },
    {
     "data": {
      "application/javascript": "window[\"ccb253f4-3555-11ed-917f-51b5dc9b8eee\"] = google.colab.output.setActiveOutputArea(window[\"ccb21ccc-3555-11ed-917f-51b5dc9b8eee\"]);\n//# sourceURL=js_e09dbdf7f6",
      "text/plain": [
       "<IPython.core.display.Javascript object>"
      ]
     },
     "metadata": {},
     "output_type": "display_data"
    },
    {
     "data": {},
     "metadata": {
      "outputarea": {
       "add_tags": [
        "user_output"
       ],
       "nodisplay": true,
       "remove_tags": []
      }
     },
     "output_type": "display_data"
    },
    {
     "name": "stdout",
     "output_type": "stream",
     "text": [
      "State Step 3\n",
      "Action Taken: R \n",
      "Action Performed: R \n",
      "Reward: 0.0\n"
     ]
    },
    {
     "data": {
      "image/png": "[encoded data removed]",
      "text/plain": [
       "<Figure size 720x720 with 1 Axes>"
      ]
     },
     "metadata": {
      "needs_background": "light"
     },
     "output_type": "display_data"
    },
    {
     "data": {},
     "metadata": {
      "outputarea": {
       "add_tags": [],
       "nodisplay": true,
       "remove_tags": [
        "user_output"
       ]
      }
     },
     "output_type": "display_data"
    },
    {
     "data": {
      "application/javascript": "window[\"cce51ef6-3555-11ed-917f-51b5dc9b8eee\"] = google.colab.output.setActiveOutputArea(window[\"ccb1e37e-3555-11ed-917f-51b5dc9b8eee\"]);\n//# sourceURL=js_77f62ba368",
      "text/plain": [
       "<IPython.core.display.Javascript object>"
      ]
     },
     "metadata": {},
     "output_type": "display_data"
    },
    {
     "data": {},
     "metadata": {
      "outputarea": {
       "add_tags": [],
       "nodisplay": true,
       "remove_tags": [
        "id8-0-0"
       ]
      }
     },
     "output_type": "display_data"
    },
    {
     "data": {},
     "metadata": {
      "outputarea": {
       "add_tags": [],
       "nodisplay": true,
       "remove_tags": [
        "outputarea_id8"
       ]
      }
     },
     "output_type": "display_data"
    },
    {
     "data": {},
     "metadata": {
      "outputarea": {
       "add_tags": [
        "outputarea_id8"
       ],
       "nodisplay": true,
       "remove_tags": []
      }
     },
     "output_type": "display_data"
    },
    {
     "data": {},
     "metadata": {
      "outputarea": {
       "add_tags": [
        "id8-0-0"
       ],
       "nodisplay": true,
       "remove_tags": []
      }
     },
     "output_type": "display_data"
    },
    {
     "data": {
      "application/javascript": "window[\"cd7f2ad2-3555-11ed-917f-51b5dc9b8eee\"] = google.colab.output.getActiveOutputArea();\n//# sourceURL=js_5da34bf550",
      "text/plain": [
       "<IPython.core.display.Javascript object>"
      ]
     },
     "metadata": {},
     "output_type": "display_data"
    },
    {
     "data": {
      "application/javascript": "window[\"cd7f5426-3555-11ed-917f-51b5dc9b8eee\"] = document.querySelector(\"#id8-0-0\");\n//# sourceURL=js_20fd69fa07",
      "text/plain": [
       "<IPython.core.display.Javascript object>"
      ]
     },
     "metadata": {},
     "output_type": "display_data"
    },
    {
     "data": {
      "application/javascript": "window[\"cd7f8900-3555-11ed-917f-51b5dc9b8eee\"] = google.colab.output.setActiveOutputArea(window[\"cd7f5426-3555-11ed-917f-51b5dc9b8eee\"]);\n//# sourceURL=js_defcdb73f4",
      "text/plain": [
       "<IPython.core.display.Javascript object>"
      ]
     },
     "metadata": {},
     "output_type": "display_data"
    },
    {
     "data": {},
     "metadata": {
      "outputarea": {
       "add_tags": [
        "user_output"
       ],
       "nodisplay": true,
       "remove_tags": []
      }
     },
     "output_type": "display_data"
    },
    {
     "name": "stdout",
     "output_type": "stream",
     "text": [
      "State Step 4\n",
      "Action Taken: D \n",
      "Action Performed: D \n",
      "Reward: 0.0\n"
     ]
    },
    {
     "data": {
      "image/png": "[encoded data removed]",
      "text/plain": [
       "<Figure size 720x720 with 1 Axes>"
      ]
     },
     "metadata": {
      "needs_background": "light"
     },
     "output_type": "display_data"
    },
    {
     "data": {},
     "metadata": {
      "outputarea": {
       "add_tags": [],
       "nodisplay": true,
       "remove_tags": [
        "user_output"
       ]
      }
     },
     "output_type": "display_data"
    },
    {
     "data": {
      "application/javascript": "window[\"cdb82af8-3555-11ed-917f-51b5dc9b8eee\"] = google.colab.output.setActiveOutputArea(window[\"cd7f2ad2-3555-11ed-917f-51b5dc9b8eee\"]);\n//# sourceURL=js_16e3b2677b",
      "text/plain": [
       "<IPython.core.display.Javascript object>"
      ]
     },
     "metadata": {},
     "output_type": "display_data"
    },
    {
     "data": {},
     "metadata": {
      "outputarea": {
       "add_tags": [],
       "nodisplay": true,
       "remove_tags": [
        "id8-0-0"
       ]
      }
     },
     "output_type": "display_data"
    },
    {
     "data": {},
     "metadata": {
      "outputarea": {
       "add_tags": [],
       "nodisplay": true,
       "remove_tags": [
        "outputarea_id8"
       ]
      }
     },
     "output_type": "display_data"
    },
    {
     "data": {},
     "metadata": {
      "outputarea": {
       "add_tags": [
        "outputarea_id8"
       ],
       "nodisplay": true,
       "remove_tags": []
      }
     },
     "output_type": "display_data"
    },
    {
     "data": {},
     "metadata": {
      "outputarea": {
       "add_tags": [
        "id8-0-0"
       ],
       "nodisplay": true,
       "remove_tags": []
      }
     },
     "output_type": "display_data"
    },
    {
     "data": {
      "application/javascript": "window[\"ce5254b6-3555-11ed-917f-51b5dc9b8eee\"] = google.colab.output.getActiveOutputArea();\n//# sourceURL=js_b842530191",
      "text/plain": [
       "<IPython.core.display.Javascript object>"
      ]
     },
     "metadata": {},
     "output_type": "display_data"
    },
    {
     "data": {
      "application/javascript": "window[\"ce5293d6-3555-11ed-917f-51b5dc9b8eee\"] = document.querySelector(\"#id8-0-0\");\n//# sourceURL=js_b6214e3edb",
      "text/plain": [
       "<IPython.core.display.Javascript object>"
      ]
     },
     "metadata": {},
     "output_type": "display_data"
    },
    {
     "data": {
      "application/javascript": "window[\"ce52e44e-3555-11ed-917f-51b5dc9b8eee\"] = google.colab.output.setActiveOutputArea(window[\"ce5293d6-3555-11ed-917f-51b5dc9b8eee\"]);\n//# sourceURL=js_38accc037b",
      "text/plain": [
       "<IPython.core.display.Javascript object>"
      ]
     },
     "metadata": {},
     "output_type": "display_data"
    },
    {
     "data": {},
     "metadata": {
      "outputarea": {
       "add_tags": [
        "user_output"
       ],
       "nodisplay": true,
       "remove_tags": []
      }
     },
     "output_type": "display_data"
    },
    {
     "name": "stdout",
     "output_type": "stream",
     "text": [
      "State Step 5\n",
      "Action Taken: D \n",
      "Action Performed: D \n",
      "Reward: -3.0\n",
      "./images/fire_flower_mario.png\n"
     ]
    },
    {
     "data": {
      "image/png": "[encoded data removed]",
      "text/plain": [
       "<Figure size 720x720 with 1 Axes>"
      ]
     },
     "metadata": {
      "needs_background": "light"
     },
     "output_type": "display_data"
    },
    {
     "data": {},
     "metadata": {
      "outputarea": {
       "add_tags": [],
       "nodisplay": true,
       "remove_tags": [
        "user_output"
       ]
      }
     },
     "output_type": "display_data"
    },
    {
     "data": {
      "application/javascript": "window[\"ce809556-3555-11ed-917f-51b5dc9b8eee\"] = google.colab.output.setActiveOutputArea(window[\"ce5254b6-3555-11ed-917f-51b5dc9b8eee\"]);\n//# sourceURL=js_73d1852772",
      "text/plain": [
       "<IPython.core.display.Javascript object>"
      ]
     },
     "metadata": {},
     "output_type": "display_data"
    },
    {
     "data": {},
     "metadata": {
      "outputarea": {
       "add_tags": [],
       "nodisplay": true,
       "remove_tags": [
        "id8-0-0"
       ]
      }
     },
     "output_type": "display_data"
    },
    {
     "data": {},
     "metadata": {
      "outputarea": {
       "add_tags": [],
       "nodisplay": true,
       "remove_tags": [
        "outputarea_id8"
       ]
      }
     },
     "output_type": "display_data"
    },
    {
     "data": {},
     "metadata": {
      "outputarea": {
       "add_tags": [
        "outputarea_id8"
       ],
       "nodisplay": true,
       "remove_tags": []
      }
     },
     "output_type": "display_data"
    },
    {
     "data": {},
     "metadata": {
      "outputarea": {
       "add_tags": [
        "id8-0-0"
       ],
       "nodisplay": true,
       "remove_tags": []
      }
     },
     "output_type": "display_data"
    },
    {
     "data": {
      "application/javascript": "window[\"cf1a8490-3555-11ed-917f-51b5dc9b8eee\"] = google.colab.output.getActiveOutputArea();\n//# sourceURL=js_3dc1428f47",
      "text/plain": [
       "<IPython.core.display.Javascript object>"
      ]
     },
     "metadata": {},
     "output_type": "display_data"
    },
    {
     "data": {
      "application/javascript": "window[\"cf1acaea-3555-11ed-917f-51b5dc9b8eee\"] = document.querySelector(\"#id8-0-0\");\n//# sourceURL=js_bb950d6edf",
      "text/plain": [
       "<IPython.core.display.Javascript object>"
      ]
     },
     "metadata": {},
     "output_type": "display_data"
    },
    {
     "data": {
      "application/javascript": "window[\"cf1b08f2-3555-11ed-917f-51b5dc9b8eee\"] = google.colab.output.setActiveOutputArea(window[\"cf1acaea-3555-11ed-917f-51b5dc9b8eee\"]);\n//# sourceURL=js_8b9b1007ac",
      "text/plain": [
       "<IPython.core.display.Javascript object>"
      ]
     },
     "metadata": {},
     "output_type": "display_data"
    },
    {
     "data": {},
     "metadata": {
      "outputarea": {
       "add_tags": [
        "user_output"
       ],
       "nodisplay": true,
       "remove_tags": []
      }
     },
     "output_type": "display_data"
    },
    {
     "name": "stdout",
     "output_type": "stream",
     "text": [
      "State Step 6\n",
      "Action Taken: R \n",
      "Action Performed: U \n",
      "Reward: 0.0\n"
     ]
    },
    {
     "data": {
      "image/png": "[encoded data removed]",
      "text/plain": [
       "<Figure size 720x720 with 1 Axes>"
      ]
     },
     "metadata": {
      "needs_background": "light"
     },
     "output_type": "display_data"
    },
    {
     "data": {},
     "metadata": {
      "outputarea": {
       "add_tags": [],
       "nodisplay": true,
       "remove_tags": [
        "user_output"
       ]
      }
     },
     "output_type": "display_data"
    },
    {
     "data": {
      "application/javascript": "window[\"cf4ae374-3555-11ed-917f-51b5dc9b8eee\"] = google.colab.output.setActiveOutputArea(window[\"cf1a8490-3555-11ed-917f-51b5dc9b8eee\"]);\n//# sourceURL=js_036249fd58",
      "text/plain": [
       "<IPython.core.display.Javascript object>"
      ]
     },
     "metadata": {},
     "output_type": "display_data"
    },
    {
     "data": {},
     "metadata": {
      "outputarea": {
       "add_tags": [],
       "nodisplay": true,
       "remove_tags": [
        "id8-0-0"
       ]
      }
     },
     "output_type": "display_data"
    },
    {
     "data": {},
     "metadata": {
      "outputarea": {
       "add_tags": [],
       "nodisplay": true,
       "remove_tags": [
        "outputarea_id8"
       ]
      }
     },
     "output_type": "display_data"
    },
    {
     "data": {},
     "metadata": {
      "outputarea": {
       "add_tags": [
        "outputarea_id8"
       ],
       "nodisplay": true,
       "remove_tags": []
      }
     },
     "output_type": "display_data"
    },
    {
     "data": {},
     "metadata": {
      "outputarea": {
       "add_tags": [
        "id8-0-0"
       ],
       "nodisplay": true,
       "remove_tags": []
      }
     },
     "output_type": "display_data"
    },
    {
     "data": {
      "application/javascript": "window[\"cfe531fe-3555-11ed-917f-51b5dc9b8eee\"] = google.colab.output.getActiveOutputArea();\n//# sourceURL=js_725a171905",
      "text/plain": [
       "<IPython.core.display.Javascript object>"
      ]
     },
     "metadata": {},
     "output_type": "display_data"
    },
    {
     "data": {
      "application/javascript": "window[\"cfe56dc2-3555-11ed-917f-51b5dc9b8eee\"] = document.querySelector(\"#id8-0-0\");\n//# sourceURL=js_550b569073",
      "text/plain": [
       "<IPython.core.display.Javascript object>"
      ]
     },
     "metadata": {},
     "output_type": "display_data"
    },
    {
     "data": {
      "application/javascript": "window[\"cfe5a53a-3555-11ed-917f-51b5dc9b8eee\"] = google.colab.output.setActiveOutputArea(window[\"cfe56dc2-3555-11ed-917f-51b5dc9b8eee\"]);\n//# sourceURL=js_e055b3be52",
      "text/plain": [
       "<IPython.core.display.Javascript object>"
      ]
     },
     "metadata": {},
     "output_type": "display_data"
    },
    {
     "data": {},
     "metadata": {
      "outputarea": {
       "add_tags": [
        "user_output"
       ],
       "nodisplay": true,
       "remove_tags": []
      }
     },
     "output_type": "display_data"
    },
    {
     "name": "stdout",
     "output_type": "stream",
     "text": [
      "State Step 7\n",
      "Action Taken: L \n",
      "Action Performed: U \n",
      "Reward: 0.0\n"
     ]
    },
    {
     "data": {
      "image/png": "[encoded data removed]",
      "text/plain": [
       "<Figure size 720x720 with 1 Axes>"
      ]
     },
     "metadata": {
      "needs_background": "light"
     },
     "output_type": "display_data"
    },
    {
     "data": {},
     "metadata": {
      "outputarea": {
       "add_tags": [],
       "nodisplay": true,
       "remove_tags": [
        "user_output"
       ]
      }
     },
     "output_type": "display_data"
    },
    {
     "data": {
      "application/javascript": "window[\"d0191942-3555-11ed-917f-51b5dc9b8eee\"] = google.colab.output.setActiveOutputArea(window[\"cfe531fe-3555-11ed-917f-51b5dc9b8eee\"]);\n//# sourceURL=js_47195029e2",
      "text/plain": [
       "<IPython.core.display.Javascript object>"
      ]
     },
     "metadata": {},
     "output_type": "display_data"
    },
    {
     "data": {},
     "metadata": {
      "outputarea": {
       "add_tags": [],
       "nodisplay": true,
       "remove_tags": [
        "id8-0-0"
       ]
      }
     },
     "output_type": "display_data"
    },
    {
     "data": {},
     "metadata": {
      "outputarea": {
       "add_tags": [],
       "nodisplay": true,
       "remove_tags": [
        "outputarea_id8"
       ]
      }
     },
     "output_type": "display_data"
    },
    {
     "data": {},
     "metadata": {
      "outputarea": {
       "add_tags": [
        "outputarea_id8"
       ],
       "nodisplay": true,
       "remove_tags": []
      }
     },
     "output_type": "display_data"
    },
    {
     "data": {},
     "metadata": {
      "outputarea": {
       "add_tags": [
        "id8-0-0"
       ],
       "nodisplay": true,
       "remove_tags": []
      }
     },
     "output_type": "display_data"
    },
    {
     "data": {
      "application/javascript": "window[\"d0b31c9a-3555-11ed-917f-51b5dc9b8eee\"] = google.colab.output.getActiveOutputArea();\n//# sourceURL=js_0a39124350",
      "text/plain": [
       "<IPython.core.display.Javascript object>"
      ]
     },
     "metadata": {},
     "output_type": "display_data"
    },
    {
     "data": {
      "application/javascript": "window[\"d0b35f8e-3555-11ed-917f-51b5dc9b8eee\"] = document.querySelector(\"#id8-0-0\");\n//# sourceURL=js_c691bd5884",
      "text/plain": [
       "<IPython.core.display.Javascript object>"
      ]
     },
     "metadata": {},
     "output_type": "display_data"
    },
    {
     "data": {
      "application/javascript": "window[\"d0b39d5a-3555-11ed-917f-51b5dc9b8eee\"] = google.colab.output.setActiveOutputArea(window[\"d0b35f8e-3555-11ed-917f-51b5dc9b8eee\"]);\n//# sourceURL=js_deb9a49780",
      "text/plain": [
       "<IPython.core.display.Javascript object>"
      ]
     },
     "metadata": {},
     "output_type": "display_data"
    },
    {
     "data": {},
     "metadata": {
      "outputarea": {
       "add_tags": [
        "user_output"
       ],
       "nodisplay": true,
       "remove_tags": []
      }
     },
     "output_type": "display_data"
    },
    {
     "name": "stdout",
     "output_type": "stream",
     "text": [
      "State Step 8\n",
      "Action Taken: R \n",
      "Action Performed: D \n",
      "Reward: 0.0\n"
     ]
    },
    {
     "data": {
      "image/png": "[encoded data removed]",
      "text/plain": [
       "<Figure size 720x720 with 1 Axes>"
      ]
     },
     "metadata": {
      "needs_background": "light"
     },
     "output_type": "display_data"
    },
    {
     "data": {},
     "metadata": {
      "outputarea": {
       "add_tags": [],
       "nodisplay": true,
       "remove_tags": [
        "user_output"
       ]
      }
     },
     "output_type": "display_data"
    },
    {
     "data": {
      "application/javascript": "window[\"d0e77242-3555-11ed-917f-51b5dc9b8eee\"] = google.colab.output.setActiveOutputArea(window[\"d0b31c9a-3555-11ed-917f-51b5dc9b8eee\"]);\n//# sourceURL=js_efd76c1a90",
      "text/plain": [
       "<IPython.core.display.Javascript object>"
      ]
     },
     "metadata": {},
     "output_type": "display_data"
    },
    {
     "data": {},
     "metadata": {
      "outputarea": {
       "add_tags": [],
       "nodisplay": true,
       "remove_tags": [
        "id8-0-0"
       ]
      }
     },
     "output_type": "display_data"
    },
    {
     "data": {},
     "metadata": {
      "outputarea": {
       "add_tags": [],
       "nodisplay": true,
       "remove_tags": [
        "outputarea_id8"
       ]
      }
     },
     "output_type": "display_data"
    },
    {
     "data": {},
     "metadata": {
      "outputarea": {
       "add_tags": [
        "outputarea_id8"
       ],
       "nodisplay": true,
       "remove_tags": []
      }
     },
     "output_type": "display_data"
    },
    {
     "data": {},
     "metadata": {
      "outputarea": {
       "add_tags": [
        "id8-0-0"
       ],
       "nodisplay": true,
       "remove_tags": []
      }
     },
     "output_type": "display_data"
    },
    {
     "data": {
      "application/javascript": "window[\"d1815dda-3555-11ed-917f-51b5dc9b8eee\"] = google.colab.output.getActiveOutputArea();\n//# sourceURL=js_caafc2c1c0",
      "text/plain": [
       "<IPython.core.display.Javascript object>"
      ]
     },
     "metadata": {},
     "output_type": "display_data"
    },
    {
     "data": {
      "application/javascript": "window[\"d181a0c4-3555-11ed-917f-51b5dc9b8eee\"] = document.querySelector(\"#id8-0-0\");\n//# sourceURL=js_020f23a937",
      "text/plain": [
       "<IPython.core.display.Javascript object>"
      ]
     },
     "metadata": {},
     "output_type": "display_data"
    },
    {
     "data": {
      "application/javascript": "window[\"d181ce78-3555-11ed-917f-51b5dc9b8eee\"] = google.colab.output.setActiveOutputArea(window[\"d181a0c4-3555-11ed-917f-51b5dc9b8eee\"]);\n//# sourceURL=js_25391357e5",
      "text/plain": [
       "<IPython.core.display.Javascript object>"
      ]
     },
     "metadata": {},
     "output_type": "display_data"
    },
    {
     "data": {},
     "metadata": {
      "outputarea": {
       "add_tags": [
        "user_output"
       ],
       "nodisplay": true,
       "remove_tags": []
      }
     },
     "output_type": "display_data"
    },
    {
     "name": "stdout",
     "output_type": "stream",
     "text": [
      "State Step 9\n",
      "Action Taken: L \n",
      "Action Performed: L \n",
      "Reward: 0.0\n"
     ]
    },
    {
     "data": {
      "image/png": "[encoded data removed]",
      "text/plain": [
       "<Figure size 720x720 with 1 Axes>"
      ]
     },
     "metadata": {
      "needs_background": "light"
     },
     "output_type": "display_data"
    },
    {
     "data": {},
     "metadata": {
      "outputarea": {
       "add_tags": [],
       "nodisplay": true,
       "remove_tags": [
        "user_output"
       ]
      }
     },
     "output_type": "display_data"
    },
    {
     "data": {
      "application/javascript": "window[\"d1b0f342-3555-11ed-917f-51b5dc9b8eee\"] = google.colab.output.setActiveOutputArea(window[\"d1815dda-3555-11ed-917f-51b5dc9b8eee\"]);\n//# sourceURL=js_087f5ae54d",
      "text/plain": [
       "<IPython.core.display.Javascript object>"
      ]
     },
     "metadata": {},
     "output_type": "display_data"
    },
    {
     "data": {},
     "metadata": {
      "outputarea": {
       "add_tags": [],
       "nodisplay": true,
       "remove_tags": [
        "id8-0-0"
       ]
      }
     },
     "output_type": "display_data"
    },
    {
     "data": {},
     "metadata": {
      "outputarea": {
       "add_tags": [],
       "nodisplay": true,
       "remove_tags": [
        "outputarea_id8"
       ]
      }
     },
     "output_type": "display_data"
    },
    {
     "data": {},
     "metadata": {
      "outputarea": {
       "add_tags": [
        "outputarea_id8"
       ],
       "nodisplay": true,
       "remove_tags": []
      }
     },
     "output_type": "display_data"
    },
    {
     "data": {},
     "metadata": {
      "outputarea": {
       "add_tags": [
        "id8-0-0"
       ],
       "nodisplay": true,
       "remove_tags": []
      }
     },
     "output_type": "display_data"
    },
    {
     "data": {
      "application/javascript": "window[\"d24ad00c-3555-11ed-917f-51b5dc9b8eee\"] = google.colab.output.getActiveOutputArea();\n//# sourceURL=js_6447c7cbe2",
      "text/plain": [
       "<IPython.core.display.Javascript object>"
      ]
     },
     "metadata": {},
     "output_type": "display_data"
    },
    {
     "data": {
      "application/javascript": "window[\"d24b055e-3555-11ed-917f-51b5dc9b8eee\"] = document.querySelector(\"#id8-0-0\");\n//# sourceURL=js_e0a5c2bc41",
      "text/plain": [
       "<IPython.core.display.Javascript object>"
      ]
     },
     "metadata": {},
     "output_type": "display_data"
    },
    {
     "data": {
      "application/javascript": "window[\"d24b3d3a-3555-11ed-917f-51b5dc9b8eee\"] = google.colab.output.setActiveOutputArea(window[\"d24b055e-3555-11ed-917f-51b5dc9b8eee\"]);\n//# sourceURL=js_1c0b95f597",
      "text/plain": [
       "<IPython.core.display.Javascript object>"
      ]
     },
     "metadata": {},
     "output_type": "display_data"
    },
    {
     "data": {},
     "metadata": {
      "outputarea": {
       "add_tags": [
        "user_output"
       ],
       "nodisplay": true,
       "remove_tags": []
      }
     },
     "output_type": "display_data"
    },
    {
     "name": "stdout",
     "output_type": "stream",
     "text": [
      "State Step 10\n",
      "Action Taken: D \n",
      "Action Performed: U \n",
      "Reward: 0.0\n"
     ]
    },
    {
     "data": {
      "image/png": "[encoded data removed]",
      "text/plain": [
       "<Figure size 720x720 with 1 Axes>"
      ]
     },
     "metadata": {
      "needs_background": "light"
     },
     "output_type": "display_data"
    },
    {
     "data": {},
     "metadata": {
      "outputarea": {
       "add_tags": [],
       "nodisplay": true,
       "remove_tags": [
        "user_output"
       ]
      }
     },
     "output_type": "display_data"
    },
    {
     "data": {
      "application/javascript": "window[\"d27a6678-3555-11ed-917f-51b5dc9b8eee\"] = google.colab.output.setActiveOutputArea(window[\"d24ad00c-3555-11ed-917f-51b5dc9b8eee\"]);\n//# sourceURL=js_a9dcedcdaa",
      "text/plain": [
       "<IPython.core.display.Javascript object>"
      ]
     },
     "metadata": {},
     "output_type": "display_data"
    },
    {
     "data": {},
     "metadata": {
      "outputarea": {
       "add_tags": [],
       "nodisplay": true,
       "remove_tags": [
        "id8-0-0"
       ]
      }
     },
     "output_type": "display_data"
    },
    {
     "data": {},
     "metadata": {
      "outputarea": {
       "add_tags": [],
       "nodisplay": true,
       "remove_tags": [
        "outputarea_id8"
       ]
      }
     },
     "output_type": "display_data"
    },
    {
     "name": "stdout",
     "output_type": "stream",
     "text": [
      "Cumulative Reward -3.0\n"
     ]
    }
   ],
   "source": [
    "env = MyMarioEnvironment(environment=STATES,actions=ACTIONS,rewards=REWARDS,p_transition=0.7,max_timestep=10, environment_type='stochastic')\n",
    "mario = RandomMarioAgent(env,animate=False)\n",
    "main(env,mario)"
   ]
  }
 ],
 "metadata": {
  "kernelspec": {
   "display_name": "Python 3.9.12 ('base')",
   "language": "python",
   "name": "python3"
  },
  "language_info": {
   "codemirror_mode": {
    "name": "ipython",
    "version": 3
   },
   "file_extension": ".py",
   "mimetype": "text/x-python",
   "name": "python",
   "nbconvert_exporter": "python",
   "pygments_lexer": "ipython3",
   "version": "3.9.12"
  },
  "orig_nbformat": 4,
  "vscode": {
   "interpreter": {
    "hash": "e0d439f0858c56eec0cfe097fafb28e9e852e5dab10a3d76cd1e7005c523453d"
   }
  }
 },
 "nbformat": 4,
 "nbformat_minor": 2
}
