{
 "cells": [
  {
   "cell_type": "code",
   "execution_count": 126,
   "metadata": {},
   "outputs": [],
   "source": [
    "import gym\n",
    "from gym import spaces\n",
    "\n",
    "import numpy as np\n",
    "import matplotlib.pyplot as plt\n"
   ]
  },
  {
   "cell_type": "code",
   "execution_count": 127,
   "metadata": {},
   "outputs": [],
   "source": [
    "STATES = [['S' , ' ' , ' ' , ' ' , ' ' ],\n",
    "          [' ' , ' ' , ' ' , ' ' , 'D' ],\n",
    "          ['W' , 'W' , ' ' , 'R' , ' ' ],\n",
    "          [' ' , ' ' , 'D' , ' ' , ' ' ],\n",
    "          ['T' , ' ' , ' ' , ' ' , 'G' ]]\n",
    "\n",
    "ACTIONS = {\n",
    "        'L': (0,-1),\n",
    "        'U': (-1,0),\n",
    "        'R': (0,1),\n",
    "        'D': (1,0)\n",
    "    }\n",
    "REWARDS = {\n",
    "        'D' : -2,\n",
    "        'W' : -3,\n",
    "        'R' : 2,\n",
    "        'G' : 4,\n",
    "        'T' : 10\n",
    "    }"
   ]
  },
  {
   "cell_type": "code",
   "execution_count": 133,
   "metadata": {},
   "outputs": [],
   "source": [
    "\n",
    "class MyGridEnvironment(gym.Env):\n",
    "    def __init__(self, environment:list[list]=STATES, actions:dict=ACTIONS, rewards:dict=REWARDS, p_transition:float=None, epsilon:float=None, discount_factor:float=None):\n",
    "        self.environment = environment \n",
    "        self.env_row, self.env_col = len(self.environment), len(self.environment[0])\n",
    "        self.states, self.start_pt, self.end_pt, self.current_pt = self._get_state_space(environment, rewards)\n",
    "        self.observation_space = spaces.Discrete(self.env_row*self.env_col)\n",
    "        self.action_space = spaces.Discrete(len(actions))\n",
    "        self.p_transition = p_transition\n",
    "        self.discount_factor = discount_factor\n",
    "        self.epsilon = epsilon\n",
    "        self.cumulative_reward = 0\n",
    "        self.observation = self.states.flatten()\n",
    "        self.rewards = rewards\n",
    "        self.rewards_space = self._get_reward_space(environment, rewards)\n",
    "        self.max_timestep = 100\n",
    "        self.timestep = 0\n",
    "        self.actions, self.actions_map = self._map_actions_with_index(actions)\n",
    "\n",
    "    def step(self, action:str=None):\n",
    "        self.new_action, self.direction = self._get_action_by_p_tran(action)\n",
    "        self.states[self.current_pt[0]][self.current_pt[1]] = self.rewards_space[self.current_pt[0]][self.current_pt[1]]\n",
    "        self.current_pt = self._get_next_pt(self.actions_map[self.new_action])\n",
    "        self.states[self.current_pt[0]][self.current_pt[1]] = -5\n",
    "        self.new_reward = self.rewards_space[self.current_pt[0]][self.current_pt[1]]\n",
    "        self.cumulative_reward += self.new_reward\n",
    "        self.observation = self.states.flatten()\n",
    "        done = True if self.timestep == self.max_timestep else False\n",
    "        info = {'current_pt':self.current_pt}\n",
    "        print(info)\n",
    "        return self.observation, self.new_reward, done, info\n",
    "        \n",
    "    def reset(self):\n",
    "        self.timestep = 0\n",
    "        self.states, self.start_pt, self.end_pt, self.current_pt = self._get_state_space(self.environment, self.rewards)\n",
    "        self.cumulative_reward = 0\n",
    "        self.observation = self.states.flatten()\n",
    "        return self.observation\n",
    "\n",
    "    def render(self):\n",
    "        plt.imshow(self.states)\n",
    "        plt.show()\n",
    "\n",
    "    def _get_next_pt(self, next_action):\n",
    "        self.new_pt = self.current_pt + next_action\n",
    "        if self.new_pt[0] < 0 or self.new_pt[0] == self.env_row or self.new_pt[1] < 0 or self.new_pt[1] == self.env_col:\n",
    "            return self.current_pt\n",
    "        else:\n",
    "            return self.new_pt\n",
    "\n",
    "    def _map_actions_with_index(self, actions):\n",
    "        actions_list = [\"\"]*self.action_space.n\n",
    "        action_index_map_coordinate = {}\n",
    "        index = 0\n",
    "        for key in actions:\n",
    "            actions_list[index] = key\n",
    "            action_index_map_coordinate[index] = actions[key]\n",
    "            index += 1\n",
    "        return actions_list, action_index_map_coordinate\n",
    "\n",
    "    def _get_state_space(self, environment:list[list]=None, rewards:dict=None):\n",
    "        state_space = np.zeros((self.env_row,self.env_col))\n",
    "        for r in range(self.env_row):\n",
    "            for c in range(self.env_col):\n",
    "                if environment[r][c] in rewards:\n",
    "                    state_space[r][c] = rewards[environment[r][c]]\n",
    "                \n",
    "                if environment[r][c] == 'S':\n",
    "                    state_space[r][c] = -5 #if states is used for rendering\n",
    "                    start = np.array((r,c))\n",
    "                elif environment[r][c] == 'T':\n",
    "                    end = np.array((r,c))\n",
    "                \n",
    "                \n",
    "        return state_space, start, end, start\n",
    "    \n",
    "    def _get_reward_space(self, environment:list[list]=None, rewards:dict=None):\n",
    "        rewards_space = np.zeros((self.env_row,self.env_col))\n",
    "        for r in range(self.env_row):\n",
    "            for c in range(self.env_col):\n",
    "                if environment[r][c] in rewards:\n",
    "                    rewards_space[r][c] = rewards[environment[r][c]]                \n",
    "        return rewards_space\n",
    "\n",
    "    def _get_action_by_p_tran(self, action):\n",
    "        if self.p_transition:\n",
    "            actions_p_tran = np.zeros(self.action_space.n)\n",
    "            actions_p_tran[self.actions.index(action)] = self.p_transition\n",
    "            for i in range(self.action_space.n):\n",
    "                if actions_p_tran[i] == 0:\n",
    "                    actions_p_tran[i] == (1-self.p_transition)/(self.action_space.n - 1)\n",
    "            final_action_index = np.random.choice(a = self.action_space.n, p = actions_p_tran)\n",
    "            return final_action_index, self.actions[final_action_index]\n",
    "        else:\n",
    "            return self.actions.index(action), action\n",
    "        \n",
    "\n",
    "                    \n"
   ]
  },
  {
   "cell_type": "code",
   "execution_count": 132,
   "metadata": {},
   "outputs": [
    {
     "data": {
      "image/png": "[encoded data removed]",
      "text/plain": [
       "<Figure size 432x288 with 1 Axes>"
      ]
     },
     "metadata": {
      "needs_background": "light"
     },
     "output_type": "display_data"
    },
    {
     "name": "stdout",
     "output_type": "stream",
     "text": [
      "{'current_pt': array([0, 1])}\n",
      "[ 0. 20.  0.  0.  0.  0.  0.  0.  0. -2. -3. -3.  0.  2.  0.  0.  0. -2.\n",
      "  0.  0. 10.  0.  0.  0.  4.] {'current_pt': array([0, 1])} 0.0\n"
     ]
    },
    {
     "data": {
      "image/png": "[encoded data removed]",
      "text/plain": [
       "<Figure size 432x288 with 1 Axes>"
      ]
     },
     "metadata": {
      "needs_background": "light"
     },
     "output_type": "display_data"
    },
    {
     "name": "stdout",
     "output_type": "stream",
     "text": [
      "{'current_pt': array([0, 2])}\n",
      "[ 0.  0. 20.  0.  0.  0.  0.  0.  0. -2. -3. -3.  0.  2.  0.  0.  0. -2.\n",
      "  0.  0. 10.  0.  0.  0.  4.] {'current_pt': array([0, 2])} 0.0\n"
     ]
    },
    {
     "data": {
      "image/png": "[encoded data removed]",
      "text/plain": [
       "<Figure size 432x288 with 1 Axes>"
      ]
     },
     "metadata": {
      "needs_background": "light"
     },
     "output_type": "display_data"
    },
    {
     "name": "stdout",
     "output_type": "stream",
     "text": [
      "{'current_pt': array([1, 2])}\n",
      "[ 0.  0.  0.  0.  0.  0.  0. 20.  0. -2. -3. -3.  0.  2.  0.  0.  0. -2.\n",
      "  0.  0. 10.  0.  0.  0.  4.] {'current_pt': array([1, 2])} 0.0\n"
     ]
    },
    {
     "data": {
      "image/png": "[encoded data removed]",
      "text/plain": [
       "<Figure size 432x288 with 1 Axes>"
      ]
     },
     "metadata": {
      "needs_background": "light"
     },
     "output_type": "display_data"
    },
    {
     "name": "stdout",
     "output_type": "stream",
     "text": [
      "{'current_pt': array([1, 3])}\n",
      "[ 0.  0.  0.  0.  0.  0.  0.  0. 20. -2. -3. -3.  0.  2.  0.  0.  0. -2.\n",
      "  0.  0. 10.  0.  0.  0.  4.] {'current_pt': array([1, 3])} 0.0\n"
     ]
    },
    {
     "data": {
      "image/png": "[encoded data removed]",
      "text/plain": [
       "<Figure size 432x288 with 1 Axes>"
      ]
     },
     "metadata": {
      "needs_background": "light"
     },
     "output_type": "display_data"
    },
    {
     "name": "stdout",
     "output_type": "stream",
     "text": [
      "{'current_pt': array([0, 3])}\n",
      "[ 0.  0.  0. 20.  0.  0.  0.  0.  0. -2. -3. -3.  0.  2.  0.  0.  0. -2.\n",
      "  0.  0. 10.  0.  0.  0.  4.] {'current_pt': array([0, 3])} 0.0\n"
     ]
    },
    {
     "data": {
      "image/png": "[encoded data removed]",
      "text/plain": [
       "<Figure size 432x288 with 1 Axes>"
      ]
     },
     "metadata": {
      "needs_background": "light"
     },
     "output_type": "display_data"
    },
    {
     "name": "stdout",
     "output_type": "stream",
     "text": [
      "{'current_pt': array([0, 2])}\n",
      "[ 0.  0. 20.  0.  0.  0.  0.  0.  0. -2. -3. -3.  0.  2.  0.  0.  0. -2.\n",
      "  0.  0. 10.  0.  0.  0.  4.] {'current_pt': array([0, 2])} 0.0\n"
     ]
    },
    {
     "data": {
      "image/png": "[encoded data removed]",
      "text/plain": [
       "<Figure size 432x288 with 1 Axes>"
      ]
     },
     "metadata": {
      "needs_background": "light"
     },
     "output_type": "display_data"
    },
    {
     "name": "stdout",
     "output_type": "stream",
     "text": [
      "{'current_pt': array([1, 2])}\n",
      "[ 0.  0.  0.  0.  0.  0.  0. 20.  0. -2. -3. -3.  0.  2.  0.  0.  0. -2.\n",
      "  0.  0. 10.  0.  0.  0.  4.] {'current_pt': array([1, 2])} 0.0\n"
     ]
    },
    {
     "data": {
      "image/png": "[encoded data removed]",
      "text/plain": [
       "<Figure size 432x288 with 1 Axes>"
      ]
     },
     "metadata": {
      "needs_background": "light"
     },
     "output_type": "display_data"
    },
    {
     "name": "stdout",
     "output_type": "stream",
     "text": [
      "{'current_pt': array([2, 2])}\n",
      "[ 0.  0.  0.  0.  0.  0.  0.  0.  0. -2. -3. -3. 20.  2.  0.  0.  0. -2.\n",
      "  0.  0. 10.  0.  0.  0.  4.] {'current_pt': array([2, 2])} 0.0\n"
     ]
    },
    {
     "data": {
      "image/png": "[encoded data removed]",
      "text/plain": [
       "<Figure size 432x288 with 1 Axes>"
      ]
     },
     "metadata": {
      "needs_background": "light"
     },
     "output_type": "display_data"
    },
    {
     "name": "stdout",
     "output_type": "stream",
     "text": [
      "{'current_pt': array([2, 1])}\n",
      "[ 0.  0.  0.  0.  0.  0.  0.  0.  0. -2. -3. 20.  0.  2.  0.  0.  0. -2.\n",
      "  0.  0. 10.  0.  0.  0.  4.] {'current_pt': array([2, 1])} -3.0\n"
     ]
    },
    {
     "data": {
      "image/png": "[encoded data removed]",
      "text/plain": [
       "<Figure size 432x288 with 1 Axes>"
      ]
     },
     "metadata": {
      "needs_background": "light"
     },
     "output_type": "display_data"
    },
    {
     "name": "stdout",
     "output_type": "stream",
     "text": [
      "{'current_pt': array([3, 1])}\n",
      "[ 0.  0.  0.  0.  0.  0.  0.  0.  0. -2. -3. -3.  0.  2.  0.  0. 20. -2.\n",
      "  0.  0. 10.  0.  0.  0.  4.] {'current_pt': array([3, 1])} 0.0\n"
     ]
    },
    {
     "data": {
      "image/png": "[encoded data removed]",
      "text/plain": [
       "<Figure size 432x288 with 1 Axes>"
      ]
     },
     "metadata": {
      "needs_background": "light"
     },
     "output_type": "display_data"
    },
    {
     "name": "stdout",
     "output_type": "stream",
     "text": [
      "{'current_pt': array([4, 1])}\n",
      "[ 0.  0.  0.  0.  0.  0.  0.  0.  0. -2. -3. -3.  0.  2.  0.  0.  0. -2.\n",
      "  0.  0. 10. 20.  0.  0.  4.] {'current_pt': array([4, 1])} 0.0\n"
     ]
    },
    {
     "data": {
      "image/png": "[encoded data removed]",
      "text/plain": [
       "<Figure size 432x288 with 1 Axes>"
      ]
     },
     "metadata": {
      "needs_background": "light"
     },
     "output_type": "display_data"
    },
    {
     "name": "stdout",
     "output_type": "stream",
     "text": [
      "{'current_pt': array([4, 1])}\n",
      "[ 0.  0.  0.  0.  0.  0.  0.  0.  0. -2. -3. -3.  0.  2.  0.  0.  0. -2.\n",
      "  0.  0. 10. 20.  0.  0.  4.] {'current_pt': array([4, 1])} 0.0\n"
     ]
    },
    {
     "data": {
      "image/png": "[encoded data removed]",
      "text/plain": [
       "<Figure size 432x288 with 1 Axes>"
      ]
     },
     "metadata": {
      "needs_background": "light"
     },
     "output_type": "display_data"
    },
    {
     "name": "stdout",
     "output_type": "stream",
     "text": [
      "{'current_pt': array([4, 0])}\n",
      "[ 0.  0.  0.  0.  0.  0.  0.  0.  0. -2. -3. -3.  0.  2.  0.  0.  0. -2.\n",
      "  0.  0. 20.  0.  0.  0.  4.] {'current_pt': array([4, 0])} 10.0\n"
     ]
    },
    {
     "data": {
      "image/png": "[encoded data removed]",
      "text/plain": [
       "<Figure size 432x288 with 1 Axes>"
      ]
     },
     "metadata": {
      "needs_background": "light"
     },
     "output_type": "display_data"
    }
   ],
   "source": [
    "env = MyGridEnvironment(environment=STATES,actions=ACTIONS,rewards=REWARDS,p_transition=1.0,epsilon=1.0,discount_factor=1)\n",
    "env.render()\n",
    "for action in ['R','R','D','R','U','L','D','D','L','D','D','D','L']:\n",
    "    observation, reward, done, info = env.step(action)\n",
    "    print(observation,info,reward)\n",
    "    if done:\n",
    "        env.render()\n",
    "        break\n",
    "    else:\n",
    "        env.render()\n",
    "    \n",
    "#     print('----------------')\n",
    "# sto.reset()\n",
    "# print(\"The Final Reward is\",reward)"
   ]
  }
 ],
 "metadata": {
  "kernelspec": {
   "display_name": "Python 3.9.12 ('base')",
   "language": "python",
   "name": "python3"
  },
  "language_info": {
   "codemirror_mode": {
    "name": "ipython",
    "version": 3
   },
   "file_extension": ".py",
   "mimetype": "text/x-python",
   "name": "python",
   "nbconvert_exporter": "python",
   "pygments_lexer": "ipython3",
   "version": "3.9.12"
  },
  "orig_nbformat": 4,
  "vscode": {
   "interpreter": {
    "hash": "e0d439f0858c56eec0cfe097fafb28e9e852e5dab10a3d76cd1e7005c523453d"
   }
  }
 },
 "nbformat": 4,
 "nbformat_minor": 2
}
