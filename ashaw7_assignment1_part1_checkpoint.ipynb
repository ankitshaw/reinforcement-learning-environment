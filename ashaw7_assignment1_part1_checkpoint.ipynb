{
 "cells": [
  {
   "cell_type": "markdown",
   "metadata": {},
   "source": [
    "# Import Statements"
   ]
  },
  {
   "cell_type": "code",
   "execution_count": 2,
   "metadata": {},
   "outputs": [],
   "source": [
    "import gym\n",
    "from gym import spaces\n",
    "\n",
    "from google.colab import widgets\n",
    "\n",
    "import time\n",
    "\n",
    "import numpy as np\n",
    "\n",
    "import matplotlib.pyplot as plt\n",
    "from matplotlib.offsetbox import OffsetImage, AnnotationBbox\n"
   ]
  },
  {
   "cell_type": "markdown",
   "metadata": {},
   "source": [
    "# Global Definitions for our Environment"
   ]
  },
  {
   "cell_type": "code",
   "execution_count": 3,
   "metadata": {},
   "outputs": [],
   "source": [
    "\n",
    "STATES = [['MS' , '  ' , '  ' , '  ' , '  ' ],\n",
    "          ['  ' , '  ' , '  ' , '  ' , 'FB' ],\n",
    "          ['FF' , 'FF' , '  ' , 'CR' , '  ' ],\n",
    "          ['  ' , '  ' , 'FB' , '  ' , '  ' ],\n",
    "          ['FT' , '  ' , '  ' , '  ' , 'SR' ]]\n",
    "\n",
    "ACTIONS = {\n",
    "        'L': (0,-1), #Left\n",
    "        'U': (-1,0), #Up\n",
    "        'R': (0,1),  #Right\n",
    "        'D': (1,0)   #Down\n",
    "    }\n",
    "REWARDS = {\n",
    "        'FB' : -2, #Fire Ball\n",
    "        'FF' : -3, #Fire Flower\n",
    "        'CR' : 2,  #Coin Reward\n",
    "        'SR' : 4,  #Star Reward\n",
    "        'FT' : 10  #Flag Terminal State\n",
    "    }\n",
    "\n",
    "# Icons to be used for Visualization\n",
    "ICONS = {\n",
    "        '-2' : \"./images/fire_ball.png\",\n",
    "        '-3' : \"./images/fire_flower.png\",\n",
    "        '2'  : \"./images/coin_reward.png\",\n",
    "        '4'  : \"./images/star_reward.png\",\n",
    "        '10' : \"./images/flag_goal.png\",\n",
    "        \"MS\" : \"./images/mario_agent.png\",\n",
    "        \"-3MS\" : \"./images/fire_flower_mario.png\",\n",
    "        \"-2MS\" : \"./images/fire_ball_mario.png\",\n",
    "        \"2MS\"  : \"./images/coin_reward_mario.png\",\n",
    "        \"4MS\"  : \"./images/star_reward_mario.png\",\n",
    "        \"10MS\" : \"./images/flag_goal_mario.png\"\n",
    "\n",
    "    }"
   ]
  },
  {
   "cell_type": "markdown",
   "metadata": {},
   "source": [
    "# Environment Definition"
   ]
  },
  {
   "cell_type": "code",
   "execution_count": 4,
   "metadata": {},
   "outputs": [],
   "source": [
    "\n",
    "class MyMarioEnvironment(gym.Env):\n",
    "    def __init__(self, environment:list[list]=STATES, actions:dict=ACTIONS, rewards:dict=REWARDS, p_transition:float=1.0, epsilon:float=None, discount_factor:float=1, environment_type:str='deterministic', max_timestep:int=10):\n",
    "        \"\"\"This function is used to initialize the Environment Class\n",
    "\n",
    "        Args:\n",
    "            environment (list[list], optional): Represents the environment defined with characters. Defaults to STATES.\n",
    "            actions (dict, optional): Map of actions allowed in the environment. Defaults to ACTIONS.\n",
    "            rewards (dict, optional): Map of rewards allowed in the environment. Defaults to REWARDS.\n",
    "            p_transition (float, optional): Probability of transition used for Stochastic Environment. Defaults to None. If value is 1 then acts as Deterministic environment\n",
    "            epsilon (float, optional): Used to exploration and exploitation policy (Not used for Part1). Defaults to None.\n",
    "            discount_factor (float, optional): Used to discount the rewards (Not used for Part1). Defaults to None.\n",
    "            environment_type (str, optional): The type of environment. Takes input 'deterministic' or 'stochastic'. Defaults to None.\n",
    "        \"\"\"\n",
    "\n",
    "        self.environment = environment\n",
    "        self.env_row, self.env_col = len(self.environment), len(self.environment[0])\n",
    "        self.states, self.start_pt, self.end_pt, self.current_pt = self._get_state_space(environment, rewards)\n",
    "        self.observation_space = spaces.Discrete(self.env_row*self.env_col)\n",
    "        self.action_space = spaces.Discrete(len(actions))\n",
    "        self.environment_type = environment_type\n",
    "        self.p_transition = p_transition\n",
    "        self.discount_factor = discount_factor\n",
    "        self.epsilon = epsilon\n",
    "        self.cumulative_reward = 0\n",
    "        self.observation = self.states.flatten()\n",
    "        self.rewards = rewards\n",
    "        self.rewards_space = self._get_reward_space(environment, rewards)\n",
    "        self.render_help =  self._get_reward_space(environment, rewards)\n",
    "        self.max_timestep = max_timestep\n",
    "        self.timestep = 0\n",
    "        self.actions, self.actions_map = self._map_actions_with_index(actions)\n",
    "        self.legal_actions = actions\n",
    "\n",
    "    def step(self, action:str):\n",
    "        \"\"\"Step function that perform next action. \n",
    "\n",
    "        Args:\n",
    "            action (str): the action taken at a time step\n",
    "\n",
    "        Returns:\n",
    "            observation, reward, done, info: return the observation after action, the reward received, whether max timestep reached and other debug info\n",
    "        \"\"\"\n",
    "        self.timestep += 1\n",
    "        done = True if self.timestep == self.max_timestep or np.array_equal(self.end_pt,self.current_pt) else False\n",
    "\n",
    "        if action not in self.legal_actions:\n",
    "            self.new_reward = 0\n",
    "        else:\n",
    "            self.new_action, self.direction = self._get_action_by_p_tran(action) #gets us the next action based on environment type\n",
    "            self.states[self.current_pt[0]][self.current_pt[1]] = self.rewards_space[self.current_pt[0]][self.current_pt[1]]\n",
    "            self.current_pt = self._get_next_pt(self.actions_map[self.new_action])\n",
    "            self.states[self.current_pt[0]][self.current_pt[1]] = -5\n",
    "            self.new_reward = self._get_reward(self.current_pt)\n",
    "            self.cumulative_reward += self.new_reward\n",
    "            self.observation = self.states.flatten()\n",
    "        \n",
    "        info = {'action_performed':self.actions[self.new_action], 'timestep':self.timestep}\n",
    "        return self.observation, self.new_reward, done, info\n",
    "        \n",
    "    def reset(self):\n",
    "        \"\"\"Reset's the environment with initial values\n",
    "\n",
    "        Returns:\n",
    "            observation: return the observation after reset\n",
    "        \"\"\"\n",
    "        self.timestep = 0\n",
    "        self.states, self.start_pt, self.end_pt, self.current_pt = self._get_state_space(self.environment, self.rewards)\n",
    "        self.cumulative_reward = 0\n",
    "        self.observation = self.states.flatten()\n",
    "        return self.observation\n",
    "\n",
    "    def render(self, mode:str=\"rgb\", icons:dict=ICONS):\n",
    "        \"\"\"Renders the environment\n",
    "\n",
    "        Args:\n",
    "            mode (str, optional): Mode of rendering whether RGB or pictorial. Defaults to \"rgb\".\n",
    "            icons (dict, optional): Image locations for pictorial mode. Defaults to ICONS.\n",
    "        \"\"\"\n",
    "        if mode == \"rgb\":\n",
    "            plt.imshow(self.states) \n",
    "            plt.show()\n",
    "        elif mode == \"human\":\n",
    "            fig, ax = plt.subplots(figsize=(10, 10))\n",
    "            ax.set_xlim(0, 5)\n",
    "            ax.set_ylim(0, 5)\n",
    "            im = plt.imread(\"./images/bg.jpg\")\n",
    "            im = ax.imshow(im)\n",
    "            # Rendering the images for all states.\n",
    "            for r in range(self.env_row):\n",
    "                for c in range(self.env_col):\n",
    "                    if np.array_equal(self.current_pt,[r,c]) and np.array_equal(self.render_help[r][c],0):\n",
    "                        img = icons['MS']\n",
    "                    elif np.array_equal(self.current_pt,[r,c]) and not np.array_equal(self.render_help[r][c],0):\n",
    "                        img = icons[str(int(self.render_help[r][c]))+\"MS\"]\n",
    "                    elif not np.array_equal(self.current_pt,[r,c]) and not np.array_equal(self.rewards_space[r][c],0):\n",
    "                        img = icons[str(int(self.rewards_space[r][c]))]\n",
    "                    else:\n",
    "                        continue\n",
    "                    agent = AnnotationBbox(OffsetImage(plt.imread(img), zoom=0.5), np.add((c,4-r), [0.5, 0.5]), frameon=False)\n",
    "                    ax.add_artist(agent)      \n",
    "\n",
    "            plt.xticks([0, 1, 2, 3, 4])\n",
    "            plt.yticks([0, 1, 2, 3, 4])\n",
    "            plt.grid()  # Setting the plot to be of the type 'grid'.  \n",
    "            plt.show()\n",
    "            \n",
    "\n",
    "\n",
    "    def _get_next_pt(self, next_action):\n",
    "        self.new_pt = self.current_pt + next_action\n",
    "        if self.new_pt[0] < 0 or self.new_pt[0] == self.env_row or self.new_pt[1] < 0 or self.new_pt[1] == self.env_col:\n",
    "            return self.current_pt\n",
    "        else:\n",
    "            return self.new_pt\n",
    "\n",
    "    def _map_actions_with_index(self, actions):\n",
    "        actions_list = [\"\"]*self.action_space.n\n",
    "        action_index_map_coordinate = {}\n",
    "        index = 0\n",
    "        for key in actions:\n",
    "            actions_list[index] = key\n",
    "            action_index_map_coordinate[index] = actions[key]\n",
    "            index += 1\n",
    "        return actions_list, action_index_map_coordinate\n",
    "\n",
    "    def _get_state_space(self, environment:list[list]=None, rewards:dict=None):\n",
    "        state_space = np.zeros((self.env_row,self.env_col))\n",
    "        for r in range(self.env_row):\n",
    "            for c in range(self.env_col):\n",
    "                if environment[r][c] in rewards:\n",
    "                    state_space[r][c] = rewards[environment[r][c]]\n",
    "                \n",
    "                if environment[r][c] == 'MS':\n",
    "                    state_space[r][c] = -5 #if states is used for rendering\n",
    "                    start = np.array((r,c))\n",
    "                elif environment[r][c] == 'FT':\n",
    "                    end = np.array((r,c))\n",
    "                \n",
    "                \n",
    "        return state_space, start, end, start\n",
    "    \n",
    "    def _get_reward_space(self, environment:list[list]=None, rewards:dict=None):\n",
    "        rewards_space = np.zeros((self.env_row,self.env_col))\n",
    "        for r in range(self.env_row):\n",
    "            for c in range(self.env_col):\n",
    "                if environment[r][c] in rewards:\n",
    "                    rewards_space[r][c] = rewards[environment[r][c]]                \n",
    "        return rewards_space\n",
    "\n",
    "    def _get_action_by_p_tran(self, action):\n",
    "        if self.environment_type == \"stochastic\":\n",
    "            actions_p_tran = np.zeros(self.action_space.n)\n",
    "            actions_p_tran[self.actions.index(action)] = self.p_transition\n",
    "            for i in range(self.action_space.n):\n",
    "                if actions_p_tran[i] == 0:\n",
    "                    actions_p_tran[i] = (1-self.p_transition)/(self.action_space.n - 1)\n",
    "\n",
    "            final_action_index = np.random.choice(a = self.action_space.n, p = actions_p_tran)\n",
    "            return final_action_index, self.actions[final_action_index]\n",
    "        else:\n",
    "            return self.actions.index(action), action\n",
    "    \n",
    "    def _get_reward(self, state):\n",
    "        self.new_reward = self.rewards_space[self.current_pt[0]][self.current_pt[1]]\n",
    "        if self.rewards_space[self.current_pt[0]][self.current_pt[1]] > 0:\n",
    "            self.rewards_space[self.current_pt[0]][self.current_pt[1]] = 0\n",
    "        return self.new_reward\n",
    "\n",
    "        \n",
    "\n",
    "                    \n"
   ]
  },
  {
   "cell_type": "markdown",
   "metadata": {},
   "source": [
    "# Random Agent"
   ]
  },
  {
   "cell_type": "code",
   "execution_count": 5,
   "metadata": {},
   "outputs": [],
   "source": [
    "class RandomMarioAgent:\n",
    "  def __init__(self, env, animate):\n",
    "    self.env = env\n",
    "    self.animate = animate\n",
    "\n",
    "  def step(self, observation):\n",
    "    return np.random.choice(list(self.env.legal_actions.keys()))\n",
    "  \n",
    "  def run(self):\n",
    "    obs = self.env.reset()\n",
    "    done = False\n",
    "\n",
    "    output_grid = widgets.Grid(1, 1)\n",
    "    with output_grid.output_to(0, 0):\n",
    "      print(\"Initial State - Step 0\")\n",
    "      self.env.render(mode=\"human\",icons=ICONS)\n",
    "\n",
    "    time.sleep(1)\n",
    "    cumulative_reward = 0\n",
    "    while not done:\n",
    "      action = self.step(obs)\n",
    "      obs, reward, done, info = self.env.step(action)\n",
    "      cumulative_reward += reward\n",
    "      with output_grid.output_to(0, 0):\n",
    "        if self.animate:\n",
    "          output_grid.clear_cell()\n",
    "        print(f\"State Step {info['timestep']}\")\n",
    "        print(f\"Action Taken: {action} \\nAction Performed: {info['action_performed']} \\nReward: {reward}\")\n",
    "        self.env.render(mode=\"human\",icons=ICONS)\n",
    "      time.sleep(1)\n",
    "    print(f'Cumulative Reward {cumulative_reward}')"
   ]
  },
  {
   "cell_type": "markdown",
   "metadata": {},
   "source": [
    "# Custom Run Code \n",
    "\n",
    "Uncomment to run as per your need"
   ]
  },
  {
   "cell_type": "code",
   "execution_count": 6,
   "metadata": {},
   "outputs": [],
   "source": [
    "# env = MyMarioEnvironment(environment=STATES,actions=ACTIONS,rewards=REWARDS,p_transition=1.0,epsilon=1.0,discount_factor=1,max_timestep=20)\n",
    "# env.render(mode=\"human\",icons=ICONS)\n",
    "# for action in ['D','R','D','R','R','D','L','L','D','L']:\n",
    "#     observation, reward, done, info = env.step(action)\n",
    "#     env.render(mode=\"human\",icons=ICONS)\n",
    "#     if done:\n",
    "#         break"
   ]
  },
  {
   "cell_type": "markdown",
   "metadata": {},
   "source": [
    "Deterministic Environment Run"
   ]
  },
  {
   "cell_type": "code",
   "execution_count": 15,
   "metadata": {},
   "outputs": [
    {
     "data": {},
     "metadata": {
      "outputarea": {
       "add_tags": [
        "outputarea_id2"
       ],
       "nodisplay": true,
       "remove_tags": []
      }
     },
     "output_type": "display_data"
    },
    {
     "data": {
      "text/html": [
       "<style>\n",
       "       table#id2, #id2 > tbody > tr > th, #id2 > tbody > tr > td {\n",
       "         border: 1px solid lightgray;\n",
       "         border-collapse:collapse;\n",
       "         \n",
       "        }</style>"
      ],
      "text/plain": [
       "<IPython.core.display.HTML object>"
      ]
     },
     "metadata": {},
     "output_type": "display_data"
    },
    {
     "data": {
      "text/html": [
       "<table id=id2><tr><td id=id2-0-0></td></tr></table>"
      ],
      "text/plain": [
       "<IPython.core.display.HTML object>"
      ]
     },
     "metadata": {},
     "output_type": "display_data"
    },
    {
     "data": {},
     "metadata": {
      "outputarea": {
       "add_tags": [],
       "nodisplay": true,
       "remove_tags": [
        "outputarea_id2"
       ]
      }
     },
     "output_type": "display_data"
    },
    {
     "data": {},
     "metadata": {
      "outputarea": {
       "add_tags": [
        "outputarea_id2"
       ],
       "nodisplay": true,
       "remove_tags": []
      }
     },
     "output_type": "display_data"
    },
    {
     "data": {},
     "metadata": {
      "outputarea": {
       "add_tags": [
        "id2-0-0"
       ],
       "nodisplay": true,
       "remove_tags": []
      }
     },
     "output_type": "display_data"
    },
    {
     "data": {
      "application/javascript": "window[\"a96829a6-3559-11ed-a726-f72866db89f1\"] = google.colab.output.getActiveOutputArea();\n//# sourceURL=js_fd7dca93c3",
      "text/plain": [
       "<IPython.core.display.Javascript object>"
      ]
     },
     "metadata": {},
     "output_type": "display_data"
    },
    {
     "data": {
      "application/javascript": "window[\"a9685610-3559-11ed-a726-f72866db89f1\"] = document.querySelector(\"#id2-0-0\");\n//# sourceURL=js_ca321e4534",
      "text/plain": [
       "<IPython.core.display.Javascript object>"
      ]
     },
     "metadata": {},
     "output_type": "display_data"
    },
    {
     "data": {
      "application/javascript": "window[\"a9688522-3559-11ed-a726-f72866db89f1\"] = google.colab.output.setActiveOutputArea(window[\"a9685610-3559-11ed-a726-f72866db89f1\"]);\n//# sourceURL=js_e71b42d2d7",
      "text/plain": [
       "<IPython.core.display.Javascript object>"
      ]
     },
     "metadata": {},
     "output_type": "display_data"
    },
    {
     "data": {},
     "metadata": {
      "outputarea": {
       "add_tags": [
        "user_output"
       ],
       "nodisplay": true,
       "remove_tags": []
      }
     },
     "output_type": "display_data"
    },
    {
     "name": "stdout",
     "output_type": "stream",
     "text": [
      "Initial State - Step 0\n"
     ]
    },
    {
     "data": {
      "image/png": "[encoded data removed]",
      "text/plain": [
       "<Figure size 720x720 with 1 Axes>"
      ]
     },
     "metadata": {
      "needs_background": "light"
     },
     "output_type": "display_data"
    },
    {
     "data": {},
     "metadata": {
      "outputarea": {
       "add_tags": [],
       "nodisplay": true,
       "remove_tags": [
        "user_output"
       ]
      }
     },
     "output_type": "display_data"
    },
    {
     "data": {
      "application/javascript": "window[\"a99a7eb0-3559-11ed-a726-f72866db89f1\"] = google.colab.output.setActiveOutputArea(window[\"a96829a6-3559-11ed-a726-f72866db89f1\"]);\n//# sourceURL=js_506363fda7",
      "text/plain": [
       "<IPython.core.display.Javascript object>"
      ]
     },
     "metadata": {},
     "output_type": "display_data"
    },
    {
     "data": {},
     "metadata": {
      "outputarea": {
       "add_tags": [],
       "nodisplay": true,
       "remove_tags": [
        "id2-0-0"
       ]
      }
     },
     "output_type": "display_data"
    },
    {
     "data": {},
     "metadata": {
      "outputarea": {
       "add_tags": [],
       "nodisplay": true,
       "remove_tags": [
        "outputarea_id2"
       ]
      }
     },
     "output_type": "display_data"
    },
    {
     "data": {},
     "metadata": {
      "outputarea": {
       "add_tags": [
        "outputarea_id2"
       ],
       "nodisplay": true,
       "remove_tags": []
      }
     },
     "output_type": "display_data"
    },
    {
     "data": {},
     "metadata": {
      "outputarea": {
       "add_tags": [
        "id2-0-0"
       ],
       "nodisplay": true,
       "remove_tags": []
      }
     },
     "output_type": "display_data"
    },
    {
     "data": {
      "application/javascript": "window[\"aa34ad1e-3559-11ed-a726-f72866db89f1\"] = google.colab.output.getActiveOutputArea();\n//# sourceURL=js_39be6626cc",
      "text/plain": [
       "<IPython.core.display.Javascript object>"
      ]
     },
     "metadata": {},
     "output_type": "display_data"
    },
    {
     "data": {
      "application/javascript": "window[\"aa34ec20-3559-11ed-a726-f72866db89f1\"] = document.querySelector(\"#id2-0-0\");\n//# sourceURL=js_13af00c2b2",
      "text/plain": [
       "<IPython.core.display.Javascript object>"
      ]
     },
     "metadata": {},
     "output_type": "display_data"
    },
    {
     "data": {
      "application/javascript": "window[\"aa35279e-3559-11ed-a726-f72866db89f1\"] = google.colab.output.setActiveOutputArea(window[\"aa34ec20-3559-11ed-a726-f72866db89f1\"]);\n//# sourceURL=js_c8ade023e4",
      "text/plain": [
       "<IPython.core.display.Javascript object>"
      ]
     },
     "metadata": {},
     "output_type": "display_data"
    },
    {
     "data": {},
     "metadata": {
      "outputarea": {
       "add_tags": [
        "user_output"
       ],
       "nodisplay": true,
       "remove_tags": []
      }
     },
     "output_type": "display_data"
    },
    {
     "name": "stdout",
     "output_type": "stream",
     "text": [
      "State Step 1\n",
      "Action Taken: R \n",
      "Action Performed: R \n",
      "Reward: 0.0\n"
     ]
    },
    {
     "data": {
      "image/png": "[encoded data removed]",
      "text/plain": [
       "<Figure size 720x720 with 1 Axes>"
      ]
     },
     "metadata": {
      "needs_background": "light"
     },
     "output_type": "display_data"
    },
    {
     "data": {},
     "metadata": {
      "outputarea": {
       "add_tags": [],
       "nodisplay": true,
       "remove_tags": [
        "user_output"
       ]
      }
     },
     "output_type": "display_data"
    },
    {
     "data": {
      "application/javascript": "window[\"aa70e54a-3559-11ed-a726-f72866db89f1\"] = google.colab.output.setActiveOutputArea(window[\"aa34ad1e-3559-11ed-a726-f72866db89f1\"]);\n//# sourceURL=js_c2be137b5e",
      "text/plain": [
       "<IPython.core.display.Javascript object>"
      ]
     },
     "metadata": {},
     "output_type": "display_data"
    },
    {
     "data": {},
     "metadata": {
      "outputarea": {
       "add_tags": [],
       "nodisplay": true,
       "remove_tags": [
        "id2-0-0"
       ]
      }
     },
     "output_type": "display_data"
    },
    {
     "data": {},
     "metadata": {
      "outputarea": {
       "add_tags": [],
       "nodisplay": true,
       "remove_tags": [
        "outputarea_id2"
       ]
      }
     },
     "output_type": "display_data"
    },
    {
     "data": {},
     "metadata": {
      "outputarea": {
       "add_tags": [
        "outputarea_id2"
       ],
       "nodisplay": true,
       "remove_tags": []
      }
     },
     "output_type": "display_data"
    },
    {
     "data": {},
     "metadata": {
      "outputarea": {
       "add_tags": [
        "id2-0-0"
       ],
       "nodisplay": true,
       "remove_tags": []
      }
     },
     "output_type": "display_data"
    },
    {
     "data": {
      "application/javascript": "window[\"ab0b0350-3559-11ed-a726-f72866db89f1\"] = google.colab.output.getActiveOutputArea();\n//# sourceURL=js_e3bc6fd767",
      "text/plain": [
       "<IPython.core.display.Javascript object>"
      ]
     },
     "metadata": {},
     "output_type": "display_data"
    },
    {
     "data": {
      "application/javascript": "window[\"ab0b5c6a-3559-11ed-a726-f72866db89f1\"] = document.querySelector(\"#id2-0-0\");\n//# sourceURL=js_6f6cc87c27",
      "text/plain": [
       "<IPython.core.display.Javascript object>"
      ]
     },
     "metadata": {},
     "output_type": "display_data"
    },
    {
     "data": {
      "application/javascript": "window[\"ab0b991e-3559-11ed-a726-f72866db89f1\"] = google.colab.output.setActiveOutputArea(window[\"ab0b5c6a-3559-11ed-a726-f72866db89f1\"]);\n//# sourceURL=js_3b1bd37dd9",
      "text/plain": [
       "<IPython.core.display.Javascript object>"
      ]
     },
     "metadata": {},
     "output_type": "display_data"
    },
    {
     "data": {},
     "metadata": {
      "outputarea": {
       "add_tags": [
        "user_output"
       ],
       "nodisplay": true,
       "remove_tags": []
      }
     },
     "output_type": "display_data"
    },
    {
     "name": "stdout",
     "output_type": "stream",
     "text": [
      "State Step 2\n",
      "Action Taken: R \n",
      "Action Performed: R \n",
      "Reward: 0.0\n"
     ]
    },
    {
     "data": {
      "image/png": "[encoded data removed]",
      "text/plain": [
       "<Figure size 720x720 with 1 Axes>"
      ]
     },
     "metadata": {
      "needs_background": "light"
     },
     "output_type": "display_data"
    },
    {
     "data": {},
     "metadata": {
      "outputarea": {
       "add_tags": [],
       "nodisplay": true,
       "remove_tags": [
        "user_output"
       ]
      }
     },
     "output_type": "display_data"
    },
    {
     "data": {
      "application/javascript": "window[\"ab3f5376-3559-11ed-a726-f72866db89f1\"] = google.colab.output.setActiveOutputArea(window[\"ab0b0350-3559-11ed-a726-f72866db89f1\"]);\n//# sourceURL=js_0ab3b8307b",
      "text/plain": [
       "<IPython.core.display.Javascript object>"
      ]
     },
     "metadata": {},
     "output_type": "display_data"
    },
    {
     "data": {},
     "metadata": {
      "outputarea": {
       "add_tags": [],
       "nodisplay": true,
       "remove_tags": [
        "id2-0-0"
       ]
      }
     },
     "output_type": "display_data"
    },
    {
     "data": {},
     "metadata": {
      "outputarea": {
       "add_tags": [],
       "nodisplay": true,
       "remove_tags": [
        "outputarea_id2"
       ]
      }
     },
     "output_type": "display_data"
    },
    {
     "data": {},
     "metadata": {
      "outputarea": {
       "add_tags": [
        "outputarea_id2"
       ],
       "nodisplay": true,
       "remove_tags": []
      }
     },
     "output_type": "display_data"
    },
    {
     "data": {},
     "metadata": {
      "outputarea": {
       "add_tags": [
        "id2-0-0"
       ],
       "nodisplay": true,
       "remove_tags": []
      }
     },
     "output_type": "display_data"
    },
    {
     "data": {
      "application/javascript": "window[\"abd98900-3559-11ed-a726-f72866db89f1\"] = google.colab.output.getActiveOutputArea();\n//# sourceURL=js_edc9cd3a5a",
      "text/plain": [
       "<IPython.core.display.Javascript object>"
      ]
     },
     "metadata": {},
     "output_type": "display_data"
    },
    {
     "data": {
      "application/javascript": "window[\"abd9d9dc-3559-11ed-a726-f72866db89f1\"] = document.querySelector(\"#id2-0-0\");\n//# sourceURL=js_97fe018691",
      "text/plain": [
       "<IPython.core.display.Javascript object>"
      ]
     },
     "metadata": {},
     "output_type": "display_data"
    },
    {
     "data": {
      "application/javascript": "window[\"abda0736-3559-11ed-a726-f72866db89f1\"] = google.colab.output.setActiveOutputArea(window[\"abd9d9dc-3559-11ed-a726-f72866db89f1\"]);\n//# sourceURL=js_a91010a5b8",
      "text/plain": [
       "<IPython.core.display.Javascript object>"
      ]
     },
     "metadata": {},
     "output_type": "display_data"
    },
    {
     "data": {},
     "metadata": {
      "outputarea": {
       "add_tags": [
        "user_output"
       ],
       "nodisplay": true,
       "remove_tags": []
      }
     },
     "output_type": "display_data"
    },
    {
     "name": "stdout",
     "output_type": "stream",
     "text": [
      "State Step 3\n",
      "Action Taken: R \n",
      "Action Performed: R \n",
      "Reward: 0.0\n"
     ]
    },
    {
     "data": {
      "image/png": "[encoded data removed]",
      "text/plain": [
       "<Figure size 720x720 with 1 Axes>"
      ]
     },
     "metadata": {
      "needs_background": "light"
     },
     "output_type": "display_data"
    },
    {
     "data": {},
     "metadata": {
      "outputarea": {
       "add_tags": [],
       "nodisplay": true,
       "remove_tags": [
        "user_output"
       ]
      }
     },
     "output_type": "display_data"
    },
    {
     "data": {
      "application/javascript": "window[\"ac0c4caa-3559-11ed-a726-f72866db89f1\"] = google.colab.output.setActiveOutputArea(window[\"abd98900-3559-11ed-a726-f72866db89f1\"]);\n//# sourceURL=js_a1ff0888e6",
      "text/plain": [
       "<IPython.core.display.Javascript object>"
      ]
     },
     "metadata": {},
     "output_type": "display_data"
    },
    {
     "data": {},
     "metadata": {
      "outputarea": {
       "add_tags": [],
       "nodisplay": true,
       "remove_tags": [
        "id2-0-0"
       ]
      }
     },
     "output_type": "display_data"
    },
    {
     "data": {},
     "metadata": {
      "outputarea": {
       "add_tags": [],
       "nodisplay": true,
       "remove_tags": [
        "outputarea_id2"
       ]
      }
     },
     "output_type": "display_data"
    },
    {
     "data": {},
     "metadata": {
      "outputarea": {
       "add_tags": [
        "outputarea_id2"
       ],
       "nodisplay": true,
       "remove_tags": []
      }
     },
     "output_type": "display_data"
    },
    {
     "data": {},
     "metadata": {
      "outputarea": {
       "add_tags": [
        "id2-0-0"
       ],
       "nodisplay": true,
       "remove_tags": []
      }
     },
     "output_type": "display_data"
    },
    {
     "data": {
      "application/javascript": "window[\"aca673a2-3559-11ed-a726-f72866db89f1\"] = google.colab.output.getActiveOutputArea();\n//# sourceURL=js_0b20588655",
      "text/plain": [
       "<IPython.core.display.Javascript object>"
      ]
     },
     "metadata": {},
     "output_type": "display_data"
    },
    {
     "data": {
      "application/javascript": "window[\"aca6b128-3559-11ed-a726-f72866db89f1\"] = document.querySelector(\"#id2-0-0\");\n//# sourceURL=js_a68ed416ac",
      "text/plain": [
       "<IPython.core.display.Javascript object>"
      ]
     },
     "metadata": {},
     "output_type": "display_data"
    },
    {
     "data": {
      "application/javascript": "window[\"aca6edaa-3559-11ed-a726-f72866db89f1\"] = google.colab.output.setActiveOutputArea(window[\"aca6b128-3559-11ed-a726-f72866db89f1\"]);\n//# sourceURL=js_3180225465",
      "text/plain": [
       "<IPython.core.display.Javascript object>"
      ]
     },
     "metadata": {},
     "output_type": "display_data"
    },
    {
     "data": {},
     "metadata": {
      "outputarea": {
       "add_tags": [
        "user_output"
       ],
       "nodisplay": true,
       "remove_tags": []
      }
     },
     "output_type": "display_data"
    },
    {
     "name": "stdout",
     "output_type": "stream",
     "text": [
      "State Step 4\n",
      "Action Taken: L \n",
      "Action Performed: L \n",
      "Reward: 0.0\n"
     ]
    },
    {
     "data": {
      "image/png": "[encoded data removed]",
      "text/plain": [
       "<Figure size 720x720 with 1 Axes>"
      ]
     },
     "metadata": {
      "needs_background": "light"
     },
     "output_type": "display_data"
    },
    {
     "data": {},
     "metadata": {
      "outputarea": {
       "add_tags": [],
       "nodisplay": true,
       "remove_tags": [
        "user_output"
       ]
      }
     },
     "output_type": "display_data"
    },
    {
     "data": {
      "application/javascript": "window[\"acd9bdac-3559-11ed-a726-f72866db89f1\"] = google.colab.output.setActiveOutputArea(window[\"aca673a2-3559-11ed-a726-f72866db89f1\"]);\n//# sourceURL=js_c3e11a6dfc",
      "text/plain": [
       "<IPython.core.display.Javascript object>"
      ]
     },
     "metadata": {},
     "output_type": "display_data"
    },
    {
     "data": {},
     "metadata": {
      "outputarea": {
       "add_tags": [],
       "nodisplay": true,
       "remove_tags": [
        "id2-0-0"
       ]
      }
     },
     "output_type": "display_data"
    },
    {
     "data": {},
     "metadata": {
      "outputarea": {
       "add_tags": [],
       "nodisplay": true,
       "remove_tags": [
        "outputarea_id2"
       ]
      }
     },
     "output_type": "display_data"
    },
    {
     "data": {},
     "metadata": {
      "outputarea": {
       "add_tags": [
        "outputarea_id2"
       ],
       "nodisplay": true,
       "remove_tags": []
      }
     },
     "output_type": "display_data"
    },
    {
     "data": {},
     "metadata": {
      "outputarea": {
       "add_tags": [
        "id2-0-0"
       ],
       "nodisplay": true,
       "remove_tags": []
      }
     },
     "output_type": "display_data"
    },
    {
     "data": {
      "application/javascript": "window[\"ad73cc62-3559-11ed-a726-f72866db89f1\"] = google.colab.output.getActiveOutputArea();\n//# sourceURL=js_c247309807",
      "text/plain": [
       "<IPython.core.display.Javascript object>"
      ]
     },
     "metadata": {},
     "output_type": "display_data"
    },
    {
     "data": {
      "application/javascript": "window[\"ad741320-3559-11ed-a726-f72866db89f1\"] = document.querySelector(\"#id2-0-0\");\n//# sourceURL=js_0dd18d3617",
      "text/plain": [
       "<IPython.core.display.Javascript object>"
      ]
     },
     "metadata": {},
     "output_type": "display_data"
    },
    {
     "data": {
      "application/javascript": "window[\"ad744f5c-3559-11ed-a726-f72866db89f1\"] = google.colab.output.setActiveOutputArea(window[\"ad741320-3559-11ed-a726-f72866db89f1\"]);\n//# sourceURL=js_e84bfdda14",
      "text/plain": [
       "<IPython.core.display.Javascript object>"
      ]
     },
     "metadata": {},
     "output_type": "display_data"
    },
    {
     "data": {},
     "metadata": {
      "outputarea": {
       "add_tags": [
        "user_output"
       ],
       "nodisplay": true,
       "remove_tags": []
      }
     },
     "output_type": "display_data"
    },
    {
     "name": "stdout",
     "output_type": "stream",
     "text": [
      "State Step 5\n",
      "Action Taken: U \n",
      "Action Performed: U \n",
      "Reward: 0.0\n"
     ]
    },
    {
     "data": {
      "image/png": "[encoded data removed]",
      "text/plain": [
       "<Figure size 720x720 with 1 Axes>"
      ]
     },
     "metadata": {
      "needs_background": "light"
     },
     "output_type": "display_data"
    },
    {
     "data": {},
     "metadata": {
      "outputarea": {
       "add_tags": [],
       "nodisplay": true,
       "remove_tags": [
        "user_output"
       ]
      }
     },
     "output_type": "display_data"
    },
    {
     "data": {
      "application/javascript": "window[\"ada59120-3559-11ed-a726-f72866db89f1\"] = google.colab.output.setActiveOutputArea(window[\"ad73cc62-3559-11ed-a726-f72866db89f1\"]);\n//# sourceURL=js_36f4a59210",
      "text/plain": [
       "<IPython.core.display.Javascript object>"
      ]
     },
     "metadata": {},
     "output_type": "display_data"
    },
    {
     "data": {},
     "metadata": {
      "outputarea": {
       "add_tags": [],
       "nodisplay": true,
       "remove_tags": [
        "id2-0-0"
       ]
      }
     },
     "output_type": "display_data"
    },
    {
     "data": {},
     "metadata": {
      "outputarea": {
       "add_tags": [],
       "nodisplay": true,
       "remove_tags": [
        "outputarea_id2"
       ]
      }
     },
     "output_type": "display_data"
    },
    {
     "data": {},
     "metadata": {
      "outputarea": {
       "add_tags": [
        "outputarea_id2"
       ],
       "nodisplay": true,
       "remove_tags": []
      }
     },
     "output_type": "display_data"
    },
    {
     "data": {},
     "metadata": {
      "outputarea": {
       "add_tags": [
        "id2-0-0"
       ],
       "nodisplay": true,
       "remove_tags": []
      }
     },
     "output_type": "display_data"
    },
    {
     "data": {
      "application/javascript": "window[\"ae3f65fc-3559-11ed-a726-f72866db89f1\"] = google.colab.output.getActiveOutputArea();\n//# sourceURL=js_e2e7a36be7",
      "text/plain": [
       "<IPython.core.display.Javascript object>"
      ]
     },
     "metadata": {},
     "output_type": "display_data"
    },
    {
     "data": {
      "application/javascript": "window[\"ae3fa788-3559-11ed-a726-f72866db89f1\"] = document.querySelector(\"#id2-0-0\");\n//# sourceURL=js_2ee8b6d25b",
      "text/plain": [
       "<IPython.core.display.Javascript object>"
      ]
     },
     "metadata": {},
     "output_type": "display_data"
    },
    {
     "data": {
      "application/javascript": "window[\"ae3feac2-3559-11ed-a726-f72866db89f1\"] = google.colab.output.setActiveOutputArea(window[\"ae3fa788-3559-11ed-a726-f72866db89f1\"]);\n//# sourceURL=js_e7cabdc705",
      "text/plain": [
       "<IPython.core.display.Javascript object>"
      ]
     },
     "metadata": {},
     "output_type": "display_data"
    },
    {
     "data": {},
     "metadata": {
      "outputarea": {
       "add_tags": [
        "user_output"
       ],
       "nodisplay": true,
       "remove_tags": []
      }
     },
     "output_type": "display_data"
    },
    {
     "name": "stdout",
     "output_type": "stream",
     "text": [
      "State Step 6\n",
      "Action Taken: D \n",
      "Action Performed: D \n",
      "Reward: 0.0\n"
     ]
    },
    {
     "data": {
      "image/png": "[encoded data removed]",
      "text/plain": [
       "<Figure size 720x720 with 1 Axes>"
      ]
     },
     "metadata": {
      "needs_background": "light"
     },
     "output_type": "display_data"
    },
    {
     "data": {},
     "metadata": {
      "outputarea": {
       "add_tags": [],
       "nodisplay": true,
       "remove_tags": [
        "user_output"
       ]
      }
     },
     "output_type": "display_data"
    },
    {
     "data": {
      "application/javascript": "window[\"ae6f93b2-3559-11ed-a726-f72866db89f1\"] = google.colab.output.setActiveOutputArea(window[\"ae3f65fc-3559-11ed-a726-f72866db89f1\"]);\n//# sourceURL=js_303f3df6a9",
      "text/plain": [
       "<IPython.core.display.Javascript object>"
      ]
     },
     "metadata": {},
     "output_type": "display_data"
    },
    {
     "data": {},
     "metadata": {
      "outputarea": {
       "add_tags": [],
       "nodisplay": true,
       "remove_tags": [
        "id2-0-0"
       ]
      }
     },
     "output_type": "display_data"
    },
    {
     "data": {},
     "metadata": {
      "outputarea": {
       "add_tags": [],
       "nodisplay": true,
       "remove_tags": [
        "outputarea_id2"
       ]
      }
     },
     "output_type": "display_data"
    },
    {
     "data": {},
     "metadata": {
      "outputarea": {
       "add_tags": [
        "outputarea_id2"
       ],
       "nodisplay": true,
       "remove_tags": []
      }
     },
     "output_type": "display_data"
    },
    {
     "data": {},
     "metadata": {
      "outputarea": {
       "add_tags": [
        "id2-0-0"
       ],
       "nodisplay": true,
       "remove_tags": []
      }
     },
     "output_type": "display_data"
    },
    {
     "data": {
      "application/javascript": "window[\"af09c3ce-3559-11ed-a726-f72866db89f1\"] = google.colab.output.getActiveOutputArea();\n//# sourceURL=js_2657bf4016",
      "text/plain": [
       "<IPython.core.display.Javascript object>"
      ]
     },
     "metadata": {},
     "output_type": "display_data"
    },
    {
     "data": {
      "application/javascript": "window[\"af0a0082-3559-11ed-a726-f72866db89f1\"] = document.querySelector(\"#id2-0-0\");\n//# sourceURL=js_d0083f4652",
      "text/plain": [
       "<IPython.core.display.Javascript object>"
      ]
     },
     "metadata": {},
     "output_type": "display_data"
    },
    {
     "data": {
      "application/javascript": "window[\"af0a323c-3559-11ed-a726-f72866db89f1\"] = google.colab.output.setActiveOutputArea(window[\"af0a0082-3559-11ed-a726-f72866db89f1\"]);\n//# sourceURL=js_371c89ef28",
      "text/plain": [
       "<IPython.core.display.Javascript object>"
      ]
     },
     "metadata": {},
     "output_type": "display_data"
    },
    {
     "data": {},
     "metadata": {
      "outputarea": {
       "add_tags": [
        "user_output"
       ],
       "nodisplay": true,
       "remove_tags": []
      }
     },
     "output_type": "display_data"
    },
    {
     "name": "stdout",
     "output_type": "stream",
     "text": [
      "State Step 7\n",
      "Action Taken: D \n",
      "Action Performed: D \n",
      "Reward: 0.0\n"
     ]
    },
    {
     "data": {
      "image/png": "[encoded data removed]",
      "text/plain": [
       "<Figure size 720x720 with 1 Axes>"
      ]
     },
     "metadata": {
      "needs_background": "light"
     },
     "output_type": "display_data"
    },
    {
     "data": {},
     "metadata": {
      "outputarea": {
       "add_tags": [],
       "nodisplay": true,
       "remove_tags": [
        "user_output"
       ]
      }
     },
     "output_type": "display_data"
    },
    {
     "data": {
      "application/javascript": "window[\"af3fac64-3559-11ed-a726-f72866db89f1\"] = google.colab.output.setActiveOutputArea(window[\"af09c3ce-3559-11ed-a726-f72866db89f1\"]);\n//# sourceURL=js_ea1677897f",
      "text/plain": [
       "<IPython.core.display.Javascript object>"
      ]
     },
     "metadata": {},
     "output_type": "display_data"
    },
    {
     "data": {},
     "metadata": {
      "outputarea": {
       "add_tags": [],
       "nodisplay": true,
       "remove_tags": [
        "id2-0-0"
       ]
      }
     },
     "output_type": "display_data"
    },
    {
     "data": {},
     "metadata": {
      "outputarea": {
       "add_tags": [],
       "nodisplay": true,
       "remove_tags": [
        "outputarea_id2"
       ]
      }
     },
     "output_type": "display_data"
    },
    {
     "data": {},
     "metadata": {
      "outputarea": {
       "add_tags": [
        "outputarea_id2"
       ],
       "nodisplay": true,
       "remove_tags": []
      }
     },
     "output_type": "display_data"
    },
    {
     "data": {},
     "metadata": {
      "outputarea": {
       "add_tags": [
        "id2-0-0"
       ],
       "nodisplay": true,
       "remove_tags": []
      }
     },
     "output_type": "display_data"
    },
    {
     "data": {
      "application/javascript": "window[\"afd9aefe-3559-11ed-a726-f72866db89f1\"] = google.colab.output.getActiveOutputArea();\n//# sourceURL=js_65959839b4",
      "text/plain": [
       "<IPython.core.display.Javascript object>"
      ]
     },
     "metadata": {},
     "output_type": "display_data"
    },
    {
     "data": {
      "application/javascript": "window[\"afd9f742-3559-11ed-a726-f72866db89f1\"] = document.querySelector(\"#id2-0-0\");\n//# sourceURL=js_5c43348f76",
      "text/plain": [
       "<IPython.core.display.Javascript object>"
      ]
     },
     "metadata": {},
     "output_type": "display_data"
    },
    {
     "data": {
      "application/javascript": "window[\"afda3428-3559-11ed-a726-f72866db89f1\"] = google.colab.output.setActiveOutputArea(window[\"afd9f742-3559-11ed-a726-f72866db89f1\"]);\n//# sourceURL=js_7f9e076ed1",
      "text/plain": [
       "<IPython.core.display.Javascript object>"
      ]
     },
     "metadata": {},
     "output_type": "display_data"
    },
    {
     "data": {},
     "metadata": {
      "outputarea": {
       "add_tags": [
        "user_output"
       ],
       "nodisplay": true,
       "remove_tags": []
      }
     },
     "output_type": "display_data"
    },
    {
     "name": "stdout",
     "output_type": "stream",
     "text": [
      "State Step 8\n",
      "Action Taken: L \n",
      "Action Performed: L \n",
      "Reward: -3.0\n"
     ]
    },
    {
     "data": {
      "image/png": "[encoded data removed]",
      "text/plain": [
       "<Figure size 720x720 with 1 Axes>"
      ]
     },
     "metadata": {
      "needs_background": "light"
     },
     "output_type": "display_data"
    },
    {
     "data": {},
     "metadata": {
      "outputarea": {
       "add_tags": [],
       "nodisplay": true,
       "remove_tags": [
        "user_output"
       ]
      }
     },
     "output_type": "display_data"
    },
    {
     "data": {
      "application/javascript": "window[\"b00da038-3559-11ed-a726-f72866db89f1\"] = google.colab.output.setActiveOutputArea(window[\"afd9aefe-3559-11ed-a726-f72866db89f1\"]);\n//# sourceURL=js_17c9a1282c",
      "text/plain": [
       "<IPython.core.display.Javascript object>"
      ]
     },
     "metadata": {},
     "output_type": "display_data"
    },
    {
     "data": {},
     "metadata": {
      "outputarea": {
       "add_tags": [],
       "nodisplay": true,
       "remove_tags": [
        "id2-0-0"
       ]
      }
     },
     "output_type": "display_data"
    },
    {
     "data": {},
     "metadata": {
      "outputarea": {
       "add_tags": [],
       "nodisplay": true,
       "remove_tags": [
        "outputarea_id2"
       ]
      }
     },
     "output_type": "display_data"
    },
    {
     "data": {},
     "metadata": {
      "outputarea": {
       "add_tags": [
        "outputarea_id2"
       ],
       "nodisplay": true,
       "remove_tags": []
      }
     },
     "output_type": "display_data"
    },
    {
     "data": {},
     "metadata": {
      "outputarea": {
       "add_tags": [
        "id2-0-0"
       ],
       "nodisplay": true,
       "remove_tags": []
      }
     },
     "output_type": "display_data"
    },
    {
     "data": {
      "application/javascript": "window[\"b0a7705a-3559-11ed-a726-f72866db89f1\"] = google.colab.output.getActiveOutputArea();\n//# sourceURL=js_7f904700e3",
      "text/plain": [
       "<IPython.core.display.Javascript object>"
      ]
     },
     "metadata": {},
     "output_type": "display_data"
    },
    {
     "data": {
      "application/javascript": "window[\"b0a7b466-3559-11ed-a726-f72866db89f1\"] = document.querySelector(\"#id2-0-0\");\n//# sourceURL=js_f0f5962161",
      "text/plain": [
       "<IPython.core.display.Javascript object>"
      ]
     },
     "metadata": {},
     "output_type": "display_data"
    },
    {
     "data": {
      "application/javascript": "window[\"b0a80268-3559-11ed-a726-f72866db89f1\"] = google.colab.output.setActiveOutputArea(window[\"b0a7b466-3559-11ed-a726-f72866db89f1\"]);\n//# sourceURL=js_f5115650d9",
      "text/plain": [
       "<IPython.core.display.Javascript object>"
      ]
     },
     "metadata": {},
     "output_type": "display_data"
    },
    {
     "data": {},
     "metadata": {
      "outputarea": {
       "add_tags": [
        "user_output"
       ],
       "nodisplay": true,
       "remove_tags": []
      }
     },
     "output_type": "display_data"
    },
    {
     "name": "stdout",
     "output_type": "stream",
     "text": [
      "State Step 9\n",
      "Action Taken: L \n",
      "Action Performed: L \n",
      "Reward: -3.0\n"
     ]
    },
    {
     "data": {
      "image/png": "[encoded data removed]",
      "text/plain": [
       "<Figure size 720x720 with 1 Axes>"
      ]
     },
     "metadata": {
      "needs_background": "light"
     },
     "output_type": "display_data"
    },
    {
     "data": {},
     "metadata": {
      "outputarea": {
       "add_tags": [],
       "nodisplay": true,
       "remove_tags": [
        "user_output"
       ]
      }
     },
     "output_type": "display_data"
    },
    {
     "data": {
      "application/javascript": "window[\"b0e929a0-3559-11ed-a726-f72866db89f1\"] = google.colab.output.setActiveOutputArea(window[\"b0a7705a-3559-11ed-a726-f72866db89f1\"]);\n//# sourceURL=js_e74b7e70c0",
      "text/plain": [
       "<IPython.core.display.Javascript object>"
      ]
     },
     "metadata": {},
     "output_type": "display_data"
    },
    {
     "data": {},
     "metadata": {
      "outputarea": {
       "add_tags": [],
       "nodisplay": true,
       "remove_tags": [
        "id2-0-0"
       ]
      }
     },
     "output_type": "display_data"
    },
    {
     "data": {},
     "metadata": {
      "outputarea": {
       "add_tags": [],
       "nodisplay": true,
       "remove_tags": [
        "outputarea_id2"
       ]
      }
     },
     "output_type": "display_data"
    },
    {
     "data": {},
     "metadata": {
      "outputarea": {
       "add_tags": [
        "outputarea_id2"
       ],
       "nodisplay": true,
       "remove_tags": []
      }
     },
     "output_type": "display_data"
    },
    {
     "data": {},
     "metadata": {
      "outputarea": {
       "add_tags": [
        "id2-0-0"
       ],
       "nodisplay": true,
       "remove_tags": []
      }
     },
     "output_type": "display_data"
    },
    {
     "data": {
      "application/javascript": "window[\"b18335b8-3559-11ed-a726-f72866db89f1\"] = google.colab.output.getActiveOutputArea();\n//# sourceURL=js_78adc7695a",
      "text/plain": [
       "<IPython.core.display.Javascript object>"
      ]
     },
     "metadata": {},
     "output_type": "display_data"
    },
    {
     "data": {
      "application/javascript": "window[\"b1837708-3559-11ed-a726-f72866db89f1\"] = document.querySelector(\"#id2-0-0\");\n//# sourceURL=js_38c9e0ad9a",
      "text/plain": [
       "<IPython.core.display.Javascript object>"
      ]
     },
     "metadata": {},
     "output_type": "display_data"
    },
    {
     "data": {
      "application/javascript": "window[\"b183b57e-3559-11ed-a726-f72866db89f1\"] = google.colab.output.setActiveOutputArea(window[\"b1837708-3559-11ed-a726-f72866db89f1\"]);\n//# sourceURL=js_abe89e71c2",
      "text/plain": [
       "<IPython.core.display.Javascript object>"
      ]
     },
     "metadata": {},
     "output_type": "display_data"
    },
    {
     "data": {},
     "metadata": {
      "outputarea": {
       "add_tags": [
        "user_output"
       ],
       "nodisplay": true,
       "remove_tags": []
      }
     },
     "output_type": "display_data"
    },
    {
     "name": "stdout",
     "output_type": "stream",
     "text": [
      "State Step 10\n",
      "Action Taken: D \n",
      "Action Performed: D \n",
      "Reward: 0.0\n"
     ]
    },
    {
     "data": {
      "image/png": "[encoded data removed]",
      "text/plain": [
       "<Figure size 720x720 with 1 Axes>"
      ]
     },
     "metadata": {
      "needs_background": "light"
     },
     "output_type": "display_data"
    },
    {
     "data": {},
     "metadata": {
      "outputarea": {
       "add_tags": [],
       "nodisplay": true,
       "remove_tags": [
        "user_output"
       ]
      }
     },
     "output_type": "display_data"
    },
    {
     "data": {
      "application/javascript": "window[\"b1ba8efa-3559-11ed-a726-f72866db89f1\"] = google.colab.output.setActiveOutputArea(window[\"b18335b8-3559-11ed-a726-f72866db89f1\"]);\n//# sourceURL=js_b45f43e582",
      "text/plain": [
       "<IPython.core.display.Javascript object>"
      ]
     },
     "metadata": {},
     "output_type": "display_data"
    },
    {
     "data": {},
     "metadata": {
      "outputarea": {
       "add_tags": [],
       "nodisplay": true,
       "remove_tags": [
        "id2-0-0"
       ]
      }
     },
     "output_type": "display_data"
    },
    {
     "data": {},
     "metadata": {
      "outputarea": {
       "add_tags": [],
       "nodisplay": true,
       "remove_tags": [
        "outputarea_id2"
       ]
      }
     },
     "output_type": "display_data"
    },
    {
     "name": "stdout",
     "output_type": "stream",
     "text": [
      "Cumulative Reward -6.0\n"
     ]
    }
   ],
   "source": [
    "env = MyMarioEnvironment(environment=STATES,actions=ACTIONS,rewards=REWARDS,p_transition=1.0,max_timestep=10, environment_type='deterministic')\n",
    "mario = RandomMarioAgent(env=env, animate=False)\n",
    "mario.run()"
   ]
  },
  {
   "cell_type": "markdown",
   "metadata": {},
   "source": [
    "# Stochastic Environment Run"
   ]
  },
  {
   "cell_type": "code",
   "execution_count": 9,
   "metadata": {},
   "outputs": [
    {
     "data": {},
     "metadata": {
      "outputarea": {
       "add_tags": [
        "outputarea_id8"
       ],
       "nodisplay": true,
       "remove_tags": []
      }
     },
     "output_type": "display_data"
    },
    {
     "data": {
      "text/html": [
       "<style>\n",
       "       table#id8, #id8 > tbody > tr > th, #id8 > tbody > tr > td {\n",
       "         border: 1px solid lightgray;\n",
       "         border-collapse:collapse;\n",
       "         \n",
       "        }</style>"
      ],
      "text/plain": [
       "<IPython.core.display.HTML object>"
      ]
     },
     "metadata": {},
     "output_type": "display_data"
    },
    {
     "data": {
      "text/html": [
       "<table id=id8><tr><td id=id8-0-0></td></tr></table>"
      ],
      "text/plain": [
       "<IPython.core.display.HTML object>"
      ]
     },
     "metadata": {},
     "output_type": "display_data"
    },
    {
     "data": {},
     "metadata": {
      "outputarea": {
       "add_tags": [],
       "nodisplay": true,
       "remove_tags": [
        "outputarea_id8"
       ]
      }
     },
     "output_type": "display_data"
    },
    {
     "data": {},
     "metadata": {
      "outputarea": {
       "add_tags": [
        "outputarea_id8"
       ],
       "nodisplay": true,
       "remove_tags": []
      }
     },
     "output_type": "display_data"
    },
    {
     "data": {},
     "metadata": {
      "outputarea": {
       "add_tags": [
        "id8-0-0"
       ],
       "nodisplay": true,
       "remove_tags": []
      }
     },
     "output_type": "display_data"
    },
    {
     "data": {
      "application/javascript": "window[\"7d8e2314-3561-11ed-9391-dfa639052c5f\"] = google.colab.output.getActiveOutputArea();\n//# sourceURL=js_854ad80122",
      "text/plain": [
       "<IPython.core.display.Javascript object>"
      ]
     },
     "metadata": {},
     "output_type": "display_data"
    },
    {
     "data": {
      "application/javascript": "window[\"7d8e5758-3561-11ed-9391-dfa639052c5f\"] = document.querySelector(\"#id8-0-0\");\n//# sourceURL=js_796b38e147",
      "text/plain": [
       "<IPython.core.display.Javascript object>"
      ]
     },
     "metadata": {},
     "output_type": "display_data"
    },
    {
     "data": {
      "application/javascript": "window[\"7d8e8a7a-3561-11ed-9391-dfa639052c5f\"] = google.colab.output.setActiveOutputArea(window[\"7d8e5758-3561-11ed-9391-dfa639052c5f\"]);\n//# sourceURL=js_5e7f32c1af",
      "text/plain": [
       "<IPython.core.display.Javascript object>"
      ]
     },
     "metadata": {},
     "output_type": "display_data"
    },
    {
     "data": {},
     "metadata": {
      "outputarea": {
       "add_tags": [
        "user_output"
       ],
       "nodisplay": true,
       "remove_tags": []
      }
     },
     "output_type": "display_data"
    },
    {
     "name": "stdout",
     "output_type": "stream",
     "text": [
      "Initial State - Step 0\n"
     ]
    },
    {
     "data": {
      "image/png": "[encoded data removed]",
      "text/plain": [
       "<Figure size 720x720 with 1 Axes>"
      ]
     },
     "metadata": {
      "needs_background": "light"
     },
     "output_type": "display_data"
    },
    {
     "data": {},
     "metadata": {
      "outputarea": {
       "add_tags": [],
       "nodisplay": true,
       "remove_tags": [
        "user_output"
       ]
      }
     },
     "output_type": "display_data"
    },
    {
     "data": {
      "application/javascript": "window[\"7dcacb48-3561-11ed-9391-dfa639052c5f\"] = google.colab.output.setActiveOutputArea(window[\"7d8e2314-3561-11ed-9391-dfa639052c5f\"]);\n//# sourceURL=js_bed843dc03",
      "text/plain": [
       "<IPython.core.display.Javascript object>"
      ]
     },
     "metadata": {},
     "output_type": "display_data"
    },
    {
     "data": {},
     "metadata": {
      "outputarea": {
       "add_tags": [],
       "nodisplay": true,
       "remove_tags": [
        "id8-0-0"
       ]
      }
     },
     "output_type": "display_data"
    },
    {
     "data": {},
     "metadata": {
      "outputarea": {
       "add_tags": [],
       "nodisplay": true,
       "remove_tags": [
        "outputarea_id8"
       ]
      }
     },
     "output_type": "display_data"
    },
    {
     "data": {},
     "metadata": {
      "outputarea": {
       "add_tags": [
        "outputarea_id8"
       ],
       "nodisplay": true,
       "remove_tags": []
      }
     },
     "output_type": "display_data"
    },
    {
     "data": {},
     "metadata": {
      "outputarea": {
       "add_tags": [
        "id8-0-0"
       ],
       "nodisplay": true,
       "remove_tags": []
      }
     },
     "output_type": "display_data"
    },
    {
     "data": {
      "application/javascript": "window[\"7e64ec1e-3561-11ed-9391-dfa639052c5f\"] = google.colab.output.getActiveOutputArea();\n//# sourceURL=js_6fb3b0701b",
      "text/plain": [
       "<IPython.core.display.Javascript object>"
      ]
     },
     "metadata": {},
     "output_type": "display_data"
    },
    {
     "data": {
      "application/javascript": "window[\"7e652120-3561-11ed-9391-dfa639052c5f\"] = document.querySelector(\"#id8-0-0\");\n//# sourceURL=js_e3f866d611",
      "text/plain": [
       "<IPython.core.display.Javascript object>"
      ]
     },
     "metadata": {},
     "output_type": "display_data"
    },
    {
     "data": {
      "application/javascript": "window[\"7e655384-3561-11ed-9391-dfa639052c5f\"] = google.colab.output.setActiveOutputArea(window[\"7e652120-3561-11ed-9391-dfa639052c5f\"]);\n//# sourceURL=js_e8cdc39dc7",
      "text/plain": [
       "<IPython.core.display.Javascript object>"
      ]
     },
     "metadata": {},
     "output_type": "display_data"
    },
    {
     "data": {},
     "metadata": {
      "outputarea": {
       "add_tags": [
        "user_output"
       ],
       "nodisplay": true,
       "remove_tags": []
      }
     },
     "output_type": "display_data"
    },
    {
     "name": "stdout",
     "output_type": "stream",
     "text": [
      "State Step 1\n",
      "Action Taken: U \n",
      "Action Performed: U \n",
      "Reward: 0.0\n"
     ]
    },
    {
     "data": {
      "image/png": "[encoded data removed]",
      "text/plain": [
       "<Figure size 720x720 with 1 Axes>"
      ]
     },
     "metadata": {
      "needs_background": "light"
     },
     "output_type": "display_data"
    },
    {
     "data": {},
     "metadata": {
      "outputarea": {
       "add_tags": [],
       "nodisplay": true,
       "remove_tags": [
        "user_output"
       ]
      }
     },
     "output_type": "display_data"
    },
    {
     "data": {
      "application/javascript": "window[\"7e95ade0-3561-11ed-9391-dfa639052c5f\"] = google.colab.output.setActiveOutputArea(window[\"7e64ec1e-3561-11ed-9391-dfa639052c5f\"]);\n//# sourceURL=js_5fda232d68",
      "text/plain": [
       "<IPython.core.display.Javascript object>"
      ]
     },
     "metadata": {},
     "output_type": "display_data"
    },
    {
     "data": {},
     "metadata": {
      "outputarea": {
       "add_tags": [],
       "nodisplay": true,
       "remove_tags": [
        "id8-0-0"
       ]
      }
     },
     "output_type": "display_data"
    },
    {
     "data": {},
     "metadata": {
      "outputarea": {
       "add_tags": [],
       "nodisplay": true,
       "remove_tags": [
        "outputarea_id8"
       ]
      }
     },
     "output_type": "display_data"
    },
    {
     "data": {},
     "metadata": {
      "outputarea": {
       "add_tags": [
        "outputarea_id8"
       ],
       "nodisplay": true,
       "remove_tags": []
      }
     },
     "output_type": "display_data"
    },
    {
     "data": {},
     "metadata": {
      "outputarea": {
       "add_tags": [
        "id8-0-0"
       ],
       "nodisplay": true,
       "remove_tags": []
      }
     },
     "output_type": "display_data"
    },
    {
     "data": {
      "application/javascript": "window[\"7f2fa3be-3561-11ed-9391-dfa639052c5f\"] = google.colab.output.getActiveOutputArea();\n//# sourceURL=js_9e87511f96",
      "text/plain": [
       "<IPython.core.display.Javascript object>"
      ]
     },
     "metadata": {},
     "output_type": "display_data"
    },
    {
     "data": {
      "application/javascript": "window[\"7f2ff6f2-3561-11ed-9391-dfa639052c5f\"] = document.querySelector(\"#id8-0-0\");\n//# sourceURL=js_3929173515",
      "text/plain": [
       "<IPython.core.display.Javascript object>"
      ]
     },
     "metadata": {},
     "output_type": "display_data"
    },
    {
     "data": {
      "application/javascript": "window[\"7f3035c2-3561-11ed-9391-dfa639052c5f\"] = google.colab.output.setActiveOutputArea(window[\"7f2ff6f2-3561-11ed-9391-dfa639052c5f\"]);\n//# sourceURL=js_fb07797302",
      "text/plain": [
       "<IPython.core.display.Javascript object>"
      ]
     },
     "metadata": {},
     "output_type": "display_data"
    },
    {
     "data": {},
     "metadata": {
      "outputarea": {
       "add_tags": [
        "user_output"
       ],
       "nodisplay": true,
       "remove_tags": []
      }
     },
     "output_type": "display_data"
    },
    {
     "name": "stdout",
     "output_type": "stream",
     "text": [
      "State Step 2\n",
      "Action Taken: R \n",
      "Action Performed: L \n",
      "Reward: 0.0\n"
     ]
    },
    {
     "data": {
      "image/png": "[encoded data removed]",
      "text/plain": [
       "<Figure size 720x720 with 1 Axes>"
      ]
     },
     "metadata": {
      "needs_background": "light"
     },
     "output_type": "display_data"
    },
    {
     "data": {},
     "metadata": {
      "outputarea": {
       "add_tags": [],
       "nodisplay": true,
       "remove_tags": [
        "user_output"
       ]
      }
     },
     "output_type": "display_data"
    },
    {
     "data": {
      "application/javascript": "window[\"7f67a908-3561-11ed-9391-dfa639052c5f\"] = google.colab.output.setActiveOutputArea(window[\"7f2fa3be-3561-11ed-9391-dfa639052c5f\"]);\n//# sourceURL=js_897bae6b2f",
      "text/plain": [
       "<IPython.core.display.Javascript object>"
      ]
     },
     "metadata": {},
     "output_type": "display_data"
    },
    {
     "data": {},
     "metadata": {
      "outputarea": {
       "add_tags": [],
       "nodisplay": true,
       "remove_tags": [
        "id8-0-0"
       ]
      }
     },
     "output_type": "display_data"
    },
    {
     "data": {},
     "metadata": {
      "outputarea": {
       "add_tags": [],
       "nodisplay": true,
       "remove_tags": [
        "outputarea_id8"
       ]
      }
     },
     "output_type": "display_data"
    },
    {
     "data": {},
     "metadata": {
      "outputarea": {
       "add_tags": [
        "outputarea_id8"
       ],
       "nodisplay": true,
       "remove_tags": []
      }
     },
     "output_type": "display_data"
    },
    {
     "data": {},
     "metadata": {
      "outputarea": {
       "add_tags": [
        "id8-0-0"
       ],
       "nodisplay": true,
       "remove_tags": []
      }
     },
     "output_type": "display_data"
    },
    {
     "data": {
      "application/javascript": "window[\"8001a9e0-3561-11ed-9391-dfa639052c5f\"] = google.colab.output.getActiveOutputArea();\n//# sourceURL=js_04d3ce8fbd",
      "text/plain": [
       "<IPython.core.display.Javascript object>"
      ]
     },
     "metadata": {},
     "output_type": "display_data"
    },
    {
     "data": {
      "application/javascript": "window[\"8001e91e-3561-11ed-9391-dfa639052c5f\"] = document.querySelector(\"#id8-0-0\");\n//# sourceURL=js_bbd3e20f4f",
      "text/plain": [
       "<IPython.core.display.Javascript object>"
      ]
     },
     "metadata": {},
     "output_type": "display_data"
    },
    {
     "data": {
      "application/javascript": "window[\"800236e4-3561-11ed-9391-dfa639052c5f\"] = google.colab.output.setActiveOutputArea(window[\"8001e91e-3561-11ed-9391-dfa639052c5f\"]);\n//# sourceURL=js_7c2b5cd206",
      "text/plain": [
       "<IPython.core.display.Javascript object>"
      ]
     },
     "metadata": {},
     "output_type": "display_data"
    },
    {
     "data": {},
     "metadata": {
      "outputarea": {
       "add_tags": [
        "user_output"
       ],
       "nodisplay": true,
       "remove_tags": []
      }
     },
     "output_type": "display_data"
    },
    {
     "name": "stdout",
     "output_type": "stream",
     "text": [
      "State Step 3\n",
      "Action Taken: R \n",
      "Action Performed: R \n",
      "Reward: 0.0\n"
     ]
    },
    {
     "data": {
      "image/png": "[encoded data removed]",
      "text/plain": [
       "<Figure size 720x720 with 1 Axes>"
      ]
     },
     "metadata": {
      "needs_background": "light"
     },
     "output_type": "display_data"
    },
    {
     "data": {},
     "metadata": {
      "outputarea": {
       "add_tags": [],
       "nodisplay": true,
       "remove_tags": [
        "user_output"
       ]
      }
     },
     "output_type": "display_data"
    },
    {
     "data": {
      "application/javascript": "window[\"8034e896-3561-11ed-9391-dfa639052c5f\"] = google.colab.output.setActiveOutputArea(window[\"8001a9e0-3561-11ed-9391-dfa639052c5f\"]);\n//# sourceURL=js_a70ea228cc",
      "text/plain": [
       "<IPython.core.display.Javascript object>"
      ]
     },
     "metadata": {},
     "output_type": "display_data"
    },
    {
     "data": {},
     "metadata": {
      "outputarea": {
       "add_tags": [],
       "nodisplay": true,
       "remove_tags": [
        "id8-0-0"
       ]
      }
     },
     "output_type": "display_data"
    },
    {
     "data": {},
     "metadata": {
      "outputarea": {
       "add_tags": [],
       "nodisplay": true,
       "remove_tags": [
        "outputarea_id8"
       ]
      }
     },
     "output_type": "display_data"
    },
    {
     "data": {},
     "metadata": {
      "outputarea": {
       "add_tags": [
        "outputarea_id8"
       ],
       "nodisplay": true,
       "remove_tags": []
      }
     },
     "output_type": "display_data"
    },
    {
     "data": {},
     "metadata": {
      "outputarea": {
       "add_tags": [
        "id8-0-0"
       ],
       "nodisplay": true,
       "remove_tags": []
      }
     },
     "output_type": "display_data"
    },
    {
     "data": {
      "application/javascript": "window[\"80cee270-3561-11ed-9391-dfa639052c5f\"] = google.colab.output.getActiveOutputArea();\n//# sourceURL=js_25bf88f3b4",
      "text/plain": [
       "<IPython.core.display.Javascript object>"
      ]
     },
     "metadata": {},
     "output_type": "display_data"
    },
    {
     "data": {
      "application/javascript": "window[\"80cf2e6a-3561-11ed-9391-dfa639052c5f\"] = document.querySelector(\"#id8-0-0\");\n//# sourceURL=js_26fc649f8f",
      "text/plain": [
       "<IPython.core.display.Javascript object>"
      ]
     },
     "metadata": {},
     "output_type": "display_data"
    },
    {
     "data": {
      "application/javascript": "window[\"80cf6bbe-3561-11ed-9391-dfa639052c5f\"] = google.colab.output.setActiveOutputArea(window[\"80cf2e6a-3561-11ed-9391-dfa639052c5f\"]);\n//# sourceURL=js_3ed6f5cda6",
      "text/plain": [
       "<IPython.core.display.Javascript object>"
      ]
     },
     "metadata": {},
     "output_type": "display_data"
    },
    {
     "data": {},
     "metadata": {
      "outputarea": {
       "add_tags": [
        "user_output"
       ],
       "nodisplay": true,
       "remove_tags": []
      }
     },
     "output_type": "display_data"
    },
    {
     "name": "stdout",
     "output_type": "stream",
     "text": [
      "State Step 4\n",
      "Action Taken: L \n",
      "Action Performed: D \n",
      "Reward: 0.0\n"
     ]
    },
    {
     "data": {
      "image/png": "[encoded data removed]",
      "text/plain": [
       "<Figure size 720x720 with 1 Axes>"
      ]
     },
     "metadata": {
      "needs_background": "light"
     },
     "output_type": "display_data"
    },
    {
     "data": {},
     "metadata": {
      "outputarea": {
       "add_tags": [],
       "nodisplay": true,
       "remove_tags": [
        "user_output"
       ]
      }
     },
     "output_type": "display_data"
    },
    {
     "data": {
      "application/javascript": "window[\"80ff1800-3561-11ed-9391-dfa639052c5f\"] = google.colab.output.setActiveOutputArea(window[\"80cee270-3561-11ed-9391-dfa639052c5f\"]);\n//# sourceURL=js_3277af8ed0",
      "text/plain": [
       "<IPython.core.display.Javascript object>"
      ]
     },
     "metadata": {},
     "output_type": "display_data"
    },
    {
     "data": {},
     "metadata": {
      "outputarea": {
       "add_tags": [],
       "nodisplay": true,
       "remove_tags": [
        "id8-0-0"
       ]
      }
     },
     "output_type": "display_data"
    },
    {
     "data": {},
     "metadata": {
      "outputarea": {
       "add_tags": [],
       "nodisplay": true,
       "remove_tags": [
        "outputarea_id8"
       ]
      }
     },
     "output_type": "display_data"
    },
    {
     "data": {},
     "metadata": {
      "outputarea": {
       "add_tags": [
        "outputarea_id8"
       ],
       "nodisplay": true,
       "remove_tags": []
      }
     },
     "output_type": "display_data"
    },
    {
     "data": {},
     "metadata": {
      "outputarea": {
       "add_tags": [
        "id8-0-0"
       ],
       "nodisplay": true,
       "remove_tags": []
      }
     },
     "output_type": "display_data"
    },
    {
     "data": {
      "application/javascript": "window[\"819913f6-3561-11ed-9391-dfa639052c5f\"] = google.colab.output.getActiveOutputArea();\n//# sourceURL=js_5d355a2a8f",
      "text/plain": [
       "<IPython.core.display.Javascript object>"
      ]
     },
     "metadata": {},
     "output_type": "display_data"
    },
    {
     "data": {
      "application/javascript": "window[\"819959ec-3561-11ed-9391-dfa639052c5f\"] = document.querySelector(\"#id8-0-0\");\n//# sourceURL=js_60a05a599f",
      "text/plain": [
       "<IPython.core.display.Javascript object>"
      ]
     },
     "metadata": {},
     "output_type": "display_data"
    },
    {
     "data": {
      "application/javascript": "window[\"81998e9e-3561-11ed-9391-dfa639052c5f\"] = google.colab.output.setActiveOutputArea(window[\"819959ec-3561-11ed-9391-dfa639052c5f\"]);\n//# sourceURL=js_d03980b60a",
      "text/plain": [
       "<IPython.core.display.Javascript object>"
      ]
     },
     "metadata": {},
     "output_type": "display_data"
    },
    {
     "data": {},
     "metadata": {
      "outputarea": {
       "add_tags": [
        "user_output"
       ],
       "nodisplay": true,
       "remove_tags": []
      }
     },
     "output_type": "display_data"
    },
    {
     "name": "stdout",
     "output_type": "stream",
     "text": [
      "State Step 5\n",
      "Action Taken: R \n",
      "Action Performed: R \n",
      "Reward: 0.0\n"
     ]
    },
    {
     "data": {
      "image/png": "[encoded data removed]",
      "text/plain": [
       "<Figure size 720x720 with 1 Axes>"
      ]
     },
     "metadata": {
      "needs_background": "light"
     },
     "output_type": "display_data"
    },
    {
     "data": {},
     "metadata": {
      "outputarea": {
       "add_tags": [],
       "nodisplay": true,
       "remove_tags": [
        "user_output"
       ]
      }
     },
     "output_type": "display_data"
    },
    {
     "data": {
      "application/javascript": "window[\"81ca6c9e-3561-11ed-9391-dfa639052c5f\"] = google.colab.output.setActiveOutputArea(window[\"819913f6-3561-11ed-9391-dfa639052c5f\"]);\n//# sourceURL=js_3b47f95acb",
      "text/plain": [
       "<IPython.core.display.Javascript object>"
      ]
     },
     "metadata": {},
     "output_type": "display_data"
    },
    {
     "data": {},
     "metadata": {
      "outputarea": {
       "add_tags": [],
       "nodisplay": true,
       "remove_tags": [
        "id8-0-0"
       ]
      }
     },
     "output_type": "display_data"
    },
    {
     "data": {},
     "metadata": {
      "outputarea": {
       "add_tags": [],
       "nodisplay": true,
       "remove_tags": [
        "outputarea_id8"
       ]
      }
     },
     "output_type": "display_data"
    },
    {
     "data": {},
     "metadata": {
      "outputarea": {
       "add_tags": [
        "outputarea_id8"
       ],
       "nodisplay": true,
       "remove_tags": []
      }
     },
     "output_type": "display_data"
    },
    {
     "data": {},
     "metadata": {
      "outputarea": {
       "add_tags": [
        "id8-0-0"
       ],
       "nodisplay": true,
       "remove_tags": []
      }
     },
     "output_type": "display_data"
    },
    {
     "data": {
      "application/javascript": "window[\"8265061e-3561-11ed-9391-dfa639052c5f\"] = google.colab.output.getActiveOutputArea();\n//# sourceURL=js_f0603cad01",
      "text/plain": [
       "<IPython.core.display.Javascript object>"
      ]
     },
     "metadata": {},
     "output_type": "display_data"
    },
    {
     "data": {
      "application/javascript": "window[\"82653224-3561-11ed-9391-dfa639052c5f\"] = document.querySelector(\"#id8-0-0\");\n//# sourceURL=js_608f2b8c14",
      "text/plain": [
       "<IPython.core.display.Javascript object>"
      ]
     },
     "metadata": {},
     "output_type": "display_data"
    },
    {
     "data": {
      "application/javascript": "window[\"826561d6-3561-11ed-9391-dfa639052c5f\"] = google.colab.output.setActiveOutputArea(window[\"82653224-3561-11ed-9391-dfa639052c5f\"]);\n//# sourceURL=js_9a52bd4657",
      "text/plain": [
       "<IPython.core.display.Javascript object>"
      ]
     },
     "metadata": {},
     "output_type": "display_data"
    },
    {
     "data": {},
     "metadata": {
      "outputarea": {
       "add_tags": [
        "user_output"
       ],
       "nodisplay": true,
       "remove_tags": []
      }
     },
     "output_type": "display_data"
    },
    {
     "name": "stdout",
     "output_type": "stream",
     "text": [
      "State Step 6\n",
      "Action Taken: R \n",
      "Action Performed: R \n",
      "Reward: 0.0\n"
     ]
    },
    {
     "data": {
      "image/png": "[encoded data removed]",
      "text/plain": [
       "<Figure size 720x720 with 1 Axes>"
      ]
     },
     "metadata": {
      "needs_background": "light"
     },
     "output_type": "display_data"
    },
    {
     "data": {},
     "metadata": {
      "outputarea": {
       "add_tags": [],
       "nodisplay": true,
       "remove_tags": [
        "user_output"
       ]
      }
     },
     "output_type": "display_data"
    },
    {
     "data": {
      "application/javascript": "window[\"829b4918-3561-11ed-9391-dfa639052c5f\"] = google.colab.output.setActiveOutputArea(window[\"8265061e-3561-11ed-9391-dfa639052c5f\"]);\n//# sourceURL=js_64d4c89b07",
      "text/plain": [
       "<IPython.core.display.Javascript object>"
      ]
     },
     "metadata": {},
     "output_type": "display_data"
    },
    {
     "data": {},
     "metadata": {
      "outputarea": {
       "add_tags": [],
       "nodisplay": true,
       "remove_tags": [
        "id8-0-0"
       ]
      }
     },
     "output_type": "display_data"
    },
    {
     "data": {},
     "metadata": {
      "outputarea": {
       "add_tags": [],
       "nodisplay": true,
       "remove_tags": [
        "outputarea_id8"
       ]
      }
     },
     "output_type": "display_data"
    },
    {
     "data": {},
     "metadata": {
      "outputarea": {
       "add_tags": [
        "outputarea_id8"
       ],
       "nodisplay": true,
       "remove_tags": []
      }
     },
     "output_type": "display_data"
    },
    {
     "data": {},
     "metadata": {
      "outputarea": {
       "add_tags": [
        "id8-0-0"
       ],
       "nodisplay": true,
       "remove_tags": []
      }
     },
     "output_type": "display_data"
    },
    {
     "data": {
      "application/javascript": "window[\"8335581e-3561-11ed-9391-dfa639052c5f\"] = google.colab.output.getActiveOutputArea();\n//# sourceURL=js_eb02870973",
      "text/plain": [
       "<IPython.core.display.Javascript object>"
      ]
     },
     "metadata": {},
     "output_type": "display_data"
    },
    {
     "data": {
      "application/javascript": "window[\"8335a2ec-3561-11ed-9391-dfa639052c5f\"] = document.querySelector(\"#id8-0-0\");\n//# sourceURL=js_47d1c5e36a",
      "text/plain": [
       "<IPython.core.display.Javascript object>"
      ]
     },
     "metadata": {},
     "output_type": "display_data"
    },
    {
     "data": {
      "application/javascript": "window[\"8335d99c-3561-11ed-9391-dfa639052c5f\"] = google.colab.output.setActiveOutputArea(window[\"8335a2ec-3561-11ed-9391-dfa639052c5f\"]);\n//# sourceURL=js_a44da62f9f",
      "text/plain": [
       "<IPython.core.display.Javascript object>"
      ]
     },
     "metadata": {},
     "output_type": "display_data"
    },
    {
     "data": {},
     "metadata": {
      "outputarea": {
       "add_tags": [
        "user_output"
       ],
       "nodisplay": true,
       "remove_tags": []
      }
     },
     "output_type": "display_data"
    },
    {
     "name": "stdout",
     "output_type": "stream",
     "text": [
      "State Step 7\n",
      "Action Taken: D \n",
      "Action Performed: D \n",
      "Reward: 2.0\n"
     ]
    },
    {
     "data": {
      "image/png": "[encoded data removed]",
      "text/plain": [
       "<Figure size 720x720 with 1 Axes>"
      ]
     },
     "metadata": {
      "needs_background": "light"
     },
     "output_type": "display_data"
    },
    {
     "data": {},
     "metadata": {
      "outputarea": {
       "add_tags": [],
       "nodisplay": true,
       "remove_tags": [
        "user_output"
       ]
      }
     },
     "output_type": "display_data"
    },
    {
     "data": {
      "application/javascript": "window[\"836735aa-3561-11ed-9391-dfa639052c5f\"] = google.colab.output.setActiveOutputArea(window[\"8335581e-3561-11ed-9391-dfa639052c5f\"]);\n//# sourceURL=js_0f8bcc4965",
      "text/plain": [
       "<IPython.core.display.Javascript object>"
      ]
     },
     "metadata": {},
     "output_type": "display_data"
    },
    {
     "data": {},
     "metadata": {
      "outputarea": {
       "add_tags": [],
       "nodisplay": true,
       "remove_tags": [
        "id8-0-0"
       ]
      }
     },
     "output_type": "display_data"
    },
    {
     "data": {},
     "metadata": {
      "outputarea": {
       "add_tags": [],
       "nodisplay": true,
       "remove_tags": [
        "outputarea_id8"
       ]
      }
     },
     "output_type": "display_data"
    },
    {
     "data": {},
     "metadata": {
      "outputarea": {
       "add_tags": [
        "outputarea_id8"
       ],
       "nodisplay": true,
       "remove_tags": []
      }
     },
     "output_type": "display_data"
    },
    {
     "data": {},
     "metadata": {
      "outputarea": {
       "add_tags": [
        "id8-0-0"
       ],
       "nodisplay": true,
       "remove_tags": []
      }
     },
     "output_type": "display_data"
    },
    {
     "data": {
      "application/javascript": "window[\"84011472-3561-11ed-9391-dfa639052c5f\"] = google.colab.output.getActiveOutputArea();\n//# sourceURL=js_162c423ada",
      "text/plain": [
       "<IPython.core.display.Javascript object>"
      ]
     },
     "metadata": {},
     "output_type": "display_data"
    },
    {
     "data": {
      "application/javascript": "window[\"84015068-3561-11ed-9391-dfa639052c5f\"] = document.querySelector(\"#id8-0-0\");\n//# sourceURL=js_05c8ebeb85",
      "text/plain": [
       "<IPython.core.display.Javascript object>"
      ]
     },
     "metadata": {},
     "output_type": "display_data"
    },
    {
     "data": {
      "application/javascript": "window[\"84019104-3561-11ed-9391-dfa639052c5f\"] = google.colab.output.setActiveOutputArea(window[\"84015068-3561-11ed-9391-dfa639052c5f\"]);\n//# sourceURL=js_9fe78e7add",
      "text/plain": [
       "<IPython.core.display.Javascript object>"
      ]
     },
     "metadata": {},
     "output_type": "display_data"
    },
    {
     "data": {},
     "metadata": {
      "outputarea": {
       "add_tags": [
        "user_output"
       ],
       "nodisplay": true,
       "remove_tags": []
      }
     },
     "output_type": "display_data"
    },
    {
     "name": "stdout",
     "output_type": "stream",
     "text": [
      "State Step 8\n",
      "Action Taken: D \n",
      "Action Performed: L \n",
      "Reward: 0.0\n"
     ]
    },
    {
     "data": {
      "image/png": "[encoded data removed]",
      "text/plain": [
       "<Figure size 720x720 with 1 Axes>"
      ]
     },
     "metadata": {
      "needs_background": "light"
     },
     "output_type": "display_data"
    },
    {
     "data": {},
     "metadata": {
      "outputarea": {
       "add_tags": [],
       "nodisplay": true,
       "remove_tags": [
        "user_output"
       ]
      }
     },
     "output_type": "display_data"
    },
    {
     "data": {
      "application/javascript": "window[\"84335f36-3561-11ed-9391-dfa639052c5f\"] = google.colab.output.setActiveOutputArea(window[\"84011472-3561-11ed-9391-dfa639052c5f\"]);\n//# sourceURL=js_03faa01c72",
      "text/plain": [
       "<IPython.core.display.Javascript object>"
      ]
     },
     "metadata": {},
     "output_type": "display_data"
    },
    {
     "data": {},
     "metadata": {
      "outputarea": {
       "add_tags": [],
       "nodisplay": true,
       "remove_tags": [
        "id8-0-0"
       ]
      }
     },
     "output_type": "display_data"
    },
    {
     "data": {},
     "metadata": {
      "outputarea": {
       "add_tags": [],
       "nodisplay": true,
       "remove_tags": [
        "outputarea_id8"
       ]
      }
     },
     "output_type": "display_data"
    },
    {
     "data": {},
     "metadata": {
      "outputarea": {
       "add_tags": [
        "outputarea_id8"
       ],
       "nodisplay": true,
       "remove_tags": []
      }
     },
     "output_type": "display_data"
    },
    {
     "data": {},
     "metadata": {
      "outputarea": {
       "add_tags": [
        "id8-0-0"
       ],
       "nodisplay": true,
       "remove_tags": []
      }
     },
     "output_type": "display_data"
    },
    {
     "data": {
      "application/javascript": "window[\"84ce679c-3561-11ed-9391-dfa639052c5f\"] = google.colab.output.getActiveOutputArea();\n//# sourceURL=js_93b46c4770",
      "text/plain": [
       "<IPython.core.display.Javascript object>"
      ]
     },
     "metadata": {},
     "output_type": "display_data"
    },
    {
     "data": {
      "application/javascript": "window[\"84ceb1b6-3561-11ed-9391-dfa639052c5f\"] = document.querySelector(\"#id8-0-0\");\n//# sourceURL=js_6262dc9419",
      "text/plain": [
       "<IPython.core.display.Javascript object>"
      ]
     },
     "metadata": {},
     "output_type": "display_data"
    },
    {
     "data": {
      "application/javascript": "window[\"84cee974-3561-11ed-9391-dfa639052c5f\"] = google.colab.output.setActiveOutputArea(window[\"84ceb1b6-3561-11ed-9391-dfa639052c5f\"]);\n//# sourceURL=js_954c5a6139",
      "text/plain": [
       "<IPython.core.display.Javascript object>"
      ]
     },
     "metadata": {},
     "output_type": "display_data"
    },
    {
     "data": {},
     "metadata": {
      "outputarea": {
       "add_tags": [
        "user_output"
       ],
       "nodisplay": true,
       "remove_tags": []
      }
     },
     "output_type": "display_data"
    },
    {
     "name": "stdout",
     "output_type": "stream",
     "text": [
      "State Step 9\n",
      "Action Taken: L \n",
      "Action Performed: L \n",
      "Reward: -3.0\n"
     ]
    },
    {
     "data": {
      "image/png": "[encoded data removed]",
      "text/plain": [
       "<Figure size 720x720 with 1 Axes>"
      ]
     },
     "metadata": {
      "needs_background": "light"
     },
     "output_type": "display_data"
    },
    {
     "data": {},
     "metadata": {
      "outputarea": {
       "add_tags": [],
       "nodisplay": true,
       "remove_tags": [
        "user_output"
       ]
      }
     },
     "output_type": "display_data"
    },
    {
     "data": {
      "application/javascript": "window[\"85024c56-3561-11ed-9391-dfa639052c5f\"] = google.colab.output.setActiveOutputArea(window[\"84ce679c-3561-11ed-9391-dfa639052c5f\"]);\n//# sourceURL=js_7a04d84d7d",
      "text/plain": [
       "<IPython.core.display.Javascript object>"
      ]
     },
     "metadata": {},
     "output_type": "display_data"
    },
    {
     "data": {},
     "metadata": {
      "outputarea": {
       "add_tags": [],
       "nodisplay": true,
       "remove_tags": [
        "id8-0-0"
       ]
      }
     },
     "output_type": "display_data"
    },
    {
     "data": {},
     "metadata": {
      "outputarea": {
       "add_tags": [],
       "nodisplay": true,
       "remove_tags": [
        "outputarea_id8"
       ]
      }
     },
     "output_type": "display_data"
    },
    {
     "data": {},
     "metadata": {
      "outputarea": {
       "add_tags": [
        "outputarea_id8"
       ],
       "nodisplay": true,
       "remove_tags": []
      }
     },
     "output_type": "display_data"
    },
    {
     "data": {},
     "metadata": {
      "outputarea": {
       "add_tags": [
        "id8-0-0"
       ],
       "nodisplay": true,
       "remove_tags": []
      }
     },
     "output_type": "display_data"
    },
    {
     "data": {
      "application/javascript": "window[\"859c4a0e-3561-11ed-9391-dfa639052c5f\"] = google.colab.output.getActiveOutputArea();\n//# sourceURL=js_c7931f2a35",
      "text/plain": [
       "<IPython.core.display.Javascript object>"
      ]
     },
     "metadata": {},
     "output_type": "display_data"
    },
    {
     "data": {
      "application/javascript": "window[\"859c96f8-3561-11ed-9391-dfa639052c5f\"] = document.querySelector(\"#id8-0-0\");\n//# sourceURL=js_1ad8be9b91",
      "text/plain": [
       "<IPython.core.display.Javascript object>"
      ]
     },
     "metadata": {},
     "output_type": "display_data"
    },
    {
     "data": {
      "application/javascript": "window[\"859cd41a-3561-11ed-9391-dfa639052c5f\"] = google.colab.output.setActiveOutputArea(window[\"859c96f8-3561-11ed-9391-dfa639052c5f\"]);\n//# sourceURL=js_96ace77181",
      "text/plain": [
       "<IPython.core.display.Javascript object>"
      ]
     },
     "metadata": {},
     "output_type": "display_data"
    },
    {
     "data": {},
     "metadata": {
      "outputarea": {
       "add_tags": [
        "user_output"
       ],
       "nodisplay": true,
       "remove_tags": []
      }
     },
     "output_type": "display_data"
    },
    {
     "name": "stdout",
     "output_type": "stream",
     "text": [
      "State Step 10\n",
      "Action Taken: U \n",
      "Action Performed: U \n",
      "Reward: 0.0\n"
     ]
    },
    {
     "data": {
      "image/png": "[encoded data removed]",
      "text/plain": [
       "<Figure size 720x720 with 1 Axes>"
      ]
     },
     "metadata": {
      "needs_background": "light"
     },
     "output_type": "display_data"
    },
    {
     "data": {},
     "metadata": {
      "outputarea": {
       "add_tags": [],
       "nodisplay": true,
       "remove_tags": [
        "user_output"
       ]
      }
     },
     "output_type": "display_data"
    },
    {
     "data": {
      "application/javascript": "window[\"85d0b6cc-3561-11ed-9391-dfa639052c5f\"] = google.colab.output.setActiveOutputArea(window[\"859c4a0e-3561-11ed-9391-dfa639052c5f\"]);\n//# sourceURL=js_528b78eb7b",
      "text/plain": [
       "<IPython.core.display.Javascript object>"
      ]
     },
     "metadata": {},
     "output_type": "display_data"
    },
    {
     "data": {},
     "metadata": {
      "outputarea": {
       "add_tags": [],
       "nodisplay": true,
       "remove_tags": [
        "id8-0-0"
       ]
      }
     },
     "output_type": "display_data"
    },
    {
     "data": {},
     "metadata": {
      "outputarea": {
       "add_tags": [],
       "nodisplay": true,
       "remove_tags": [
        "outputarea_id8"
       ]
      }
     },
     "output_type": "display_data"
    },
    {
     "name": "stdout",
     "output_type": "stream",
     "text": [
      "Cumulative Reward -1.0\n"
     ]
    }
   ],
   "source": [
    "env = MyMarioEnvironment(environment=STATES,actions=ACTIONS,rewards=REWARDS,p_transition=0.8,max_timestep=10, environment_type='stochastic')\n",
    "mario = RandomMarioAgent(env,animate=False)\n",
    "mario.run()"
   ]
  }
 ],
 "metadata": {
  "kernelspec": {
   "display_name": "Python 3.9.12 ('base')",
   "language": "python",
   "name": "python3"
  },
  "language_info": {
   "codemirror_mode": {
    "name": "ipython",
    "version": 3
   },
   "file_extension": ".py",
   "mimetype": "text/x-python",
   "name": "python",
   "nbconvert_exporter": "python",
   "pygments_lexer": "ipython3",
   "version": "3.9.12"
  },
  "orig_nbformat": 4,
  "vscode": {
   "interpreter": {
    "hash": "e0d439f0858c56eec0cfe097fafb28e9e852e5dab10a3d76cd1e7005c523453d"
   }
  }
 },
 "nbformat": 4,
 "nbformat_minor": 2
}
